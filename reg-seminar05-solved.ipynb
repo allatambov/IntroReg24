{
 "cells": [
  {
   "cell_type": "markdown",
   "metadata": {},
   "source": [
    "# Введение в регрессионный анализ\n",
    "## Семинар 5. Парные и множественные модели. Мера $R^2$\n",
    "\n",
    "*Алла Тамбовцева*\n",
    "\n",
    "### Контекст исследования\n",
    "\n",
    "В файле `english.csv` сохранены результаты психолингвистического исследования, посвященного узнаваемости слов (*lexical decision & word naming*). В такого рода исследованиях участникам эксперимента предлагают определить, является ли слово, которое они видят на экране, реально существующим в языке или нет. Другими словами, настоящее это слово или что-то выдуманное, но созданное по правилам языка. Если участники узнают слово, они должны прочитать его вслух и нажать на специальную кнопку. Время, затраченное на узнавание слова фиксируется и измеряется в милисекундах: \n",
    "насколько быстро человек нажал на кнопку (реальное слово или нет, *lexical decision*), \n",
    "или прочитал слово (*word naming*).\n",
    "\n",
    "### Переменные \n",
    "\n",
    "Некоторые из переменных (в файле `english.csv` отобраны только случаи с реально существующими словами, иначе грамматические характеристики ниже будут неприменимы):\n",
    "\n",
    "* `AgeSubject`: молодой участник эксперимента или нет;\n",
    "* `WordCategory`: часть речи (`N` – существительное, `V` – глагол);\n",
    "* `RTlexdec`: время в милисекундах, затраченное на узнавание слова (с момента появления слова на экране до нажатия кнопки, реальное слово или нет);\n",
    "* `RTnaming`: время в милисекундах, затраченное на называние слова (с момента появления слова на экране до произнесения его вслух);\n",
    "* `WrittenFrequency`: мера того, насколько часто слово встречается в письменных текстах;\n",
    "* `LengthInLetters`: длина слова в буквах;\n",
    "* `FamilySize`: мера того, насколько богата морфологическая семья слова (как много однокоренных слов с разной частью речи);\n",
    "* `NumberSimplexSynsets`: мера того, насколько у слова много синонимов."
   ]
  },
  {
   "cell_type": "markdown",
   "metadata": {},
   "source": [
    "### План нашего исследования\n",
    "\n",
    "1. Сравнить среднее время в милисекундах, затраченное на узнавание слова (`RTlexdec`) молодыми участниками эксперимента и более старшими. Проверить значимость различий на 95%-ном уровне доверия с помощью подходящего статистического критерия.\n",
    "\n",
    "2. Выбрать строки, соответствующие молодым участникам эксперимента. На этой подвыборке:\n",
    "\n",
    " * построить модель, которая объясняет, как время, затрачиваемое на узнавание слова, зависит от его встречаемости в письменных текстах; прокомментировать результаты и качество полученной модели;\n",
    "\n",
    " * построить модель, которая объясняет, как время, затрачиваемое на узнавание слова, зависит от его встречаемости в письменных текстах, его длины, размера морфологической семьи и количества синонимов; прокомментировать результаты и качество полученной модели.\n",
    " \n",
    "3. Выбрать строки, соответствующие более старшим участникам эксперимента. На этой подвыборке построить те же модели, что и выше. Прокомментировать полученные результаты."
   ]
  },
  {
   "cell_type": "markdown",
   "metadata": {},
   "source": [
    "### Часть 1: знакомство с данными и сравнение групп\n",
    "\n",
    "Импортируем необходимые инструменты для работы:\n",
    "\n",
    "* библиотеку `pandas` для работы с данными;\n",
    "* модуль `stats` из библиотеки `scipy` для реализации t-теста;\n",
    "* функцию `ols` из библиотеки `statsmodels` для построения моделей."
   ]
  },
  {
   "cell_type": "code",
   "execution_count": 2,
   "metadata": {},
   "outputs": [],
   "source": [
    "import pandas as pd\n",
    "from scipy import stats\n",
    "from statsmodels.formula.api import ols"
   ]
  },
  {
   "cell_type": "markdown",
   "metadata": {},
   "source": [
    "Загрузим данные:"
   ]
  },
  {
   "cell_type": "code",
   "execution_count": 3,
   "metadata": {},
   "outputs": [
    {
     "data": {
      "text/html": [
       "<div>\n",
       "<style scoped>\n",
       "    .dataframe tbody tr th:only-of-type {\n",
       "        vertical-align: middle;\n",
       "    }\n",
       "\n",
       "    .dataframe tbody tr th {\n",
       "        vertical-align: top;\n",
       "    }\n",
       "\n",
       "    .dataframe thead th {\n",
       "        text-align: right;\n",
       "    }\n",
       "</style>\n",
       "<table border=\"1\" class=\"dataframe\">\n",
       "  <thead>\n",
       "    <tr style=\"text-align: right;\">\n",
       "      <th></th>\n",
       "      <th>AgeSubject</th>\n",
       "      <th>WordCategory</th>\n",
       "      <th>RTlexdec</th>\n",
       "      <th>RTnaming</th>\n",
       "      <th>WrittenFrequency</th>\n",
       "      <th>LengthInLetters</th>\n",
       "      <th>FamilySize</th>\n",
       "      <th>NumberSimplexSynsets</th>\n",
       "    </tr>\n",
       "  </thead>\n",
       "  <tbody>\n",
       "    <tr>\n",
       "      <th>0</th>\n",
       "      <td>young</td>\n",
       "      <td>N</td>\n",
       "      <td>6.543754</td>\n",
       "      <td>6.145044</td>\n",
       "      <td>3.912023</td>\n",
       "      <td>3</td>\n",
       "      <td>1.386294</td>\n",
       "      <td>0.693147</td>\n",
       "    </tr>\n",
       "    <tr>\n",
       "      <th>1</th>\n",
       "      <td>young</td>\n",
       "      <td>N</td>\n",
       "      <td>6.397596</td>\n",
       "      <td>6.246882</td>\n",
       "      <td>4.521789</td>\n",
       "      <td>5</td>\n",
       "      <td>1.386294</td>\n",
       "      <td>1.098612</td>\n",
       "    </tr>\n",
       "    <tr>\n",
       "      <th>2</th>\n",
       "      <td>young</td>\n",
       "      <td>N</td>\n",
       "      <td>6.304942</td>\n",
       "      <td>6.143756</td>\n",
       "      <td>6.505784</td>\n",
       "      <td>6</td>\n",
       "      <td>1.609438</td>\n",
       "      <td>2.484907</td>\n",
       "    </tr>\n",
       "    <tr>\n",
       "      <th>3</th>\n",
       "      <td>young</td>\n",
       "      <td>N</td>\n",
       "      <td>6.424221</td>\n",
       "      <td>6.131878</td>\n",
       "      <td>5.017280</td>\n",
       "      <td>4</td>\n",
       "      <td>1.945910</td>\n",
       "      <td>1.098612</td>\n",
       "    </tr>\n",
       "    <tr>\n",
       "      <th>4</th>\n",
       "      <td>young</td>\n",
       "      <td>N</td>\n",
       "      <td>6.450597</td>\n",
       "      <td>6.198479</td>\n",
       "      <td>4.890349</td>\n",
       "      <td>4</td>\n",
       "      <td>2.197225</td>\n",
       "      <td>2.484907</td>\n",
       "    </tr>\n",
       "  </tbody>\n",
       "</table>\n",
       "</div>"
      ],
      "text/plain": [
       "  AgeSubject WordCategory  RTlexdec  RTnaming  WrittenFrequency  \\\n",
       "0      young            N  6.543754  6.145044          3.912023   \n",
       "1      young            N  6.397596  6.246882          4.521789   \n",
       "2      young            N  6.304942  6.143756          6.505784   \n",
       "3      young            N  6.424221  6.131878          5.017280   \n",
       "4      young            N  6.450597  6.198479          4.890349   \n",
       "\n",
       "   LengthInLetters  FamilySize  NumberSimplexSynsets  \n",
       "0                3    1.386294              0.693147  \n",
       "1                5    1.386294              1.098612  \n",
       "2                6    1.609438              2.484907  \n",
       "3                4    1.945910              1.098612  \n",
       "4                4    2.197225              2.484907  "
      ]
     },
     "execution_count": 3,
     "metadata": {},
     "output_type": "execute_result"
    }
   ],
   "source": [
    "df = pd.read_csv(\"english.csv\")\n",
    "df.head()"
   ]
  },
  {
   "cell_type": "markdown",
   "metadata": {},
   "source": [
    "Посмотрим, в каком формате представлен возраст участников эксперимента:"
   ]
  },
  {
   "cell_type": "code",
   "execution_count": 4,
   "metadata": {},
   "outputs": [
    {
     "data": {
      "text/plain": [
       "young    2284\n",
       "old      2284\n",
       "Name: AgeSubject, dtype: int64"
      ]
     },
     "execution_count": 4,
     "metadata": {},
     "output_type": "execute_result"
    }
   ],
   "source": [
    "# одинаковое число в категориях young и old\n",
    "# одинаковое число молодых и не очень\n",
    "\n",
    "df[\"AgeSubject\"].value_counts()"
   ]
  },
  {
   "cell_type": "markdown",
   "metadata": {},
   "source": [
    "Сгруппируем строки в таблице на основе возраста участников эксперимента (`AgeSubject`) и выведем описательные статистики для времени в милисекундах, затраченное на узнавание слова (`RTlexdec`) по группам:"
   ]
  },
  {
   "cell_type": "code",
   "execution_count": 5,
   "metadata": {},
   "outputs": [
    {
     "data": {
      "text/html": [
       "<div>\n",
       "<style scoped>\n",
       "    .dataframe tbody tr th:only-of-type {\n",
       "        vertical-align: middle;\n",
       "    }\n",
       "\n",
       "    .dataframe tbody tr th {\n",
       "        vertical-align: top;\n",
       "    }\n",
       "\n",
       "    .dataframe thead th {\n",
       "        text-align: right;\n",
       "    }\n",
       "</style>\n",
       "<table border=\"1\" class=\"dataframe\">\n",
       "  <thead>\n",
       "    <tr style=\"text-align: right;\">\n",
       "      <th></th>\n",
       "      <th>count</th>\n",
       "      <th>mean</th>\n",
       "      <th>std</th>\n",
       "      <th>min</th>\n",
       "      <th>25%</th>\n",
       "      <th>50%</th>\n",
       "      <th>75%</th>\n",
       "      <th>max</th>\n",
       "    </tr>\n",
       "    <tr>\n",
       "      <th>AgeSubject</th>\n",
       "      <th></th>\n",
       "      <th></th>\n",
       "      <th></th>\n",
       "      <th></th>\n",
       "      <th></th>\n",
       "      <th></th>\n",
       "      <th></th>\n",
       "      <th></th>\n",
       "    </tr>\n",
       "  </thead>\n",
       "  <tbody>\n",
       "    <tr>\n",
       "      <th>old</th>\n",
       "      <td>2284.0</td>\n",
       "      <td>6.660958</td>\n",
       "      <td>0.115588</td>\n",
       "      <td>6.403193</td>\n",
       "      <td>6.574678</td>\n",
       "      <td>6.642135</td>\n",
       "      <td>6.728554</td>\n",
       "      <td>7.187808</td>\n",
       "    </tr>\n",
       "    <tr>\n",
       "      <th>young</th>\n",
       "      <td>2284.0</td>\n",
       "      <td>6.439237</td>\n",
       "      <td>0.106331</td>\n",
       "      <td>6.205325</td>\n",
       "      <td>6.359345</td>\n",
       "      <td>6.425606</td>\n",
       "      <td>6.510363</td>\n",
       "      <td>6.879150</td>\n",
       "    </tr>\n",
       "  </tbody>\n",
       "</table>\n",
       "</div>"
      ],
      "text/plain": [
       "             count      mean       std       min       25%       50%  \\\n",
       "AgeSubject                                                             \n",
       "old         2284.0  6.660958  0.115588  6.403193  6.574678  6.642135   \n",
       "young       2284.0  6.439237  0.106331  6.205325  6.359345  6.425606   \n",
       "\n",
       "                 75%       max  \n",
       "AgeSubject                      \n",
       "old         6.728554  7.187808  \n",
       "young       6.510363  6.879150  "
      ]
     },
     "execution_count": 5,
     "metadata": {},
     "output_type": "execute_result"
    }
   ],
   "source": [
    "df.groupby(\"AgeSubject\")[\"RTlexdec\"].describe()"
   ]
  },
  {
   "cell_type": "markdown",
   "metadata": {},
   "source": [
    "Молодые участники, в целом, узнают слова быстрее, чем более старшие (среднее и медианное значения в этой группе ниже, то же можно сказать и про минимальное с максимальным). Однако разница в средних кажется небольшой – примерно 0.2. Изучим распределение времени узнавания слова по группам с помощью гистограмм: "
   ]
  },
  {
   "cell_type": "code",
   "execution_count": 6,
   "metadata": {},
   "outputs": [
    {
     "data": {
      "image/png": "[encoded data removed]",
      "text/plain": [
       "<Figure size 432x288 with 2 Axes>"
      ]
     },
     "metadata": {
      "needs_background": "light"
     },
     "output_type": "display_data"
    }
   ],
   "source": [
    "df.hist(\"RTlexdec\", edgecolor = \"white\", by = \"AgeSubject\");"
   ]
  },
  {
   "cell_type": "markdown",
   "metadata": {},
   "source": [
    "Распределение времени угадывания слова в двух группах похоже по форме, наблюдается небольшая скошенность вправо. Гистограммы позволяют более наглядно понять, что 0.2 мс в контексте изучаемых данных – не так уж и мало, в интервале длины 0.2 может находиться достаточно много наблюдений (если не рассматривать более редкие значения в хвостах распределения).\n",
    "\n",
    "Проверим формально, можно ли считать среднее время узнавания слова молодыми и старшими участниками одинаковым. Вспомним про критерий Стьюдента для двух независимых выборок! Для его применения необходимо поделить данные на группы, то есть отфильтровать строки с молодыми и более старшими участниками в отдельные датафреймы:"
   ]
  },
  {
   "cell_type": "code",
   "execution_count": 7,
   "metadata": {},
   "outputs": [],
   "source": [
    "young = df[df[\"AgeSubject\"] == \"young\"]\n",
    "old = df[df[\"AgeSubject\"] == \"old\"]"
   ]
  },
  {
   "cell_type": "markdown",
   "metadata": {},
   "source": [
    "Реализуем критерий Стьюдента – проверяем гипотезу о том, что среднее время угадывания слов молодыми и старшими участниками равно, $H_0: E(x) = E(y)$."
   ]
  },
  {
   "cell_type": "code",
   "execution_count": 8,
   "metadata": {},
   "outputs": [
    {
     "data": {
      "text/plain": [
       "Ttest_indResult(statistic=-67.46820211231773, pvalue=0.0)"
      ]
     },
     "execution_count": 8,
     "metadata": {},
     "output_type": "execute_result"
    }
   ],
   "source": [
    "stats.ttest_ind(young[\"RTlexdec\"], old[\"RTlexdec\"])"
   ]
  },
  {
   "cell_type": "markdown",
   "metadata": {},
   "source": [
    "Получили очень большое по модулю наблюдаемое значение t-статистики и p-value равное 0. На уровне доверия 95% гипотезу следует отвергнуть, средние не равны, молодые участники, в среднем, узнают слова быстрее."
   ]
  },
  {
   "cell_type": "markdown",
   "metadata": {},
   "source": [
    "### Часть 2: регрессионные модели"
   ]
  },
  {
   "cell_type": "markdown",
   "metadata": {},
   "source": [
    "Построим модель парной линейной регрессии, которая которая объясняет, как время, затрачиваемое на узнавание слова (`RTlexdec`), зависит от его встречаемости в письменных текстах (`WrittenFrequency`):"
   ]
  },
  {
   "cell_type": "code",
   "execution_count": 9,
   "metadata": {},
   "outputs": [
    {
     "name": "stdout",
     "output_type": "stream",
     "text": [
      "                            OLS Regression Results                            \n",
      "==============================================================================\n",
      "Dep. Variable:               RTlexdec   R-squared:                       0.414\n",
      "Model:                            OLS   Adj. R-squared:                  0.414\n",
      "Method:                 Least Squares   F-statistic:                     1612.\n",
      "Date:                Mon, 14 Oct 2024   Prob (F-statistic):          3.88e-267\n",
      "Time:                        05:03:07   Log-Likelihood:                 2488.9\n",
      "No. Observations:                2284   AIC:                            -4974.\n",
      "Df Residuals:                    2282   BIC:                            -4962.\n",
      "Df Model:                           1                                         \n",
      "Covariance Type:            nonrobust                                         \n",
      "====================================================================================\n",
      "                       coef    std err          t      P>|t|      [0.025      0.975]\n",
      "------------------------------------------------------------------------------------\n",
      "Intercept            6.6256      0.005   1340.341      0.000       6.616       6.635\n",
      "WrittenFrequency    -0.0371      0.001    -40.152      0.000      -0.039      -0.035\n",
      "==============================================================================\n",
      "Omnibus:                       42.638   Durbin-Watson:                   1.978\n",
      "Prob(Omnibus):                  0.000   Jarque-Bera (JB):               47.057\n",
      "Skew:                           0.297   Prob(JB):                     6.05e-11\n",
      "Kurtosis:                       3.377   Cond. No.                         16.0\n",
      "==============================================================================\n",
      "\n",
      "Warnings:\n",
      "[1] Standard Errors assume that the covariance matrix of the errors is correctly specified.\n"
     ]
    }
   ],
   "source": [
    "model01 = ols(\"RTlexdec ~ WrittenFrequency\", data = young).fit()\n",
    "print(model01.summary())"
   ]
  },
  {
   "cell_type": "markdown",
   "metadata": {},
   "source": [
    "**Интерпретация.**\n",
    "\n",
    "* Уравнение: $\\widehat{\\text{RTlexdec_}i} = 6.63 - 0.04 \\times \\text{WrittenFrequency}_i$. \n",
    "* При увеличении показателя встречаемости слова в письменных текстах на единицу, время узнавания слова, в среднем, уменьшается на 0.04 мс. Логичная обратная связь между показателями, чем чаще слово можно встретить в текстах, тем быстрее его узнают, видя на экране. Коэффициент значимо отличен от нуля, так как гипотеза $H_0: b_1 = 0$ отвергается на любом уровне значимости (наблюдаемое значение статистики `t=-40.152`, p-value равно 0), то есть эффект `WrittenFrequency` действительно есть, значение оценки коэффициента (-0.04) нельзя объяснить чистой случайностью.\n",
    "* Согласно модели, среднее время узнавания слова, которое не встречается в письменных текстах (`WrittenFrequency` равно 0), составляет 6.63 мс. Теоретически это могло бы быть выдуманное слово, но в нашем случае в данных только реально существующие. Однако константа нас интересует редко, недостаточно реалистичная интерпретация не должна смущать.\n",
    "* $R^2$ модели равен 0.414, модель объясняет примерно 41% дисперсии зависимой переменной. То, насколько разнообразны значения времени узнавания слова в эксперименте, можно на 41% объяснить разнообразием значений меры встречамости слова в письменных текстах.\n",
    "* Так как модель парная, $R^2$ здесь – это коэффициент Пирсона, возведённый в квадрат. Модуль коэффициента Пирсона равен квадратному корню из 0.414, примерно 0.64. Однако сам коэффициент Пирсона равен (-0.64), так как по оценке коэффициента при `WrittenFrequency` видно, что связь между показателями обратная."
   ]
  },
  {
   "cell_type": "markdown",
   "metadata": {},
   "source": [
    "Построим модель, которая объясняет, как время, затрачиваемое на узнавание слова (`RTlexdec`), зависит от его встречаемости в письменных текстах (`WrittenFrequency`), его длины (`LengthInLetters`), размера морфологической семьи (`FamilySize`) и количества синонимов (`NumberSimplexSynsets`)."
   ]
  },
  {
   "cell_type": "code",
   "execution_count": 10,
   "metadata": {},
   "outputs": [
    {
     "name": "stdout",
     "output_type": "stream",
     "text": [
      "                            OLS Regression Results                            \n",
      "==============================================================================\n",
      "Dep. Variable:               RTlexdec   R-squared:                       0.432\n",
      "Model:                            OLS   Adj. R-squared:                  0.431\n",
      "Method:                 Least Squares   F-statistic:                     433.9\n",
      "Date:                Mon, 14 Oct 2024   Prob (F-statistic):          3.06e-278\n",
      "Time:                        05:03:09   Log-Likelihood:                 2525.2\n",
      "No. Observations:                2284   AIC:                            -5040.\n",
      "Df Residuals:                    2279   BIC:                            -5012.\n",
      "Df Model:                           4                                         \n",
      "Covariance Type:            nonrobust                                         \n",
      "========================================================================================\n",
      "                           coef    std err          t      P>|t|      [0.025      0.975]\n",
      "----------------------------------------------------------------------------------------\n",
      "Intercept                6.6297      0.010    634.371      0.000       6.609       6.650\n",
      "WrittenFrequency        -0.0297      0.001    -23.462      0.000      -0.032      -0.027\n",
      "LengthInLetters          0.0023      0.002      1.163      0.245      -0.002       0.006\n",
      "FamilySize              -0.0157      0.003     -5.333      0.000      -0.021      -0.010\n",
      "NumberSimplexSynsets    -0.0135      0.003     -4.156      0.000      -0.020      -0.007\n",
      "==============================================================================\n",
      "Omnibus:                       35.471   Durbin-Watson:                   1.964\n",
      "Prob(Omnibus):                  0.000   Jarque-Bera (JB):               39.569\n",
      "Skew:                           0.259   Prob(JB):                     2.56e-09\n",
      "Kurtosis:                       3.384   Cond. No.                         46.4\n",
      "==============================================================================\n",
      "\n",
      "Warnings:\n",
      "[1] Standard Errors assume that the covariance matrix of the errors is correctly specified.\n"
     ]
    }
   ],
   "source": [
    "model02 = ols(\"RTlexdec ~ WrittenFrequency + LengthInLetters + FamilySize + NumberSimplexSynsets\", \n",
    "              data = young).fit()\n",
    "print(model02.summary())"
   ]
  },
  {
   "cell_type": "markdown",
   "metadata": {},
   "source": [
    "**Интерпретация.**\n",
    "\n",
    "* Уравнение: $$\\widehat{\\text{RTlexdec_}i} = 6.63 - 0.03 \\times \\text{WrittenFrequency}_i + 0.002 \\times \\text{LengthInLetters}_i -0.02 \\times \\text{FamilySize}_i - 0.01 \\times \\text{NumberSimplexSynsets}_i.$$\n",
    "* Согласно модели, среднее время узнавания слова, которое не встречается в письменных текстах (`WrittenFrequency` равно 0), имеет длину 0 (`LengthInLetter` равно 0), не имеет однокоренных слов и синонимов (`FamilySize` и `NumberSimplexSynsets` равны 0), составляет 6.63 мс. Тоже звучит не очень реалистично, но константу из модели мы не выкидываем.\n",
    "* **При прочих равных условиях,** при увеличении показателя встречаемости слова в письменных текстах на единицу, время узнавания слова, в среднем, уменьшается на 0.03 мс. При прочих равных условиях в данном случае – если мы сравниваем слова одинаковой длины, с одинаковым числом однокоренных слов и синонимов, то есть слова, которые отличаются только по показателю `WrittenFrequency`.\n",
    "* **При прочих равных условиях,** при увеличении длины слова на одну букву, время узнавания слова, в среднем, увеличивается на 0.002 мс. Однако этот коэффициент не имеет смысла интерпретировать, p-value равно 0.245, а значит, на любом уровне значимости гипотеза о равенстве коэффициента при `LengthInLetter` нулю не отвергается. Длина слова не оказывает особого эффекта на его узнаваемость (точнее, на время, затрачиваемое на узнавание).\n",
    "* **При прочих равных условиях,** при увеличении размера морфологической семьи на единицу, время узнавания слова, в среднем, уменьшается на 0.02 мс. Эффект статистически значимый, все вполне логично, чем больше однокоренных слов у слова, тем чаще оно возникает в разных контекстах, а значит, тем быстрее оно узнается.\n",
    "* **При прочих равных условиях,** при увеличении количества синонимов (количества семейств синонимов) на единицу, время узнавания слова, в среднем, уменьшается на 0.01 мс. Эффект статистически значимый, и обратная связь здесь тоже ожидаема.\n",
    "* $R^2$ модели равен 0.432, модель объясняет примерно 43% дисперсии зависимой переменной. То, насколько разнообразны значения времени узнавания слова в эксперименте, можно на 43% объяснить разнообразием значений перечисленных в модели факторов."
   ]
  },
  {
   "cell_type": "markdown",
   "metadata": {},
   "source": [
    "P.S. Пункт 3 плана работы в начале файла можно считать необязательным домашним заданием :) Кто хочет побольше поизучать эффект построения моделей на разных подвыборках и понять, почему деление на группы по возрасту здесь важно, может дополнительно построить регрессионные модели на основе всех наблюдений в `df` и посмотреть, что произойдёт в таком случае с коэффициентами и $R^2$."
   ]
  }
 ],
 "metadata": {
  "kernelspec": {
   "display_name": "Python 3",
   "language": "python",
   "name": "python3"
  },
  "language_info": {
   "codemirror_mode": {
    "name": "ipython",
    "version": 3
   },
   "file_extension": ".py",
   "mimetype": "text/x-python",
   "name": "python",
   "nbconvert_exporter": "python",
   "pygments_lexer": "ipython3",
   "version": "3.7.4"
  }
 },
 "nbformat": 4,
 "nbformat_minor": 2
}
