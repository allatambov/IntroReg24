{
 "cells": [
  {
   "cell_type": "markdown",
   "metadata": {},
   "source": [
    "# Введение в регрессионный анализ\n",
    "\n",
    "## Необязательное домашнее задание №2\n",
    "\n",
    "*Алла Тамбовцева*\n",
    "\n",
    "В задании предлагается поработать с файлом `salaries.csv`. Показатели в файле:\n",
    "\n",
    "В этом файле сохранены данные по сотрудникам университета в США, а именно следующие их характеристики:\n",
    "\n",
    "* `rank`: должность;\n",
    "* `discipline`: тип преподаваемой дисциплины (`A` – теоретическая, `B` – практическая);\n",
    "* `phd`: число лет с момента получения степени PhD;\n",
    "* `service`: число лет опыта работы;\n",
    "* `sex`: пол;\n",
    "* `salary`: заработная плата за 9 месяцев, в долларах."
   ]
  },
  {
   "cell_type": "markdown",
   "metadata": {},
   "source": [
    "### Задание 1\n",
    "\n",
    "Загрузите данные из файла `salaries.csv` и сохраните их в датафрейм `df`. Выведите описательные статистики для всех числовых столбцов датафрейма. Выведите описательные статистики для всех текстовых столбцов датафрейма. "
   ]
  },
  {
   "cell_type": "code",
   "execution_count": 1,
   "metadata": {},
   "outputs": [],
   "source": [
    "import pandas as pd"
   ]
  },
  {
   "cell_type": "code",
   "execution_count": 2,
   "metadata": {},
   "outputs": [
    {
     "data": {
      "text/html": [
       "<div>\n",
       "<style scoped>\n",
       "    .dataframe tbody tr th:only-of-type {\n",
       "        vertical-align: middle;\n",
       "    }\n",
       "\n",
       "    .dataframe tbody tr th {\n",
       "        vertical-align: top;\n",
       "    }\n",
       "\n",
       "    .dataframe thead th {\n",
       "        text-align: right;\n",
       "    }\n",
       "</style>\n",
       "<table border=\"1\" class=\"dataframe\">\n",
       "  <thead>\n",
       "    <tr style=\"text-align: right;\">\n",
       "      <th></th>\n",
       "      <th>Unnamed: 0</th>\n",
       "      <th>phd</th>\n",
       "      <th>service</th>\n",
       "      <th>salary</th>\n",
       "    </tr>\n",
       "  </thead>\n",
       "  <tbody>\n",
       "    <tr>\n",
       "      <th>count</th>\n",
       "      <td>397.000000</td>\n",
       "      <td>397.000000</td>\n",
       "      <td>397.000000</td>\n",
       "      <td>397.000000</td>\n",
       "    </tr>\n",
       "    <tr>\n",
       "      <th>mean</th>\n",
       "      <td>199.000000</td>\n",
       "      <td>22.314861</td>\n",
       "      <td>17.614610</td>\n",
       "      <td>113706.458438</td>\n",
       "    </tr>\n",
       "    <tr>\n",
       "      <th>std</th>\n",
       "      <td>114.748275</td>\n",
       "      <td>12.887003</td>\n",
       "      <td>13.006024</td>\n",
       "      <td>30289.038695</td>\n",
       "    </tr>\n",
       "    <tr>\n",
       "      <th>min</th>\n",
       "      <td>1.000000</td>\n",
       "      <td>1.000000</td>\n",
       "      <td>0.000000</td>\n",
       "      <td>57800.000000</td>\n",
       "    </tr>\n",
       "    <tr>\n",
       "      <th>25%</th>\n",
       "      <td>100.000000</td>\n",
       "      <td>12.000000</td>\n",
       "      <td>7.000000</td>\n",
       "      <td>91000.000000</td>\n",
       "    </tr>\n",
       "    <tr>\n",
       "      <th>50%</th>\n",
       "      <td>199.000000</td>\n",
       "      <td>21.000000</td>\n",
       "      <td>16.000000</td>\n",
       "      <td>107300.000000</td>\n",
       "    </tr>\n",
       "    <tr>\n",
       "      <th>75%</th>\n",
       "      <td>298.000000</td>\n",
       "      <td>32.000000</td>\n",
       "      <td>27.000000</td>\n",
       "      <td>134185.000000</td>\n",
       "    </tr>\n",
       "    <tr>\n",
       "      <th>max</th>\n",
       "      <td>397.000000</td>\n",
       "      <td>56.000000</td>\n",
       "      <td>60.000000</td>\n",
       "      <td>231545.000000</td>\n",
       "    </tr>\n",
       "  </tbody>\n",
       "</table>\n",
       "</div>"
      ],
      "text/plain": [
       "       Unnamed: 0         phd     service         salary\n",
       "count  397.000000  397.000000  397.000000     397.000000\n",
       "mean   199.000000   22.314861   17.614610  113706.458438\n",
       "std    114.748275   12.887003   13.006024   30289.038695\n",
       "min      1.000000    1.000000    0.000000   57800.000000\n",
       "25%    100.000000   12.000000    7.000000   91000.000000\n",
       "50%    199.000000   21.000000   16.000000  107300.000000\n",
       "75%    298.000000   32.000000   27.000000  134185.000000\n",
       "max    397.000000   56.000000   60.000000  231545.000000"
      ]
     },
     "execution_count": 2,
     "metadata": {},
     "output_type": "execute_result"
    }
   ],
   "source": [
    "df = pd.read_csv(\"salaries.csv\")\n",
    "df.describe()"
   ]
  },
  {
   "cell_type": "code",
   "execution_count": 4,
   "metadata": {},
   "outputs": [
    {
     "data": {
      "text/html": [
       "<div>\n",
       "<style scoped>\n",
       "    .dataframe tbody tr th:only-of-type {\n",
       "        vertical-align: middle;\n",
       "    }\n",
       "\n",
       "    .dataframe tbody tr th {\n",
       "        vertical-align: top;\n",
       "    }\n",
       "\n",
       "    .dataframe thead th {\n",
       "        text-align: right;\n",
       "    }\n",
       "</style>\n",
       "<table border=\"1\" class=\"dataframe\">\n",
       "  <thead>\n",
       "    <tr style=\"text-align: right;\">\n",
       "      <th></th>\n",
       "      <th>rank</th>\n",
       "      <th>discipline</th>\n",
       "      <th>sex</th>\n",
       "    </tr>\n",
       "  </thead>\n",
       "  <tbody>\n",
       "    <tr>\n",
       "      <th>count</th>\n",
       "      <td>397</td>\n",
       "      <td>397</td>\n",
       "      <td>397</td>\n",
       "    </tr>\n",
       "    <tr>\n",
       "      <th>unique</th>\n",
       "      <td>3</td>\n",
       "      <td>2</td>\n",
       "      <td>2</td>\n",
       "    </tr>\n",
       "    <tr>\n",
       "      <th>top</th>\n",
       "      <td>Prof</td>\n",
       "      <td>B</td>\n",
       "      <td>Male</td>\n",
       "    </tr>\n",
       "    <tr>\n",
       "      <th>freq</th>\n",
       "      <td>266</td>\n",
       "      <td>216</td>\n",
       "      <td>358</td>\n",
       "    </tr>\n",
       "  </tbody>\n",
       "</table>\n",
       "</div>"
      ],
      "text/plain": [
       "        rank discipline   sex\n",
       "count    397        397   397\n",
       "unique     3          2     2\n",
       "top     Prof          B  Male\n",
       "freq     266        216   358"
      ]
     },
     "execution_count": 4,
     "metadata": {},
     "output_type": "execute_result"
    }
   ],
   "source": [
    "df.describe(include=\"object\")"
   ]
  },
  {
   "cell_type": "markdown",
   "metadata": {},
   "source": [
    "### Задание 2\n",
    "\n",
    "Сгруппируйте строки датафрейма `df` по полу сотрудника и выведите описательные статистики для заработной платы для мужчин и женщин. Прокомментируте полученные результаты. "
   ]
  },
  {
   "cell_type": "code",
   "execution_count": 5,
   "metadata": {},
   "outputs": [
    {
     "data": {
      "text/html": [
       "<div>\n",
       "<style scoped>\n",
       "    .dataframe tbody tr th:only-of-type {\n",
       "        vertical-align: middle;\n",
       "    }\n",
       "\n",
       "    .dataframe tbody tr th {\n",
       "        vertical-align: top;\n",
       "    }\n",
       "\n",
       "    .dataframe thead th {\n",
       "        text-align: right;\n",
       "    }\n",
       "</style>\n",
       "<table border=\"1\" class=\"dataframe\">\n",
       "  <thead>\n",
       "    <tr style=\"text-align: right;\">\n",
       "      <th></th>\n",
       "      <th>count</th>\n",
       "      <th>mean</th>\n",
       "      <th>std</th>\n",
       "      <th>min</th>\n",
       "      <th>25%</th>\n",
       "      <th>50%</th>\n",
       "      <th>75%</th>\n",
       "      <th>max</th>\n",
       "    </tr>\n",
       "    <tr>\n",
       "      <th>sex</th>\n",
       "      <th></th>\n",
       "      <th></th>\n",
       "      <th></th>\n",
       "      <th></th>\n",
       "      <th></th>\n",
       "      <th></th>\n",
       "      <th></th>\n",
       "      <th></th>\n",
       "    </tr>\n",
       "  </thead>\n",
       "  <tbody>\n",
       "    <tr>\n",
       "      <th>Female</th>\n",
       "      <td>39.0</td>\n",
       "      <td>101002.410256</td>\n",
       "      <td>25952.127317</td>\n",
       "      <td>62884.0</td>\n",
       "      <td>77250.0</td>\n",
       "      <td>103750.0</td>\n",
       "      <td>117002.50</td>\n",
       "      <td>161101.0</td>\n",
       "    </tr>\n",
       "    <tr>\n",
       "      <th>Male</th>\n",
       "      <td>358.0</td>\n",
       "      <td>115090.418994</td>\n",
       "      <td>30436.927344</td>\n",
       "      <td>57800.0</td>\n",
       "      <td>92000.0</td>\n",
       "      <td>108043.0</td>\n",
       "      <td>134863.75</td>\n",
       "      <td>231545.0</td>\n",
       "    </tr>\n",
       "  </tbody>\n",
       "</table>\n",
       "</div>"
      ],
      "text/plain": [
       "        count           mean           std      min      25%       50%  \\\n",
       "sex                                                                      \n",
       "Female   39.0  101002.410256  25952.127317  62884.0  77250.0  103750.0   \n",
       "Male    358.0  115090.418994  30436.927344  57800.0  92000.0  108043.0   \n",
       "\n",
       "              75%       max  \n",
       "sex                          \n",
       "Female  117002.50  161101.0  \n",
       "Male    134863.75  231545.0  "
      ]
     },
     "execution_count": 5,
     "metadata": {},
     "output_type": "execute_result"
    }
   ],
   "source": [
    "# \n",
    "# однако минимальная заработная плата выше у женщин\n",
    "# среди мужчин, скорее всего, есть сотрудники с нетипично высокой з/п,\n",
    "# \n",
    "\n",
    "df.groupby(\"sex\")[\"salary\"].describe()"
   ]
  },
  {
   "cell_type": "markdown",
   "metadata": {},
   "source": [
    ">Средняя и медианная заработная плата мужчин выше, однако минимальная заработная плата выше у женщин. Среди мужчин, скорее всего, есть сотрудники с нетипично высокой зарплатой (верхний квартиль ~135 тысяч, максимум ~232 тысячи)."
   ]
  },
  {
   "cell_type": "markdown",
   "metadata": {},
   "source": [
    "### Задание 3\n",
    "\n",
    "Рассмотрим взаимосвязь между опытом работы (стаж в годах) и заработной платой сотрудников. Какая переменная является зависимой, а какая – независимой (объясняющей)? \n",
    "\n",
    "Постройте диаграмму рассеивания для визуализации связи между этими показателями, расположив независимую переменную по горизонтальной оси, зависимую – по вертикальной. Прокомментируйте полученный график. Можно ли считать связь между опытом работы и заработной платой линейной?"
   ]
  },
  {
   "cell_type": "code",
   "execution_count": 6,
   "metadata": {},
   "outputs": [
    {
     "data": {
      "image/png": "[encoded data removed]",
      "text/plain": [
       "<Figure size 432x288 with 1 Axes>"
      ]
     },
     "metadata": {
      "needs_background": "light"
     },
     "output_type": "display_data"
    }
   ],
   "source": [
    "# вариант 1: с plt как на семинаре\n",
    "\n",
    "from matplotlib import pyplot as plt\n",
    "plt.scatter(df[\"service\"], df[\"salary\"]);"
   ]
  },
  {
   "cell_type": "code",
   "execution_count": 7,
   "metadata": {},
   "outputs": [
    {
     "data": {
      "image/png": "[encoded data removed]",
      "text/plain": [
       "<Figure size 432x288 with 1 Axes>"
      ]
     },
     "metadata": {
      "needs_background": "light"
     },
     "output_type": "display_data"
    }
   ],
   "source": [
    "# вариант 2: только pandas, посимпатичнее\n",
    "\n",
    "df.plot(\"service\", \"salary\", kind = \"scatter\");"
   ]
  },
  {
   "cell_type": "markdown",
   "metadata": {},
   "source": [
    ">Зависимая переменная – заработная плата, независимая (объясняющая) – опыт работы в годах. Связь не очень похожа на линейную, зависимость больше похожа на квадратичную, точки формируют немного растянутую параболу с ветвями вниз. Пик/перегиб параболы в районе 20-25 лет, у сотрудников со стажем менее 20-25 лет с увеличением стажа заработная плата тоже увеличивается, а у сотрудников со стажем свыше 25 лет в большинстве случаев  наблюдается обратная зависимость, с годами заработная плата уменьшается."
   ]
  },
  {
   "cell_type": "markdown",
   "metadata": {},
   "source": [
    "### Задание 4\n",
    "\n",
    "Даже если связь между опытом работы и заработной платой не очень похожа на линейную, никто не запрещает оценивать на таких данных линейную регрессионную модель. Однако полученная модель будет не самого лучшего качества и, скорее всего, для неё не будут выполняться допущения, которые вы будете обсуждать на следующих лекциях. На практике в случаях, если есть основания считать, что связь между показателями больше похожа на квадратичную, чем на линейную, строят квадратичную регрессию или добавляют в линейную модель независимую переменную в квадрате (`y ~ x + x^2` вместо `y ~ x`), получая тем самым уже не парную, а множественную регрессию.\n",
    "\n",
    "Перед нами такой задачи не стоит, пока мы обсуждаем простую парную регрессию. Чтобы исключить эффект других факторов (помимо стажа), которые могут сказываться на заработной плате, возьмём выборку сотрудников с одинаковыми характеристиками.\n",
    "\n",
    "Выберите строки, соответствующие сотрудникам мужского пола (`Male`), преподающим практические дисциплины (`B`), и сохраните их в датафрейм `df_male`. Выберите строки, соответствующие сотрудникам женского пола, преподающим практические дисциплины (`B`), и сохраните их в датафрейм `df_female`."
   ]
  },
  {
   "cell_type": "code",
   "execution_count": 8,
   "metadata": {},
   "outputs": [],
   "source": [
    "df_male = df[(df[\"sex\"] == \"Male\") & (df[\"discipline\"] == \"B\")]\n",
    "df_female = df[(df[\"sex\"] == \"Female\") & (df[\"discipline\"] == \"B\")]"
   ]
  },
  {
   "cell_type": "markdown",
   "metadata": {},
   "source": [
    "### Задание 5\n",
    "\n",
    "Используя данные из датафрейма `df_male` и функцию `ols()` из библиотеки `statsmodels`, постройте линейную модель, которая описывает связь между опытом работы и заработной платой. Выведите оценки коэффициентов модели, проинтерпретируйте полученные результаты. Запишите уравнение полученной модели (с конкретными числами)."
   ]
  },
  {
   "cell_type": "code",
   "execution_count": 9,
   "metadata": {},
   "outputs": [
    {
     "name": "stderr",
     "output_type": "stream",
     "text": [
      "/opt/anaconda3/lib/python3.7/site-packages/statsmodels/tools/_testing.py:19: FutureWarning: pandas.util.testing is deprecated. Use the functions in the public API at pandas.testing instead.\n",
      "  import pandas.util.testing as tm\n"
     ]
    }
   ],
   "source": [
    "from statsmodels.formula.api import ols"
   ]
  },
  {
   "cell_type": "code",
   "execution_count": 10,
   "metadata": {},
   "outputs": [
    {
     "name": "stdout",
     "output_type": "stream",
     "text": [
      "Intercept    100143.401556\n",
      "service        1157.255243\n",
      "dtype: float64\n"
     ]
    }
   ],
   "source": [
    "model_male = ols(\"salary ~ service\", data = df_male).fit()\n",
    "print(model_male.params)"
   ]
  },
  {
   "cell_type": "markdown",
   "metadata": {},
   "source": [
    ">Уравнение (коэффициенты округлены): $\\widehat{salary}_i = 100143 + 1157 \\times service_i$. Согласно модели, средняя заработная плата (за 9 месяцев) сотрудников мужского пола без опыта работы равна 100143 долларам. При увеличении опыта работы на один год заработная плата (за 9 месяцев) мужчин, преподающих практические дисциплины, в среднем, увеличивается на 1157 долларов."
   ]
  },
  {
   "cell_type": "markdown",
   "metadata": {},
   "source": [
    "### Задание 6\n",
    "\n",
    "Используя данные из датафрейма `df_female` и функцию `ols()` из библиотеки `statsmodels`, постройте линейную модель, которая описывает связь между опытом работы и заработной платой. Выведите оценки коэффициентов модели, проинтерпретируйте полученные результаты. Запишите уравнение полученной модели (с конкретными числами)."
   ]
  },
  {
   "cell_type": "code",
   "execution_count": 11,
   "metadata": {},
   "outputs": [
    {
     "name": "stdout",
     "output_type": "stream",
     "text": [
      "Intercept    77974.986829\n",
      "service       2850.817455\n",
      "dtype: float64\n"
     ]
    }
   ],
   "source": [
    "model_female = ols(\"salary ~ service\", data = df_female).fit()\n",
    "print(model_female.params)"
   ]
  },
  {
   "cell_type": "markdown",
   "metadata": {},
   "source": [
    ">Уравнение (коэффициенты округлены): $\\widehat{salary}_i = 77975 + 2851 \\times service_i$. Согласно модели, средняя заработная плата (за 9 месяцев) сотрудников женского пола без опыта работы равна 77975 долларам. При увеличении опыта работы на один год заработная плата (за 9 месяцев) женщин, преподающих практические дисциплины, в среднем, увеличивается на 2851 доллар."
   ]
  },
  {
   "cell_type": "markdown",
   "metadata": {},
   "source": [
    "### Задание 7\n",
    "\n",
    "Сравните коэффициенты, полученные в моделях, оценённых на данных из `df_male` и `df_female`. У кого, у мужчин или женщин, увеличение опыта работы сильнее сказывается на заработной плате?"
   ]
  },
  {
   "cell_type": "code",
   "execution_count": 12,
   "metadata": {},
   "outputs": [
    {
     "name": "stdout",
     "output_type": "stream",
     "text": [
      "b0 100143.40155634304 77974.98682939679\n",
      "b1 1157.255242752027 2850.817455439457\n"
     ]
    }
   ],
   "source": [
    "print(\"b0\", model_male.params[0], model_female.params[0])\n",
    "print(\"b1\", model_male.params[1], model_female.params[1])"
   ]
  },
  {
   "cell_type": "markdown",
   "metadata": {},
   "source": [
    ">У женщин, так как значение коэффициента $\\hat{b}_1$ больше (2851 против 1157). Интересное наблюдение: средняя «стартовая» заработная плата у женщин без опыта работы, преподающих практические дисциплины, ниже, чем у мужчин с такими же характеристиками (77975 против 100143), однако с увеличением опыта работы заработная плата женщин растёт быстрее, чем у мужчин."
   ]
  },
  {
   "cell_type": "markdown",
   "metadata": {},
   "source": [
    "### Задание 8\n",
    "\n",
    "В библиотеке `seaborn` для продвинутой визуализации данных есть функции, позволяющие строить диаграммы рассеивания с добавленными на них регрессионными прямыми. \n",
    "\n",
    "Ниже приведён код, который выбирает строки, соответствующие сотрудникам, преподающих практические дисциплины, строит диаграммы рассеивания между опытом работы в годах и заработной платой по группам (мужчины/женщины) и добавляет на них регрессионные прямые. Можете запустить код и сопоставить полученные графики с уравнениями линейной регрессии, полученные в заданиях 5-6.\n",
    "\n",
    "**Примечание.** На ТВиМС мы использовали эту библиотеку, возможно, она у вас уже установлена, если нет, раскомментируйте строку с `!pip install ...`."
   ]
  },
  {
   "cell_type": "code",
   "execution_count": null,
   "metadata": {},
   "outputs": [],
   "source": [
    "#!pip install seaborn"
   ]
  },
  {
   "cell_type": "code",
   "execution_count": 13,
   "metadata": {},
   "outputs": [
    {
     "data": {
      "image/png": "[encoded data removed]",
      "text/plain": [
       "<Figure size 432.125x360 with 1 Axes>"
      ]
     },
     "metadata": {
      "needs_background": "light"
     },
     "output_type": "display_data"
    }
   ],
   "source": [
    "import seaborn as sns\n",
    "\n",
    "df_b = df[df[\"discipline\"] == \"B\"]\n",
    "\n",
    "# на одном графике\n",
    "\n",
    "# hue – основание группировки, \n",
    "# точки и прямые для разных групп разного цвета\n",
    "# ci=None, выключаем доверительный интервал для угла наклона, пока не нужен\n",
    "\n",
    "sns.lmplot(data=df_b, x=\"service\", y=\"salary\", hue=\"sex\", ci=None);"
   ]
  },
  {
   "cell_type": "code",
   "execution_count": 14,
   "metadata": {},
   "outputs": [
    {
     "data": {
      "image/png": "[encoded data removed]",
      "text/plain": [
       "<Figure size 720x360 with 2 Axes>"
      ]
     },
     "metadata": {
      "needs_background": "light"
     },
     "output_type": "display_data"
    }
   ],
   "source": [
    "# в отдельных окнах, col – деление на столбцы\n",
    "\n",
    "sns.lmplot(data=df_b, x=\"service\", y=\"salary\",\n",
    "           hue=\"sex\", col = \"sex\", ci=None);"
   ]
  }
 ],
 "metadata": {
  "kernelspec": {
   "display_name": "Python 3",
   "language": "python",
   "name": "python3"
  },
  "language_info": {
   "codemirror_mode": {
    "name": "ipython",
    "version": 3
   },
   "file_extension": ".py",
   "mimetype": "text/x-python",
   "name": "python",
   "nbconvert_exporter": "python",
   "pygments_lexer": "ipython3",
   "version": "3.7.4"
  }
 },
 "nbformat": 4,
 "nbformat_minor": 2
}
