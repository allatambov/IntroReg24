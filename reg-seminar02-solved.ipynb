{
 "cells": [
  {
   "cell_type": "markdown",
   "metadata": {},
   "source": [
    "# Введение в регрессионный анализ\n",
    "\n",
    "## Семинар 2. Парная линейная регрессия\n",
    "\n",
    "* Группировка и критерий Стьюдента для двух групп (повторение)\n",
    "* Парная линейная регрессия: вычисление оценок коэффициентов «с нуля»\n",
    "* Парная линейная регрессия: работа с остатками\n",
    "* Парная линейная регрессия с функцией `ols()` из `statsmodels`\n",
    "\n",
    "*Алла Тамбовцева*"
   ]
  },
  {
   "cell_type": "markdown",
   "metadata": {},
   "source": [
    "Для работы в этом практикуме нам потребуются библиотеки `numpy`, `pandas`, знакомый модуль `stats` из библиотеки `scipy`, а также модуль `pyplot` из библиотеки `matplotlib` для построения графиков. Импортируем их с сокращёнными названиями:"
   ]
  },
  {
   "cell_type": "code",
   "execution_count": 1,
   "metadata": {},
   "outputs": [],
   "source": [
    "import numpy as np\n",
    "import pandas as pd\n",
    "from scipy import stats\n",
    "from matplotlib import pyplot as plt"
   ]
  },
  {
   "cell_type": "markdown",
   "metadata": {},
   "source": [
    "В этом практикуме мы будем работать с сокращённой версией [данных для репликации](https://dataverse.harvard.edu/dataset.xhtml?persistentId=doi:10.7910/DVN/OSEXBV) статьи *Trust nobody: How voters react to conspiracy theories // Journal of Experimental Political Science*. \n",
    "\n",
    "В статье описывается эксперимент, в котором принимали участие респонденты из США. \n",
    "\n",
    "* **Первая часть эксперимента.** Участники случайным образом поделены на две группы. Одной группе демонстрируется ролик с изложением конспирологической теории, не затрагивающей внутреннюю политику государства, а другой группе – нейтральный развлекательный ролик такой же длительности. \n",
    "\n",
    "* **Вторая часть эксперимента.** Участники снова случайным образом поделены на две группы. Одной группе предлагается прочитать статью о негативных аспектах деятельности администрации президента (с перечнем скандалов, которые были с ней связаны), другой группе – статью о достижениях администрации президента (с упоминанием улучшений в сфере здравоохранения и трудоустройства). \n",
    "\n",
    "* **Третья часть эксперимента.** Респонденты отвечают на серию вопросов, направленных на выявление степени доверия к средствам массовой информации и политическим институтам.\n",
    "\n",
    "Повторить исследование и проверить, насколько знакомство с конспирологическими теориями и скандальными фактами влияет на степень доверия к разным институтам, в полной мере мы пока не сможем, но сформулируем собственные вопросы. Итак, **наши вопросы**:\n",
    "\n",
    "* есть ли отличия в степени доверия к СМИ у тех участников, которым демонстрировался конспирологический ролик, и тех, кому демонстрировался нейтральный ролик?\n",
    "* правда ли, что, чем старше респондент, тем меньше его степень доверия к Google и другим поисковым системам?\n",
    "\n",
    "Переменные в файле `trust_consp.csv`:\n",
    "\n",
    "* `edu`: уровень образования респондента (целые значения от 0 до 3);\n",
    "* `age`: возраст респондента (в годах);\n",
    "* `female`: пол респондента (1 – женский, 0 – мужской);\n",
    "* `conspiracy`: тип воздействия (0 – нейтральный ролик, 1 – конспирологический ролик);\n",
    "* `scandal`: тип статьи (0 – достижения администрации, 1 – скандальные факты об администрации);\n",
    "* `media_score`: индекс доверия к СМИ (от 0 до 100);\n",
    "* `google`: индекс доверия к Google и другим поисковым системам (от 0 до 100);\n",
    "* `poltrust_score`: индекс доверия к политическим институтам (от 0 до 100)."
   ]
  },
  {
   "cell_type": "markdown",
   "metadata": {},
   "source": [
    "### Задание 1\n",
    "\n",
    "Загрузите данные из файла `trust_consp.csv` и сохраните их в датафрейм `dat`. Сгруппируйте строки на основе показателя `conspiracy` и выведите описательные статистики для столбца `media_score`. У кого степень доверия к СМИ выше, у тех, кто видел нейтральный ролик или у тех, кто видел конспирологический ролик?"
   ]
  },
  {
   "cell_type": "code",
   "execution_count": 2,
   "metadata": {},
   "outputs": [
    {
     "data": {
      "text/html": [
       "<div>\n",
       "<style scoped>\n",
       "    .dataframe tbody tr th:only-of-type {\n",
       "        vertical-align: middle;\n",
       "    }\n",
       "\n",
       "    .dataframe tbody tr th {\n",
       "        vertical-align: top;\n",
       "    }\n",
       "\n",
       "    .dataframe thead th {\n",
       "        text-align: right;\n",
       "    }\n",
       "</style>\n",
       "<table border=\"1\" class=\"dataframe\">\n",
       "  <thead>\n",
       "    <tr style=\"text-align: right;\">\n",
       "      <th></th>\n",
       "      <th>count</th>\n",
       "      <th>mean</th>\n",
       "      <th>std</th>\n",
       "      <th>min</th>\n",
       "      <th>25%</th>\n",
       "      <th>50%</th>\n",
       "      <th>75%</th>\n",
       "      <th>max</th>\n",
       "    </tr>\n",
       "    <tr>\n",
       "      <th>conspiracy</th>\n",
       "      <th></th>\n",
       "      <th></th>\n",
       "      <th></th>\n",
       "      <th></th>\n",
       "      <th></th>\n",
       "      <th></th>\n",
       "      <th></th>\n",
       "      <th></th>\n",
       "    </tr>\n",
       "  </thead>\n",
       "  <tbody>\n",
       "    <tr>\n",
       "      <th>0</th>\n",
       "      <td>1053.0</td>\n",
       "      <td>45.157170</td>\n",
       "      <td>16.593829</td>\n",
       "      <td>0.0</td>\n",
       "      <td>35.000</td>\n",
       "      <td>46.875</td>\n",
       "      <td>56.875</td>\n",
       "      <td>96.0</td>\n",
       "    </tr>\n",
       "    <tr>\n",
       "      <th>1</th>\n",
       "      <td>1036.0</td>\n",
       "      <td>43.486245</td>\n",
       "      <td>15.816553</td>\n",
       "      <td>0.0</td>\n",
       "      <td>33.125</td>\n",
       "      <td>44.500</td>\n",
       "      <td>53.750</td>\n",
       "      <td>100.0</td>\n",
       "    </tr>\n",
       "  </tbody>\n",
       "</table>\n",
       "</div>"
      ],
      "text/plain": [
       "             count       mean        std  min     25%     50%     75%    max\n",
       "conspiracy                                                                  \n",
       "0           1053.0  45.157170  16.593829  0.0  35.000  46.875  56.875   96.0\n",
       "1           1036.0  43.486245  15.816553  0.0  33.125  44.500  53.750  100.0"
      ]
     },
     "execution_count": 2,
     "metadata": {},
     "output_type": "execute_result"
    }
   ],
   "source": [
    "# среднее выше у тех, кто смотрел нейтральный ролик, но отличие небольшое\n",
    "\n",
    "dat = pd.read_csv(\"trust_consp.csv\")\n",
    "dat.groupby(\"conspiracy\")[\"media_score\"].describe()"
   ]
  },
  {
   "cell_type": "markdown",
   "metadata": {},
   "source": [
    "### Задание 2\n",
    "\n",
    "Выберите строки, соответствующие участникам, смотревшим нейтральный ролик, и сохраните их в датафрейм `neut`. Выберите строки, соответствующие участникам, смотревшим конспирологический ролик, и сохраните их в датафрейм `consp`. \n",
    "\n",
    "Реализуйте критерий Стьюдента для двух выборок и проверьте, приняв уровень доверия равным 95%, есть ли отличия в степени доверия к СМИ у тех участников, которым демонстрировался конспирологический ролик, и тех, кому демонстрировался нейтральный ролик. Проинтерпретируйте полученные результаты. Изменится ли наш вывод, если мы изменим уровень доверия на 99%?"
   ]
  },
  {
   "cell_type": "code",
   "execution_count": 3,
   "metadata": {},
   "outputs": [
    {
     "data": {
      "text/plain": [
       "Ttest_indResult(statistic=2.355146774663109, pvalue=0.018607498558899427)"
      ]
     },
     "execution_count": 3,
     "metadata": {},
     "output_type": "execute_result"
    }
   ],
   "source": [
    "neut = dat[dat[\"conspiracy\"] == 0]\n",
    "consp = dat[dat[\"conspiracy\"] == 1]\n",
    "\n",
    "stats.ttest_ind(neut[\"media_score\"], consp[\"media_score\"])"
   ]
  },
  {
   "cell_type": "markdown",
   "metadata": {},
   "source": [
    ">**Интерпретация.** На уровне доверия 95% есть основания отвергнуть нулевую гипотезу о равенстве математических ожиданий (средних), так как наблюдаемое значение статистики критерия попадает в критическую область, средний уровень доверия к СМИ в двух группах различается. На уровне доверия 99% таких оснований нет (критическая область – значения статистики больше 2.58 или меньше -2.58), вывод изменится, средние можно считать равными. Тут спорный случай, но стоит сделать выбор в пользу принятого в социальных науках уровня доверия 95%."
   ]
  },
  {
   "cell_type": "markdown",
   "metadata": {},
   "source": [
    "### Задание 3\n",
    "\n",
    "Для ответа на второй вопрос о связи возраста и степени доверия к Google/другим поисковым системам для исключения влияния других факторов сузим нашу выборку – будем изучать только участников с самым низким уровнем образования (значение 0 в `edu`, можно самостоятельно проделать дальнейшие действия для других уровней образования). На практике, конечно, обычно поступают по-другому, но пока мы таким неидеальным образом искусственно создадим ситуацию, когда уровень образования у респондентов не отличается, а значит, не может сказываться на изменчивости значений индекса доверия к Google.\n",
    "\n",
    "Выберите строки, которые соответствуют интересующим нас респондентам, и сохраните их в датафрейм `df`. Оставьте в `df` только столбцы `age` и `google`.\n",
    "\n",
    "*Подсказка:* пример кода для выбора столбцов с названиями `\"x\"` и `\"y\"`: \n",
    "            \n",
    "            df[[\"x\", \"y\"]]"
   ]
  },
  {
   "cell_type": "code",
   "execution_count": 4,
   "metadata": {},
   "outputs": [],
   "source": [
    "df = dat[dat[\"edu\"] == 0]\n",
    "df = df[[\"age\", \"google\"]]"
   ]
  },
  {
   "cell_type": "markdown",
   "metadata": {},
   "source": [
    "### Задание 4\n",
    "\n",
    "Выведите на экран средние значения переменных `age` и `google` (сохраните предварительно их в переменные `age_mean` и `google_mean`, они нам ещё понадобятся)."
   ]
  },
  {
   "cell_type": "code",
   "execution_count": 5,
   "metadata": {},
   "outputs": [
    {
     "name": "stdout",
     "output_type": "stream",
     "text": [
      "38.738461538461536 51.43076923076923\n"
     ]
    }
   ],
   "source": [
    "age_mean = df[\"age\"].mean()\n",
    "google_mean = df[\"google\"].mean()\n",
    "print(age_mean, google_mean)"
   ]
  },
  {
   "cell_type": "markdown",
   "metadata": {},
   "source": [
    "### Задание 5\n",
    "\n",
    "Выведите на экран ковариационную матрицу для столбцов датафрейма `df`. Используя эту матрицу, вычислите коэффициент корреляции Пирсона между `age` и `google`. Проинтерпретируйте полученное значение.\n",
    "\n",
    "*Подсказка:* метод `.cov()` для ковариационной матрицы, функция `sqrt()` из библиотеки `numpy` для извлечения квадратного корня."
   ]
  },
  {
   "cell_type": "code",
   "execution_count": 6,
   "metadata": {},
   "outputs": [
    {
     "data": {
      "text/html": [
       "<div>\n",
       "<style scoped>\n",
       "    .dataframe tbody tr th:only-of-type {\n",
       "        vertical-align: middle;\n",
       "    }\n",
       "\n",
       "    .dataframe tbody tr th {\n",
       "        vertical-align: top;\n",
       "    }\n",
       "\n",
       "    .dataframe thead th {\n",
       "        text-align: right;\n",
       "    }\n",
       "</style>\n",
       "<table border=\"1\" class=\"dataframe\">\n",
       "  <thead>\n",
       "    <tr style=\"text-align: right;\">\n",
       "      <th></th>\n",
       "      <th>age</th>\n",
       "      <th>google</th>\n",
       "    </tr>\n",
       "  </thead>\n",
       "  <tbody>\n",
       "    <tr>\n",
       "      <th>age</th>\n",
       "      <td>150.420936</td>\n",
       "      <td>-43.763045</td>\n",
       "    </tr>\n",
       "    <tr>\n",
       "      <th>google</th>\n",
       "      <td>-43.763045</td>\n",
       "      <td>770.648533</td>\n",
       "    </tr>\n",
       "  </tbody>\n",
       "</table>\n",
       "</div>"
      ],
      "text/plain": [
       "               age      google\n",
       "age     150.420936  -43.763045\n",
       "google  -43.763045  770.648533"
      ]
     },
     "execution_count": 6,
     "metadata": {},
     "output_type": "execute_result"
    }
   ],
   "source": [
    "df.cov()"
   ]
  },
  {
   "cell_type": "code",
   "execution_count": 7,
   "metadata": {},
   "outputs": [
    {
     "data": {
      "text/plain": [
       "-0.12853612732135578"
      ]
     },
     "execution_count": 7,
     "metadata": {},
     "output_type": "execute_result"
    }
   ],
   "source": [
    "-43.763045 / (np.sqrt(150.420936) * np.sqrt(770.648533))"
   ]
  },
  {
   "cell_type": "code",
   "execution_count": 8,
   "metadata": {},
   "outputs": [
    {
     "name": "stdout",
     "output_type": "stream",
     "text": [
      "-0.12853612802306044\n"
     ]
    }
   ],
   "source": [
    "# .loc – выбор по названию строки и столбца\n",
    "\n",
    "m = df.cov()\n",
    "cov = m.loc[\"age\", \"google\"]\n",
    "s2_age = m.loc[\"age\", \"age\"]\n",
    "s2_google = m.loc[\"google\", \"google\"]\n",
    "print(cov / (np.sqrt(s2_age) * np.sqrt(s2_google)))"
   ]
  },
  {
   "cell_type": "code",
   "execution_count": 10,
   "metadata": {},
   "outputs": [
    {
     "name": "stdout",
     "output_type": "stream",
     "text": [
      "-0.12853612802306044\n"
     ]
    }
   ],
   "source": [
    "# .iloc – выбор по номеру строки и столбца,\n",
    "# самый универсальный вариант для любой ков матрицы 2 на 2\n",
    "\n",
    "cov = m.iloc[0, 1]\n",
    "s2_age = m.iloc[0, 0]\n",
    "s2_google = m.iloc[1, 1]\n",
    "print(cov / (np.sqrt(s2_age) * np.sqrt(s2_google)))"
   ]
  },
  {
   "cell_type": "markdown",
   "metadata": {},
   "source": [
    "### Задание 6\n",
    "\n",
    "Выведите на экран корреляционную матрицу для столбцов датафрейма `df`. Сравните результаты с тем, что получилось в предыдущей задаче. \n",
    "\n",
    "*Подсказка:* метод `.corr()` для получения корреляционной матрицы. "
   ]
  },
  {
   "cell_type": "code",
   "execution_count": 11,
   "metadata": {},
   "outputs": [
    {
     "data": {
      "text/html": [
       "<div>\n",
       "<style scoped>\n",
       "    .dataframe tbody tr th:only-of-type {\n",
       "        vertical-align: middle;\n",
       "    }\n",
       "\n",
       "    .dataframe tbody tr th {\n",
       "        vertical-align: top;\n",
       "    }\n",
       "\n",
       "    .dataframe thead th {\n",
       "        text-align: right;\n",
       "    }\n",
       "</style>\n",
       "<table border=\"1\" class=\"dataframe\">\n",
       "  <thead>\n",
       "    <tr style=\"text-align: right;\">\n",
       "      <th></th>\n",
       "      <th>age</th>\n",
       "      <th>google</th>\n",
       "    </tr>\n",
       "  </thead>\n",
       "  <tbody>\n",
       "    <tr>\n",
       "      <th>age</th>\n",
       "      <td>1.000000</td>\n",
       "      <td>-0.128536</td>\n",
       "    </tr>\n",
       "    <tr>\n",
       "      <th>google</th>\n",
       "      <td>-0.128536</td>\n",
       "      <td>1.000000</td>\n",
       "    </tr>\n",
       "  </tbody>\n",
       "</table>\n",
       "</div>"
      ],
      "text/plain": [
       "             age    google\n",
       "age     1.000000 -0.128536\n",
       "google -0.128536  1.000000"
      ]
     },
     "execution_count": 11,
     "metadata": {},
     "output_type": "execute_result"
    }
   ],
   "source": [
    "df.corr()"
   ]
  },
  {
   "cell_type": "markdown",
   "metadata": {},
   "source": [
    "### Задание 7\n",
    "\n",
    "Допустим, нам необходимо понять, правда ли, что с возрастом люди меньше доверяют Google и другим поисковым системам, и если да, то насколько. Что в данной задаче является зависимой переменной, а что – объясняющей (независимой)? Постройте диаграмму рассеивания для данных из датафрейма `df`, где по горизонтальной оси указаны значения объясняющей переменной, а по вертикальной – зависимой.\n",
    "\n",
    "*Подсказка:* функция `scatter()` из модуля `pyplot`, который мы импортировали как `plt`; на вход принимает два массива/столбца датафрейма, значения первого будут идти по горизонтальной оси, второго – по вертикальной."
   ]
  },
  {
   "cell_type": "code",
   "execution_count": 12,
   "metadata": {},
   "outputs": [
    {
     "data": {
      "image/png": "[encoded data removed]",
      "text/plain": [
       "<Figure size 432x288 with 1 Axes>"
      ]
     },
     "metadata": {
      "needs_background": "light"
     },
     "output_type": "display_data"
    }
   ],
   "source": [
    "plt.scatter(df[\"age\"], df[\"google\"]);\n",
    "\n",
    "# можем добавить подписи к осям\n",
    "\n",
    "plt.xlabel(\"Age\");\n",
    "plt.ylabel(\"Trust in Google\");"
   ]
  },
  {
   "cell_type": "markdown",
   "metadata": {},
   "source": [
    "### Задание 8\n",
    "\n",
    "1. Запишите в общем виде, как должно выглядеть уравнение регрессионной модели для задачи, сформулированной в предыдущем задании (при записи используйте условное математическое ожидание и названия переменных). \n",
    "2. Найдите, используя результаты предыдущих заданий, оценки коэффициентов модели $\\hat{b}_0$ и $\\hat{b}_1$. \n",
    "3. Запишите уравнение оценённой модели, используя найденные оценки коэффициентов $\\hat{b}_0$ и $\\hat{b}_1$.\n",
    "4. На сколько, в среднем, изменяется значение индекса доверия к Google и другим поисковым системам, если возраст увеличивается на один год? Чему соответствует значение $\\hat{b}_0$?"
   ]
  },
  {
   "cell_type": "code",
   "execution_count": 13,
   "metadata": {},
   "outputs": [
    {
     "name": "stdout",
     "output_type": "stream",
     "text": [
      "62.701228590347554 -0.29093719554114034\n"
     ]
    }
   ],
   "source": [
    "b1 = cov / s2_age\n",
    "b0 = google_mean - b1 * age_mean\n",
    "print(b0, b1)"
   ]
  },
  {
   "cell_type": "markdown",
   "metadata": {},
   "source": [
    "$$\n",
    "E(google_i|age_i) = b_0 + b_1 \\times age_i\n",
    "$$\n",
    "\n",
    "$$\n",
    "\\widehat{google}_i = \\hat{b}_0 + \\hat{b}_1\\times age_i\n",
    "$$\n",
    "\n",
    "$$\n",
    "\\widehat{google}_i = 62.7 - 0.29 \\times age_i\n",
    "$$\n",
    "\n",
    "При увеличении возраста на один год индекс доверия к Google, в среднем, уменьшается на 0.29 единиц. Но, так как мы не наблюдаем за людьми в течение нескольких лет, более корректно здесь будет заключить, что, если мы сравним двух людей, отличающихся только по возрасту, согласно нашей модели, у того, кто на год старше, значение индекса доверия к Google будет на 0.29 ниже. Значение 62.7 – это среднее значение индекса доверия у респондентов нулевого возраста ($age_i = 0$). Таких респондентов в выборке быть не может, однако математический смысл константы не теряется, просто содержательно интерпретировать ее в данном случае не имеет смысла."
   ]
  },
  {
   "cell_type": "markdown",
   "metadata": {},
   "source": [
    "### Задание 9\n",
    "\n",
    "Используя значения $\\hat{b}_0$ и $\\hat{b}_1$ из предыдущей задачи, найдите предсказанные значения зависимой переменной и сохраните их в новый столбец `predicted` в датафрейм `df`."
   ]
  },
  {
   "cell_type": "code",
   "execution_count": 14,
   "metadata": {},
   "outputs": [
    {
     "data": {
      "text/html": [
       "<div>\n",
       "<style scoped>\n",
       "    .dataframe tbody tr th:only-of-type {\n",
       "        vertical-align: middle;\n",
       "    }\n",
       "\n",
       "    .dataframe tbody tr th {\n",
       "        vertical-align: top;\n",
       "    }\n",
       "\n",
       "    .dataframe thead th {\n",
       "        text-align: right;\n",
       "    }\n",
       "</style>\n",
       "<table border=\"1\" class=\"dataframe\">\n",
       "  <thead>\n",
       "    <tr style=\"text-align: right;\">\n",
       "      <th></th>\n",
       "      <th>age</th>\n",
       "      <th>google</th>\n",
       "      <th>predicted</th>\n",
       "    </tr>\n",
       "  </thead>\n",
       "  <tbody>\n",
       "    <tr>\n",
       "      <th>19</th>\n",
       "      <td>27</td>\n",
       "      <td>80</td>\n",
       "      <td>54.845924</td>\n",
       "    </tr>\n",
       "    <tr>\n",
       "      <th>20</th>\n",
       "      <td>21</td>\n",
       "      <td>25</td>\n",
       "      <td>56.591547</td>\n",
       "    </tr>\n",
       "    <tr>\n",
       "      <th>21</th>\n",
       "      <td>27</td>\n",
       "      <td>40</td>\n",
       "      <td>54.845924</td>\n",
       "    </tr>\n",
       "    <tr>\n",
       "      <th>23</th>\n",
       "      <td>19</td>\n",
       "      <td>50</td>\n",
       "      <td>57.173422</td>\n",
       "    </tr>\n",
       "    <tr>\n",
       "      <th>24</th>\n",
       "      <td>25</td>\n",
       "      <td>75</td>\n",
       "      <td>55.427799</td>\n",
       "    </tr>\n",
       "  </tbody>\n",
       "</table>\n",
       "</div>"
      ],
      "text/plain": [
       "    age  google  predicted\n",
       "19   27      80  54.845924\n",
       "20   21      25  56.591547\n",
       "21   27      40  54.845924\n",
       "23   19      50  57.173422\n",
       "24   25      75  55.427799"
      ]
     },
     "execution_count": 14,
     "metadata": {},
     "output_type": "execute_result"
    }
   ],
   "source": [
    "df[\"predicted\"] = b0 + b1 * df[\"age\"]\n",
    "df.head()"
   ]
  },
  {
   "cell_type": "markdown",
   "metadata": {},
   "source": [
    "### Задание 10\n",
    "\n",
    "Добавьте в датафрейм `df` столбец `e` с остатками модели ($\\varepsilon$). Добавьте в датафрейм `df` столбец `e2` с квадратами остатков модели ($\\varepsilon^2$). Найдите сумму квадратов остатков модели RSS."
   ]
  },
  {
   "cell_type": "code",
   "execution_count": 15,
   "metadata": {},
   "outputs": [
    {
     "name": "stdout",
     "output_type": "stream",
     "text": [
      "147035.7496425574\n"
     ]
    }
   ],
   "source": [
    "df[\"e\"] = df[\"google\"] - df[\"predicted\"]\n",
    "df[\"e2\"] = df[\"e\"] ** 2\n",
    "rss = df[\"e2\"].sum()\n",
    "print(rss)"
   ]
  },
  {
   "cell_type": "markdown",
   "metadata": {},
   "source": [
    "### Задание 11\n",
    "\n",
    "Постройте ещё раз диаграмму рассеивания из задания 7. Добавьте на неё регрессионную прямую. Покажите, как по полученному графику можно находить остатки модели. Покажите, в какой части графика остатки больше нуля, а в какой – меньше.\n",
    "\n",
    "*Подсказка*: функция `plot()` из модуля `pyplot`, который мы импортировали как `plt`; на вход принимает два массива/столбца датафрейма, значения первого будут идти по горизонтальной оси, второго – по вертикальной; по вертикальной оси должны идти предсказанные значения зависимой переменной."
   ]
  },
  {
   "cell_type": "code",
   "execution_count": 17,
   "metadata": {},
   "outputs": [
    {
     "data": {
      "image/png": "[encoded data removed]",
      "text/plain": [
       "<Figure size 432x288 with 1 Axes>"
      ]
     },
     "metadata": {
      "needs_background": "light"
     },
     "output_type": "display_data"
    }
   ],
   "source": [
    "plt.scatter(df[\"age\"], df[\"google\"]);\n",
    "plt.plot(df[\"age\"], df[\"predicted\"], c = \"red\");\n",
    "\n",
    "# можем добавить подписи к осям\n",
    "\n",
    "plt.xlabel(\"Age\");\n",
    "plt.ylabel(\"Trust in Google\");"
   ]
  },
  {
   "cell_type": "markdown",
   "metadata": {},
   "source": [
    "### Заключение – мостик к следующим занятиям\n",
    "\n",
    "Конечно, Python умеет оценивать регрессионные модели самостоятельно. Мы проделали много манипуляций «с нуля», чтобы закрепить материал лекции и немного подготовиться к проверочной, теперь можем выдохнуть и положиться на автоматику :) \n",
    "\n",
    "Итак, импортируем функцию `ols()` из модуля `statsmodels`. Название этой функции – сокращение от *ordinary least squares*, модель, полученная обычным методом наименьших квадратов (МНК), который обсуждался на лекции и который чаще всего используется на практике."
   ]
  },
  {
   "cell_type": "code",
   "execution_count": 18,
   "metadata": {},
   "outputs": [
    {
     "name": "stderr",
     "output_type": "stream",
     "text": [
      "/opt/anaconda3/lib/python3.7/site-packages/statsmodels/tools/_testing.py:19: FutureWarning: pandas.util.testing is deprecated. Use the functions in the public API at pandas.testing instead.\n",
      "  import pandas.util.testing as tm\n"
     ]
    }
   ],
   "source": [
    "from statsmodels.formula.api import ols"
   ]
  },
  {
   "cell_type": "markdown",
   "metadata": {},
   "source": [
    "Оценим модель линейной регрессии на основе данных в датафрейме `df` (зависимая переменная – `google`, независимая – `age`):"
   ]
  },
  {
   "cell_type": "code",
   "execution_count": 19,
   "metadata": {},
   "outputs": [],
   "source": [
    "# метод .fit() – оценка, подгонка модели,\n",
    "# вычисление ее коэффициентов и других характеристик\n",
    "\n",
    "model = ols(\"google ~ age\", data = df).fit()"
   ]
  },
  {
   "cell_type": "markdown",
   "metadata": {},
   "source": [
    "Так как полное описание модели нам пока не нужно, извлечём из полученного результата только оценки коэффициентов $\\hat{b}_0$ и $\\hat{b}_1$, то есть константу (`intercept`) и угол наклона прямой (`slope`, в выдачах называется по независимой переменной):"
   ]
  },
  {
   "cell_type": "code",
   "execution_count": 20,
   "metadata": {},
   "outputs": [
    {
     "data": {
      "text/plain": [
       "Intercept    62.701229\n",
       "age          -0.290937\n",
       "dtype: float64"
      ]
     },
     "execution_count": 20,
     "metadata": {},
     "output_type": "execute_result"
    }
   ],
   "source": [
    "model.params"
   ]
  },
  {
   "cell_type": "markdown",
   "metadata": {},
   "source": [
    "При желании можем извлечь из модели предсказанные значения зависимой переменной (те, что мы получили ранее с нуля в `predicted`):"
   ]
  },
  {
   "cell_type": "code",
   "execution_count": 21,
   "metadata": {},
   "outputs": [
    {
     "data": {
      "text/plain": [
       "array([54.84592431, 56.59154748, 54.84592431, 57.17342188, 55.4277987 ,\n",
       "       51.64561516, 45.53593405, 43.79031088, 53.39123833, 49.0271804 ,\n",
       "       53.10030114, 55.13686151, 50.19092918, 54.26404992, 52.22748955,\n",
       "       51.35467796, 54.55498712, 52.22748955, 46.99062003, 53.10030114,\n",
       "       48.15436881, 53.68217553, 41.75375051, 51.35467796, 45.24499686,\n",
       "       52.22748955, 51.93655236, 55.4277987 , 56.00967309, 48.44530601,\n",
       "       46.40874564, 48.15436881, 52.51842675, 50.19092918, 55.13686151,\n",
       "       50.77280357, 54.84592431, 53.39123833, 55.13686151, 46.11780844,\n",
       "       56.00967309, 46.11780844, 45.82687125, 47.57249442, 47.28155723,\n",
       "       56.00967309, 52.51842675, 46.11780844, 51.35467796, 47.57249442,\n",
       "       51.35467796, 47.28155723, 50.77280357, 46.99062003, 49.0271804 ,\n",
       "       53.97311272, 52.22748955, 50.48186638, 50.77280357, 54.55498712,\n",
       "       55.4277987 , 53.39123833, 51.93655236, 53.68217553, 53.39123833,\n",
       "       47.57249442, 53.39123833, 55.13686151, 52.51842675, 53.10030114,\n",
       "       54.84592431, 54.55498712, 48.44530601, 54.55498712, 52.51842675,\n",
       "       54.84592431, 51.35467796, 54.55498712, 46.69968284, 51.06374077,\n",
       "       51.93655236, 46.69968284, 52.51842675, 54.26404992, 56.00967309,\n",
       "       44.95405966, 50.19092918, 53.68217553, 43.79031088, 52.80936394,\n",
       "       56.59154748, 45.82687125, 47.57249442, 54.55498712, 47.86343162,\n",
       "       51.93655236, 57.46435907, 49.89999199, 48.44530601, 56.59154748,\n",
       "       53.10030114, 49.60905479, 50.48186638, 51.06374077, 55.7187359 ,\n",
       "       49.3181176 , 49.89999199, 51.06374077, 55.13686151, 52.80936394,\n",
       "       48.44530601, 52.22748955, 56.59154748, 52.22748955, 51.93655236,\n",
       "       46.69968284, 55.13686151, 55.4277987 , 49.60905479, 55.7187359 ,\n",
       "       43.79031088, 54.55498712, 48.7362432 , 48.7362432 , 49.0271804 ,\n",
       "       47.28155723, 46.69968284, 46.11780844, 50.77280357, 52.51842675,\n",
       "       50.19092918, 45.24499686, 53.10030114, 50.77280357, 48.7362432 ,\n",
       "       44.95405966, 52.22748955, 55.13686151, 53.39123833, 56.30061029,\n",
       "       51.35467796, 48.7362432 , 46.69968284, 55.4277987 , 51.64561516,\n",
       "       53.97311272, 51.06374077, 56.30061029, 55.7187359 , 57.46435907,\n",
       "       56.88248468, 52.22748955, 53.39123833, 48.15436881, 53.97311272,\n",
       "       55.7187359 , 50.77280357, 49.89999199, 51.06374077, 53.68217553,\n",
       "       42.6265621 , 45.53593405, 48.15436881, 52.80936394, 54.84592431,\n",
       "       53.97311272, 54.26404992, 49.0271804 , 57.17342188, 55.4277987 ,\n",
       "       47.28155723, 50.77280357, 42.91749929, 48.15436881, 51.93655236,\n",
       "       44.66312247, 56.88248468, 46.11780844, 51.64561516, 48.15436881,\n",
       "       52.22748955, 55.4277987 , 53.10030114, 49.3181176 , 48.44530601,\n",
       "       53.10030114, 51.35467796, 52.80936394, 56.88248468, 54.55498712,\n",
       "       53.97311272, 50.77280357, 51.64561516, 55.4277987 , 50.19092918])"
      ]
     },
     "execution_count": 21,
     "metadata": {},
     "output_type": "execute_result"
    }
   ],
   "source": [
    "model.predict()"
   ]
  },
  {
   "cell_type": "markdown",
   "metadata": {},
   "source": [
    "А можем найти предсказанное значение зависимой переменной `google` для человека 42 лет:"
   ]
  },
  {
   "cell_type": "code",
   "execution_count": 22,
   "metadata": {},
   "outputs": [
    {
     "data": {
      "text/plain": [
       "0    50.481866\n",
       "dtype: float64"
      ]
     },
     "execution_count": 22,
     "metadata": {},
     "output_type": "execute_result"
    }
   ],
   "source": [
    "# exog – от exogeneous, внешние (новые) данные\n",
    "# в виде словаря записываем название \n",
    "# независимой переменной и её значение\n",
    "\n",
    "model.predict(exog = {\"age\" : 42})"
   ]
  },
  {
   "cell_type": "markdown",
   "metadata": {},
   "source": [
    "Или сразу для нескольких людей разного возраста:"
   ]
  },
  {
   "cell_type": "code",
   "execution_count": 23,
   "metadata": {},
   "outputs": [
    {
     "data": {
      "text/plain": [
       "0    50.481866\n",
       "1    57.464359\n",
       "2    53.973113\n",
       "dtype: float64"
      ]
     },
     "execution_count": 23,
     "metadata": {},
     "output_type": "execute_result"
    }
   ],
   "source": [
    "# в age сразу список\n",
    "\n",
    "model.predict(exog = {\"age\" : [42, 18, 30]})"
   ]
  },
  {
   "cell_type": "markdown",
   "metadata": {},
   "source": [
    "Кроме того, можем отдельно поинтересоваться, чему равны остатки (`.resid` от *residuals*):"
   ]
  },
  {
   "cell_type": "code",
   "execution_count": 24,
   "metadata": {},
   "outputs": [
    {
     "data": {
      "text/plain": [
       "19      25.154076\n",
       "20     -31.591547\n",
       "21     -14.845924\n",
       "23      -7.173422\n",
       "24      19.572201\n",
       "          ...    \n",
       "2048    26.026887\n",
       "2056   -30.772804\n",
       "2072    23.354385\n",
       "2076   -45.427799\n",
       "2083    29.809071\n",
       "Length: 195, dtype: float64"
      ]
     },
     "execution_count": 24,
     "metadata": {},
     "output_type": "execute_result"
    }
   ],
   "source": [
    "model.resid"
   ]
  },
  {
   "cell_type": "markdown",
   "metadata": {},
   "source": [
    "И даже получить сумму квадратов остатков (здесь `.ssr` от *sum of squared residuals*, у нас на курсе и вообще в статистике это RSS, мы их тоже уже посчитали ранее «с нуля», можем сравнить):"
   ]
  },
  {
   "cell_type": "code",
   "execution_count": 25,
   "metadata": {},
   "outputs": [
    {
     "data": {
      "text/plain": [
       "147035.7496425574"
      ]
     },
     "execution_count": 25,
     "metadata": {},
     "output_type": "execute_result"
    }
   ],
   "source": [
    "model.ssr"
   ]
  },
  {
   "cell_type": "markdown",
   "metadata": {},
   "source": [
    "Всё! С более подробным описанием результатов, которые хранятся в объекте `model`, мы познакомимся после следующих лекций."
   ]
  }
 ],
 "metadata": {
  "kernelspec": {
   "display_name": "Python 3",
   "language": "python",
   "name": "python3"
  },
  "language_info": {
   "codemirror_mode": {
    "name": "ipython",
    "version": 3
   },
   "file_extension": ".py",
   "mimetype": "text/x-python",
   "name": "python",
   "nbconvert_exporter": "python",
   "pygments_lexer": "ipython3",
   "version": "3.7.4"
  }
 },
 "nbformat": 4,
 "nbformat_minor": 2
}
