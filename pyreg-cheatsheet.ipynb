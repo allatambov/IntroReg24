{
 "cells": [
  {
   "cell_type": "markdown",
   "metadata": {},
   "source": [
    "## Необходимые импорты"
   ]
  },
  {
   "cell_type": "code",
   "execution_count": null,
   "metadata": {},
   "outputs": [],
   "source": [
    "import pandas as pd\n",
    "from scipy import stats\n",
    "from statsmodels.formula.api import ols"
   ]
  },
  {
   "cell_type": "markdown",
   "metadata": {},
   "source": [
    "## Загрузка данных\n",
    "\n",
    "* функция `read_csv()` из `pandas`;\n",
    "* функция `read_excel()` из `pandas`."
   ]
  },
  {
   "cell_type": "markdown",
   "metadata": {},
   "source": [
    "## Работа с датафреймами\n",
    "\n",
    "Пример готового датафрейма `df`, упоминается в коде ниже:\n",
    "\n",
    "<table border=\"1\" class=\"dataframe\">\n",
    "  <thead>\n",
    "    <tr style=\"text-align: right;\">\n",
    "      <th></th>\n",
    "      <th>group</th>\n",
    "      <th>x</th>\n",
    "      <th>y</th>\n",
    "      <th>z</th>\n",
    "    </tr>\n",
    "  </thead>\n",
    "  <tbody>\n",
    "    <tr>\n",
    "      <th>0</th>\n",
    "      <td>A</td>\n",
    "      <td>1</td>\n",
    "      <td>10</td>\n",
    "      <td>1</td>\n",
    "    </tr>\n",
    "    <tr>\n",
    "      <th>1</th>\n",
    "      <td>B</td>\n",
    "      <td>2</td>\n",
    "      <td>24</td>\n",
    "      <td>0</td>\n",
    "    </tr>\n",
    "    <tr>\n",
    "      <th>2</th>\n",
    "      <td>B</td>\n",
    "      <td>4</td>\n",
    "      <td>38</td>\n",
    "      <td>0</td>\n",
    "    </tr>\n",
    "    <tr>\n",
    "      <th>3</th>\n",
    "      <td>A</td>\n",
    "      <td>8</td>\n",
    "      <td>17</td>\n",
    "      <td>1</td>\n",
    "    </tr>\n",
    "    <tr>\n",
    "      <th>4</th>\n",
    "      <td>B</td>\n",
    "      <td>5</td>\n",
    "      <td>15</td>\n",
    "      <td>0</td>\n",
    "    </tr>\n",
    "  </tbody>\n",
    "</table>"
   ]
  },
  {
   "cell_type": "markdown",
   "metadata": {},
   "source": [
    "## Описание данных\n",
    "\n",
    "* `df.info()`\n",
    "* `df.describe()`\n",
    "* `df[\"x\"].describe()`\n",
    "* `df[\"group\"].value_counts()`\n",
    "\n",
    "## Группировка и описание\n",
    "\n",
    "* `df.groupby(\"group\")[\"x\"].describe()`\n",
    "\n",
    "## Графики\n",
    "\n",
    "* `df[\"x\"].hist();`\n",
    "* `df[\"x\"].plot.box();`\n",
    "\n",
    "## Критерий Стьюдента для двух независимых выборок\n",
    "\n",
    "* если `df_a` и `df_b` – датафреймы со строками, отобранными для группы А и группы B соответственно, то `stats.ttest_ind(df_a[\"x\"], df_b[\"x\"])` \n",
    "\n",
    "## Линейные регрессионные модели\n",
    "\n",
    "* пример 1:\n",
    "\n",
    "        model = ols(\"y ~ x\", data = df).fit()\n",
    "        model.summary()\n",
    "        \n",
    "* пример 2:\n",
    "\n",
    "        model = ols(\"y ~ x + z\", data = df).fit()\n",
    "        model.summary()\n",
    "        \n",
    "* пример 3:\n",
    "\n",
    "        model = ols(\"y ~ x + group\", data = df).fit()\n",
    "        model.summary()"
   ]
  }
 ],
 "metadata": {
  "kernelspec": {
   "display_name": "Python 3",
   "language": "python",
   "name": "python3"
  },
  "language_info": {
   "codemirror_mode": {
    "name": "ipython",
    "version": 3
   },
   "file_extension": ".py",
   "mimetype": "text/x-python",
   "name": "python",
   "nbconvert_exporter": "python",
   "pygments_lexer": "ipython3",
   "version": "3.7.4"
  }
 },
 "nbformat": 4,
 "nbformat_minor": 2
}
