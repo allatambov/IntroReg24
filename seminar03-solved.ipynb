{
 "cells": [
  {
   "cell_type": "markdown",
   "metadata": {},
   "source": [
    "# Введение в регрессионный анализ\n",
    "\n",
    "## Семинар 3. Парная регрессия и проверка гипотез\n",
    "\n",
    "\n",
    "*Алла Тамбовцева*\n",
    "\n",
    "* Парная линейная регрессия с функцией `ols()` из `statsmodels`\n",
    "* Интерпретация результатов оценки модели\n",
    "* Иллюстрация работы центральной предельной теоремы\n"
   ]
  },
  {
   "cell_type": "markdown",
   "metadata": {},
   "source": [
    "Импортируем уже знакомые библиотеки, модули и функции: библиотеку `pandas`, модуль `pyplot` из библиотеки `plt`, функцию `ols()` из библиотеки `statsmodels`:"
   ]
  },
  {
   "cell_type": "code",
   "execution_count": 1,
   "metadata": {},
   "outputs": [
    {
     "name": "stderr",
     "output_type": "stream",
     "text": [
      "/opt/anaconda3/lib/python3.7/site-packages/statsmodels/tools/_testing.py:19: FutureWarning: pandas.util.testing is deprecated. Use the functions in the public API at pandas.testing instead.\n",
      "  import pandas.util.testing as tm\n"
     ]
    }
   ],
   "source": [
    "import pandas as pd\n",
    "from matplotlib import pyplot as plt\n",
    "from statsmodels.formula.api import ols"
   ]
  },
  {
   "cell_type": "markdown",
   "metadata": {},
   "source": [
    "### Часть 1: простая линейная регрессия"
   ]
  },
  {
   "cell_type": "markdown",
   "metadata": {},
   "source": [
    "В этом практикуме продолжим работать с файлом `salaries.csv` из необязательного домашнего задания №2. Показатели в файле:\n",
    "\n",
    "В этом файле сохранены данные по сотрудникам университета в США, а именно следующие их характеристики:\n",
    "\n",
    "* `rank`: должность;\n",
    "* `discipline`: тип преподаваемой дисциплины (`A` – теоретическая, `B` – практическая);\n",
    "* `phd`: число лет с момента получения степени PhD;\n",
    "* `service`: число лет опыта работы;\n",
    "* `sex`: пол;\n",
    "* `salary`: заработная плата за 9 месяцев, в долларах."
   ]
  },
  {
   "cell_type": "markdown",
   "metadata": {},
   "source": [
    "Загрузите данные из файла и сохраните их в датафрейм `sls`."
   ]
  },
  {
   "cell_type": "code",
   "execution_count": 2,
   "metadata": {},
   "outputs": [],
   "source": [
    "sls = pd.read_csv(\"salaries.csv\")"
   ]
  },
  {
   "cell_type": "markdown",
   "metadata": {},
   "source": [
    "### Задание 1\n",
    "\n",
    "Сгруппируйте строки по типу преподаваемой дисциплины и полу и выведите описательные статистики для:\n",
    "\n",
    "* заработной платы\n",
    "* опыта работы\n",
    "\n",
    "в каждой из полученных групп. Прокомментируйте полученные результаты."
   ]
  },
  {
   "cell_type": "code",
   "execution_count": 3,
   "metadata": {},
   "outputs": [
    {
     "data": {
      "text/html": [
       "<div>\n",
       "<style scoped>\n",
       "    .dataframe tbody tr th:only-of-type {\n",
       "        vertical-align: middle;\n",
       "    }\n",
       "\n",
       "    .dataframe tbody tr th {\n",
       "        vertical-align: top;\n",
       "    }\n",
       "\n",
       "    .dataframe thead th {\n",
       "        text-align: right;\n",
       "    }\n",
       "</style>\n",
       "<table border=\"1\" class=\"dataframe\">\n",
       "  <thead>\n",
       "    <tr style=\"text-align: right;\">\n",
       "      <th></th>\n",
       "      <th></th>\n",
       "      <th>count</th>\n",
       "      <th>mean</th>\n",
       "      <th>std</th>\n",
       "      <th>min</th>\n",
       "      <th>25%</th>\n",
       "      <th>50%</th>\n",
       "      <th>75%</th>\n",
       "      <th>max</th>\n",
       "    </tr>\n",
       "    <tr>\n",
       "      <th>discipline</th>\n",
       "      <th>sex</th>\n",
       "      <th></th>\n",
       "      <th></th>\n",
       "      <th></th>\n",
       "      <th></th>\n",
       "      <th></th>\n",
       "      <th></th>\n",
       "      <th></th>\n",
       "      <th></th>\n",
       "    </tr>\n",
       "  </thead>\n",
       "  <tbody>\n",
       "    <tr>\n",
       "      <th rowspan=\"2\" valign=\"top\">A</th>\n",
       "      <th>Female</th>\n",
       "      <td>18.0</td>\n",
       "      <td>89064.944444</td>\n",
       "      <td>21638.580595</td>\n",
       "      <td>62884.0</td>\n",
       "      <td>73350.0</td>\n",
       "      <td>78000.0</td>\n",
       "      <td>108484.5</td>\n",
       "      <td>137000.0</td>\n",
       "    </tr>\n",
       "    <tr>\n",
       "      <th>Male</th>\n",
       "      <td>163.0</td>\n",
       "      <td>110699.981595</td>\n",
       "      <td>30663.119265</td>\n",
       "      <td>57800.0</td>\n",
       "      <td>87347.5</td>\n",
       "      <td>105260.0</td>\n",
       "      <td>127950.0</td>\n",
       "      <td>205500.0</td>\n",
       "    </tr>\n",
       "    <tr>\n",
       "      <th rowspan=\"2\" valign=\"top\">B</th>\n",
       "      <th>Female</th>\n",
       "      <td>21.0</td>\n",
       "      <td>111234.523810</td>\n",
       "      <td>25367.239751</td>\n",
       "      <td>71065.0</td>\n",
       "      <td>97032.0</td>\n",
       "      <td>105450.0</td>\n",
       "      <td>127512.0</td>\n",
       "      <td>161101.0</td>\n",
       "    </tr>\n",
       "    <tr>\n",
       "      <th>Male</th>\n",
       "      <td>195.0</td>\n",
       "      <td>118760.374359</td>\n",
       "      <td>29831.315448</td>\n",
       "      <td>67559.0</td>\n",
       "      <td>94731.5</td>\n",
       "      <td>113600.0</td>\n",
       "      <td>141318.0</td>\n",
       "      <td>231545.0</td>\n",
       "    </tr>\n",
       "  </tbody>\n",
       "</table>\n",
       "</div>"
      ],
      "text/plain": [
       "                   count           mean           std      min      25%  \\\n",
       "discipline sex                                                            \n",
       "A          Female   18.0   89064.944444  21638.580595  62884.0  73350.0   \n",
       "           Male    163.0  110699.981595  30663.119265  57800.0  87347.5   \n",
       "B          Female   21.0  111234.523810  25367.239751  71065.0  97032.0   \n",
       "           Male    195.0  118760.374359  29831.315448  67559.0  94731.5   \n",
       "\n",
       "                        50%       75%       max  \n",
       "discipline sex                                   \n",
       "A          Female   78000.0  108484.5  137000.0  \n",
       "           Male    105260.0  127950.0  205500.0  \n",
       "B          Female  105450.0  127512.0  161101.0  \n",
       "           Male    113600.0  141318.0  231545.0  "
      ]
     },
     "execution_count": 3,
     "metadata": {},
     "output_type": "execute_result"
    }
   ],
   "source": [
    "# если оснований для группировки более одного, \n",
    "# оформляем их списком внутри groupby()\n",
    "\n",
    "sls.groupby([\"discipline\", \"sex\"])[\"salary\"].describe()"
   ]
  },
  {
   "cell_type": "markdown",
   "metadata": {},
   "source": [
    ">Заработная плата сотрудников, которые преподают практические дисциплины, в целом, выше, как у мужчин, так и у женщин (что объяснимо, занятия по таким дисциплины обычно проходят в маленьких группах, а значит, занятий больше, и нагрузка у преподавателя больше). Заработная плата мужчин, в среднем, выше, чем у женщин, однако минимальная заработная плата выше у женщин, причём как у «теоретиков», так и у «практиков». В подвыборке мужчин, преподающих теоретические дисциплины, скорее всего, есть нехарактерно высокие значения (максимальное значение сильно больше верхнего квартиля, среднее выше медианы). То же наблюдается и в группе мужчин, преподающих практические дисциплины.\n",
    "\n",
    ">**Важно!** Обратите внимание на столбец `count`. Видно, что женщин среди сотрудников очень мало (18 и 21, всего 39). Если в дальнейшем анализе мы будем учитывать только деление по полу, объём выборки женщин будет больше 30, ещё терпимо. А вот если мы будем делить всех на четыре группы, по типу дисциплины и полу сразу, то могут возникнуть проблемы – будем получать не совсем надёжные оценки на маленьких выборках."
   ]
  },
  {
   "cell_type": "code",
   "execution_count": 4,
   "metadata": {},
   "outputs": [
    {
     "data": {
      "text/html": [
       "<div>\n",
       "<style scoped>\n",
       "    .dataframe tbody tr th:only-of-type {\n",
       "        vertical-align: middle;\n",
       "    }\n",
       "\n",
       "    .dataframe tbody tr th {\n",
       "        vertical-align: top;\n",
       "    }\n",
       "\n",
       "    .dataframe thead th {\n",
       "        text-align: right;\n",
       "    }\n",
       "</style>\n",
       "<table border=\"1\" class=\"dataframe\">\n",
       "  <thead>\n",
       "    <tr style=\"text-align: right;\">\n",
       "      <th></th>\n",
       "      <th></th>\n",
       "      <th>count</th>\n",
       "      <th>mean</th>\n",
       "      <th>std</th>\n",
       "      <th>min</th>\n",
       "      <th>25%</th>\n",
       "      <th>50%</th>\n",
       "      <th>75%</th>\n",
       "      <th>max</th>\n",
       "    </tr>\n",
       "    <tr>\n",
       "      <th>discipline</th>\n",
       "      <th>sex</th>\n",
       "      <th></th>\n",
       "      <th></th>\n",
       "      <th></th>\n",
       "      <th></th>\n",
       "      <th></th>\n",
       "      <th></th>\n",
       "      <th></th>\n",
       "      <th></th>\n",
       "    </tr>\n",
       "  </thead>\n",
       "  <tbody>\n",
       "    <tr>\n",
       "      <th rowspan=\"2\" valign=\"top\">A</th>\n",
       "      <th>Female</th>\n",
       "      <td>18.0</td>\n",
       "      <td>11.444444</td>\n",
       "      <td>10.478113</td>\n",
       "      <td>0.0</td>\n",
       "      <td>3.0</td>\n",
       "      <td>8.0</td>\n",
       "      <td>18.0</td>\n",
       "      <td>36.0</td>\n",
       "    </tr>\n",
       "    <tr>\n",
       "      <th>Male</th>\n",
       "      <td>163.0</td>\n",
       "      <td>20.889571</td>\n",
       "      <td>13.690587</td>\n",
       "      <td>0.0</td>\n",
       "      <td>8.0</td>\n",
       "      <td>19.0</td>\n",
       "      <td>30.5</td>\n",
       "      <td>57.0</td>\n",
       "    </tr>\n",
       "    <tr>\n",
       "      <th rowspan=\"2\" valign=\"top\">B</th>\n",
       "      <th>Female</th>\n",
       "      <td>21.0</td>\n",
       "      <td>11.666667</td>\n",
       "      <td>7.364328</td>\n",
       "      <td>0.0</td>\n",
       "      <td>6.0</td>\n",
       "      <td>10.0</td>\n",
       "      <td>17.0</td>\n",
       "      <td>26.0</td>\n",
       "    </tr>\n",
       "    <tr>\n",
       "      <th>Male</th>\n",
       "      <td>195.0</td>\n",
       "      <td>16.087179</td>\n",
       "      <td>12.443588</td>\n",
       "      <td>0.0</td>\n",
       "      <td>5.5</td>\n",
       "      <td>15.0</td>\n",
       "      <td>23.0</td>\n",
       "      <td>60.0</td>\n",
       "    </tr>\n",
       "  </tbody>\n",
       "</table>\n",
       "</div>"
      ],
      "text/plain": [
       "                   count       mean        std  min  25%   50%   75%   max\n",
       "discipline sex                                                            \n",
       "A          Female   18.0  11.444444  10.478113  0.0  3.0   8.0  18.0  36.0\n",
       "           Male    163.0  20.889571  13.690587  0.0  8.0  19.0  30.5  57.0\n",
       "B          Female   21.0  11.666667   7.364328  0.0  6.0  10.0  17.0  26.0\n",
       "           Male    195.0  16.087179  12.443588  0.0  5.5  15.0  23.0  60.0"
      ]
     },
     "execution_count": 4,
     "metadata": {},
     "output_type": "execute_result"
    }
   ],
   "source": [
    "sls.groupby([\"discipline\", \"sex\"])[\"service\"].describe()"
   ]
  },
  {
   "cell_type": "markdown",
   "metadata": {},
   "source": [
    ">В каждой группе сотрудников точно есть люди с нулевым опытом работы. То есть, стаж 0 – это не только теоретический минимум, но и эмпирический, наблюдающийся в данных. В каждой группе есть потенциальные выбросы, снова нехарактерно большие значения (максимум в каждой группе превосходит верхний квартиль в 2, а то и в 3 раза)."
   ]
  },
  {
   "cell_type": "code",
   "execution_count": 5,
   "metadata": {},
   "outputs": [
    {
     "data": {
      "text/html": [
       "<div>\n",
       "<style scoped>\n",
       "    .dataframe tbody tr th:only-of-type {\n",
       "        vertical-align: middle;\n",
       "    }\n",
       "\n",
       "    .dataframe tbody tr th {\n",
       "        vertical-align: top;\n",
       "    }\n",
       "\n",
       "    .dataframe thead tr th {\n",
       "        text-align: left;\n",
       "    }\n",
       "\n",
       "    .dataframe thead tr:last-of-type th {\n",
       "        text-align: right;\n",
       "    }\n",
       "</style>\n",
       "<table border=\"1\" class=\"dataframe\">\n",
       "  <thead>\n",
       "    <tr>\n",
       "      <th></th>\n",
       "      <th></th>\n",
       "      <th colspan=\"8\" halign=\"left\">salary</th>\n",
       "      <th colspan=\"8\" halign=\"left\">service</th>\n",
       "    </tr>\n",
       "    <tr>\n",
       "      <th></th>\n",
       "      <th></th>\n",
       "      <th>count</th>\n",
       "      <th>mean</th>\n",
       "      <th>std</th>\n",
       "      <th>min</th>\n",
       "      <th>25%</th>\n",
       "      <th>50%</th>\n",
       "      <th>75%</th>\n",
       "      <th>max</th>\n",
       "      <th>count</th>\n",
       "      <th>mean</th>\n",
       "      <th>std</th>\n",
       "      <th>min</th>\n",
       "      <th>25%</th>\n",
       "      <th>50%</th>\n",
       "      <th>75%</th>\n",
       "      <th>max</th>\n",
       "    </tr>\n",
       "    <tr>\n",
       "      <th>discipline</th>\n",
       "      <th>sex</th>\n",
       "      <th></th>\n",
       "      <th></th>\n",
       "      <th></th>\n",
       "      <th></th>\n",
       "      <th></th>\n",
       "      <th></th>\n",
       "      <th></th>\n",
       "      <th></th>\n",
       "      <th></th>\n",
       "      <th></th>\n",
       "      <th></th>\n",
       "      <th></th>\n",
       "      <th></th>\n",
       "      <th></th>\n",
       "      <th></th>\n",
       "      <th></th>\n",
       "    </tr>\n",
       "  </thead>\n",
       "  <tbody>\n",
       "    <tr>\n",
       "      <th rowspan=\"2\" valign=\"top\">A</th>\n",
       "      <th>Female</th>\n",
       "      <td>18.0</td>\n",
       "      <td>89064.944444</td>\n",
       "      <td>21638.580595</td>\n",
       "      <td>62884.0</td>\n",
       "      <td>73350.0</td>\n",
       "      <td>78000.0</td>\n",
       "      <td>108484.5</td>\n",
       "      <td>137000.0</td>\n",
       "      <td>18.0</td>\n",
       "      <td>11.444444</td>\n",
       "      <td>10.478113</td>\n",
       "      <td>0.0</td>\n",
       "      <td>3.0</td>\n",
       "      <td>8.0</td>\n",
       "      <td>18.0</td>\n",
       "      <td>36.0</td>\n",
       "    </tr>\n",
       "    <tr>\n",
       "      <th>Male</th>\n",
       "      <td>163.0</td>\n",
       "      <td>110699.981595</td>\n",
       "      <td>30663.119265</td>\n",
       "      <td>57800.0</td>\n",
       "      <td>87347.5</td>\n",
       "      <td>105260.0</td>\n",
       "      <td>127950.0</td>\n",
       "      <td>205500.0</td>\n",
       "      <td>163.0</td>\n",
       "      <td>20.889571</td>\n",
       "      <td>13.690587</td>\n",
       "      <td>0.0</td>\n",
       "      <td>8.0</td>\n",
       "      <td>19.0</td>\n",
       "      <td>30.5</td>\n",
       "      <td>57.0</td>\n",
       "    </tr>\n",
       "    <tr>\n",
       "      <th rowspan=\"2\" valign=\"top\">B</th>\n",
       "      <th>Female</th>\n",
       "      <td>21.0</td>\n",
       "      <td>111234.523810</td>\n",
       "      <td>25367.239751</td>\n",
       "      <td>71065.0</td>\n",
       "      <td>97032.0</td>\n",
       "      <td>105450.0</td>\n",
       "      <td>127512.0</td>\n",
       "      <td>161101.0</td>\n",
       "      <td>21.0</td>\n",
       "      <td>11.666667</td>\n",
       "      <td>7.364328</td>\n",
       "      <td>0.0</td>\n",
       "      <td>6.0</td>\n",
       "      <td>10.0</td>\n",
       "      <td>17.0</td>\n",
       "      <td>26.0</td>\n",
       "    </tr>\n",
       "    <tr>\n",
       "      <th>Male</th>\n",
       "      <td>195.0</td>\n",
       "      <td>118760.374359</td>\n",
       "      <td>29831.315448</td>\n",
       "      <td>67559.0</td>\n",
       "      <td>94731.5</td>\n",
       "      <td>113600.0</td>\n",
       "      <td>141318.0</td>\n",
       "      <td>231545.0</td>\n",
       "      <td>195.0</td>\n",
       "      <td>16.087179</td>\n",
       "      <td>12.443588</td>\n",
       "      <td>0.0</td>\n",
       "      <td>5.5</td>\n",
       "      <td>15.0</td>\n",
       "      <td>23.0</td>\n",
       "      <td>60.0</td>\n",
       "    </tr>\n",
       "  </tbody>\n",
       "</table>\n",
       "</div>"
      ],
      "text/plain": [
       "                  salary                                                 \\\n",
       "                   count           mean           std      min      25%   \n",
       "discipline sex                                                            \n",
       "A          Female   18.0   89064.944444  21638.580595  62884.0  73350.0   \n",
       "           Male    163.0  110699.981595  30663.119265  57800.0  87347.5   \n",
       "B          Female   21.0  111234.523810  25367.239751  71065.0  97032.0   \n",
       "           Male    195.0  118760.374359  29831.315448  67559.0  94731.5   \n",
       "\n",
       "                                                service                        \\\n",
       "                        50%       75%       max   count       mean        std   \n",
       "discipline sex                                                                  \n",
       "A          Female   78000.0  108484.5  137000.0    18.0  11.444444  10.478113   \n",
       "           Male    105260.0  127950.0  205500.0   163.0  20.889571  13.690587   \n",
       "B          Female  105450.0  127512.0  161101.0    21.0  11.666667   7.364328   \n",
       "           Male    113600.0  141318.0  231545.0   195.0  16.087179  12.443588   \n",
       "\n",
       "                                               \n",
       "                   min  25%   50%   75%   max  \n",
       "discipline sex                                 \n",
       "A          Female  0.0  3.0   8.0  18.0  36.0  \n",
       "           Male    0.0  8.0  19.0  30.5  57.0  \n",
       "B          Female  0.0  6.0  10.0  17.0  26.0  \n",
       "           Male    0.0  5.5  15.0  23.0  60.0  "
      ]
     },
     "execution_count": 5,
     "metadata": {},
     "output_type": "execute_result"
    }
   ],
   "source": [
    "# дополнение: можно вывести все сразу\n",
    "# столбцы выбираем списком\n",
    "\n",
    "sls.groupby([\"discipline\", \"sex\"])[[\"salary\", \"service\"]].describe()"
   ]
  },
  {
   "cell_type": "markdown",
   "metadata": {},
   "source": [
    "### Задание 2\n",
    "\n",
    "Выберите строки, соответствующие сотрудникам мужского пола (`Male`), преподающим практические дисциплины (`B`), и сохраните их в датафрейм `sls_male`. Выберите строки, соответствующие сотрудникам женского пола, преподающим практические дисциплины (`B`), и сохраните их в датафрейм `sls_female`."
   ]
  },
  {
   "cell_type": "code",
   "execution_count": 6,
   "metadata": {},
   "outputs": [],
   "source": [
    "sls_male = sls[(sls[\"sex\"] == \"Male\") & (sls[\"discipline\"] == \"B\")]\n",
    "sls_female = sls[(sls[\"sex\"] == \"Female\") & (sls[\"discipline\"] == \"B\")]"
   ]
  },
  {
   "cell_type": "markdown",
   "metadata": {},
   "source": [
    "### Задание 3\n",
    "\n",
    "Постройте гистограмму для заработной платы сотрудников, преподающих практические дисциплины.\n",
    "\n",
    "* сотрудников мужского пола, преподающих практические дисциплины;\n",
    "* сотрудников женского пола, преподающих практические дисциплины.\n",
    "\n",
    "Прокомментируйте полученные графики – форму распределения заработной платы в каждой группе, возможное наличие/отсутствие нехарактерных значений.\n",
    "\n",
    "**Подсказка**: метод `.hist()`, его можно применить к выбранному столбцу; за цвет заливки отвечает аргумент `color`, за цвет границ столбцов – аргумент `edgecolor`. "
   ]
  },
  {
   "cell_type": "code",
   "execution_count": 7,
   "metadata": {},
   "outputs": [
    {
     "data": {
      "image/png": "[encoded data removed]",
      "text/plain": [
       "<Figure size 432x288 with 1 Axes>"
      ]
     },
     "metadata": {
      "needs_background": "light"
     },
     "output_type": "display_data"
    }
   ],
   "source": [
    "sls_male[\"salary\"].hist(color = \"cornflowerblue\", edgecolor = \"white\");"
   ]
  },
  {
   "cell_type": "markdown",
   "metadata": {},
   "source": [
    ">Распределение несимметричное, скошено вправо (более длинный правый «хвост»). Больше всего сотрудников с заработной платой около 90-100 тысяч, значения свыше 200 тысяч похожи на нетипичные, и человек с такой высокой зарплатой, судя по высоте столбца, один."
   ]
  },
  {
   "cell_type": "code",
   "execution_count": 8,
   "metadata": {},
   "outputs": [
    {
     "data": {
      "image/png": "[encoded data removed]",
      "text/plain": [
       "<Figure size 432x288 with 1 Axes>"
      ]
     },
     "metadata": {
      "needs_background": "light"
     },
     "output_type": "display_data"
    }
   ],
   "source": [
    "sls_female[\"salary\"].hist(color = \"salmon\", edgecolor = \"white\");"
   ]
  },
  {
   "cell_type": "markdown",
   "metadata": {},
   "source": [
    ">Распределение тоже скошено вправо, только явных выбросов с правой стороны (редких больших значений) не наблюдается. Если посмотреть на высоты столбцов, можно отметить маленький размер выборки. Самый высокий столбец имеет высоту 5, то есть всего пять человек получает самую «распространённую» среди женщин заработную плату."
   ]
  },
  {
   "cell_type": "markdown",
   "metadata": {},
   "source": [
    "Графики можно строить по группам. Для этого нам бы не пришлось выбирать отдельно строки для `sls_male` и `sls_female`. Метод `.hist()` можно применять не только к столбцам, но и ко всему датафрейму:"
   ]
  },
  {
   "cell_type": "code",
   "execution_count": 9,
   "metadata": {},
   "outputs": [
    {
     "data": {
      "image/png": "[encoded data removed]",
      "text/plain": [
       "<Figure size 1152x648 with 4 Axes>"
      ]
     },
     "metadata": {
      "needs_background": "light"
     },
     "output_type": "display_data"
    }
   ],
   "source": [
    "# salary – для какого столбца из sls строим график\n",
    "# by – на основе каких столбцов группируем\n",
    "# figsize – размер графика в дюймах,\n",
    "# делаем больше, чтобы подписи не перекрывали друг друга\n",
    "\n",
    "sls.hist(\"salary\", by = [\"sex\", \"discipline\"],\n",
    "         color = \"limegreen\", \n",
    "         edgecolor = \"white\",\n",
    "         figsize = (16, 9));"
   ]
  },
  {
   "cell_type": "markdown",
   "metadata": {},
   "source": [
    "**Дополнение для желающих.** Чтобы сделать графики более красивыми, их можно сохранить в переменные и применить методы для доработки. "
   ]
  },
  {
   "cell_type": "code",
   "execution_count": 10,
   "metadata": {},
   "outputs": [
    {
     "data": {
      "image/png": "[encoded data removed]",
      "text/plain": [
       "<Figure size 1152x648 with 1 Axes>"
      ]
     },
     "metadata": {
      "needs_background": "light"
     },
     "output_type": "display_data"
    }
   ],
   "source": [
    "ax = sls_male[\"salary\"].hist(color = \"cornflowerblue\", \n",
    "                             edgecolor = \"white\",\n",
    "                             figsize = (16, 9))\n",
    "\n",
    "# добавим подписи и заголовок\n",
    "# font – размер шрифта, \n",
    "# loc - выравнивание (слева/справа/по центру)\n",
    "\n",
    "ax.set_title(\"Заработная плата за 9 месяцев (в долларах)\", \n",
    "             fontsize = 20, loc = \"left\");\n",
    "ax.set_xlabel(\"Заработная плата\", fontsize = 16);\n",
    "ax.set_ylabel(\"Количество сотрудников\", fontsize = 16);\n",
    "\n",
    "# выгружаем график в файл\n",
    "\n",
    "plt.savefig(\"histogram.png\")"
   ]
  },
  {
   "cell_type": "markdown",
   "metadata": {},
   "source": [
    "### Задание 4\n",
    "\n",
    "Постройте ящики с усами для заработной платы:\n",
    "\n",
    "* сотрудников мужского пола, преподающих практические дисциплины;\n",
    "* сотрудников женского пола, преподающих практические дисциплины.\n",
    "\n",
    "Прокомментируйте полученные графики. Если в какой-нибудь из групп встречаются нехарактерные значения заработной платы, удалите их из соответствующего датафрейма (оставьте в нем только строки с характерными значениями заработной платы)."
   ]
  },
  {
   "cell_type": "code",
   "execution_count": 11,
   "metadata": {},
   "outputs": [
    {
     "data": {
      "image/png": "[encoded data removed]",
      "text/plain": [
       "<Figure size 1152x648 with 1 Axes>"
      ]
     },
     "metadata": {
      "needs_background": "light"
     },
     "output_type": "display_data"
    }
   ],
   "source": [
    "# снова по группам, по аналогии с гистограммами\n",
    "\n",
    "sls.boxplot(\"salary\", by = [\"sex\", \"discipline\"], \n",
    "            figsize = (16, 9));"
   ]
  },
  {
   "cell_type": "code",
   "execution_count": 12,
   "metadata": {},
   "outputs": [
    {
     "data": {
      "image/png": "[encoded data removed]",
      "text/plain": [
       "<Figure size 432x288 with 1 Axes>"
      ]
     },
     "metadata": {
      "needs_background": "light"
     },
     "output_type": "display_data"
    }
   ],
   "source": [
    "# отдельно\n",
    "sls_male[\"salary\"].plot.box();"
   ]
  },
  {
   "cell_type": "code",
   "execution_count": 13,
   "metadata": {},
   "outputs": [
    {
     "data": {
      "image/png": "[encoded data removed]",
      "text/plain": [
       "<Figure size 432x288 with 1 Axes>"
      ]
     },
     "metadata": {
      "needs_background": "light"
     },
     "output_type": "display_data"
    }
   ],
   "source": [
    "sls_female[\"salary\"].plot.box();"
   ]
  },
  {
   "cell_type": "markdown",
   "metadata": {},
   "source": [
    ">В группе мужчин, преподающих практические дисциплины, есть один выброс, нехарактерно большое значение, как и ожидалось. Его нужно удалить!"
   ]
  },
  {
   "cell_type": "markdown",
   "metadata": {},
   "source": [
    "Удалить строку, содержащую нетипичное значение, из таблицы – то же самое, что оставить в таблице только строки с типичными значениями. По графику видно, что нетипичное значение есть в `sls_male`, и это значение выше 225 тысяч. Оставим в `sls_male` только те строки, где значение `salary` ниже 225 тысяч."
   ]
  },
  {
   "cell_type": "code",
   "execution_count": 14,
   "metadata": {},
   "outputs": [
    {
     "data": {
      "image/png": "[encoded data removed]",
      "text/plain": [
       "<Figure size 432x288 with 1 Axes>"
      ]
     },
     "metadata": {
      "needs_background": "light"
     },
     "output_type": "display_data"
    }
   ],
   "source": [
    "sls_male = sls_male[sls_male[\"salary\"] < 225000]\n",
    "\n",
    "# проверяем – выброс выбросили\n",
    "\n",
    "sls_male[\"salary\"].plot.box();"
   ]
  },
  {
   "cell_type": "markdown",
   "metadata": {},
   "source": [
    "### Задание 5\n",
    "\n",
    "Так как сотрудников женского пола в нашей выборке мало, давайте уберем деление по полу. Объединим датафреймы `sls_male` и `sls_female`."
   ]
  },
  {
   "cell_type": "code",
   "execution_count": 15,
   "metadata": {},
   "outputs": [],
   "source": [
    "sls_b = pd.concat([sls_male, sls_female])"
   ]
  },
  {
   "cell_type": "markdown",
   "metadata": {},
   "source": [
    "Постройте диаграмму рассеивания для визуализации связи между опытом работы `service` и заработной платой `salary`, расположив независимую переменную по горизонтальной оси, зависимую – по вертикальной.\n",
    "\n",
    "Прокомментируйте полученный график. Можно ли считать связь между опытом работы и заработной платой линейной?"
   ]
  },
  {
   "cell_type": "code",
   "execution_count": 16,
   "metadata": {},
   "outputs": [
    {
     "data": {
      "image/png": "[encoded data removed]",
      "text/plain": [
       "<Figure size 432x288 with 1 Axes>"
      ]
     },
     "metadata": {
      "needs_background": "light"
     },
     "output_type": "display_data"
    }
   ],
   "source": [
    "sls_b.plot.scatter(\"service\", \"salary\");"
   ]
  },
  {
   "cell_type": "markdown",
   "metadata": {},
   "source": [
    ">Связь не очень похожа на линейную, зависимость больше похожа на квадратичную, точки формируют немного растянутую параболу с ветвями вниз. Пик/перегиб параболы в районе 20-25 лет, у сотрудников со стажем менее 20-25 лет с увеличением стажа заработная плата тоже увеличивается, а у сотрудников со стажем свыше 25 лет в большинстве случаев наблюдается обратная зависимость, с годами заработная плата уменьшается."
   ]
  },
  {
   "cell_type": "markdown",
   "metadata": {},
   "source": [
    "### Задание 6\n",
    "\n",
    "Используя данные из датафрейма `sls_b` и функцию `ols()` из библиотеки `statsmodels`, постройте линейную модель, которая описывает связь между опытом работы и заработной платой. Выведите полную выдачу результатов, полученных после оценки модели и проинтерпретируйте полученные результаты: \n",
    "\n",
    "* запишите уравнение полученной модели и поясните, что содержательно означают коэффициенты;\n",
    "* укажите, является ли оценка коэффициента при независимой переменной статистически значимой.\n",
    "\n",
    "*Подсказка:* метод `.summary()`, применяется к модели после оценки с помощью метода `.fit()`."
   ]
  },
  {
   "cell_type": "code",
   "execution_count": 17,
   "metadata": {},
   "outputs": [
    {
     "data": {
      "text/html": [
       "<table class=\"simpletable\">\n",
       "<caption>OLS Regression Results</caption>\n",
       "<tr>\n",
       "  <th>Dep. Variable:</th>         <td>salary</td>      <th>  R-squared:         </th> <td>   0.240</td>\n",
       "</tr>\n",
       "<tr>\n",
       "  <th>Model:</th>                   <td>OLS</td>       <th>  Adj. R-squared:    </th> <td>   0.236</td>\n",
       "</tr>\n",
       "<tr>\n",
       "  <th>Method:</th>             <td>Least Squares</td>  <th>  F-statistic:       </th> <td>   67.26</td>\n",
       "</tr>\n",
       "<tr>\n",
       "  <th>Date:</th>             <td>Thu, 26 Sep 2024</td> <th>  Prob (F-statistic):</th> <td>2.23e-14</td>\n",
       "</tr>\n",
       "<tr>\n",
       "  <th>Time:</th>                 <td>15:08:12</td>     <th>  Log-Likelihood:    </th> <td> -2480.4</td>\n",
       "</tr>\n",
       "<tr>\n",
       "  <th>No. Observations:</th>      <td>   215</td>      <th>  AIC:               </th> <td>   4965.</td>\n",
       "</tr>\n",
       "<tr>\n",
       "  <th>Df Residuals:</th>          <td>   213</td>      <th>  BIC:               </th> <td>   4971.</td>\n",
       "</tr>\n",
       "<tr>\n",
       "  <th>Df Model:</th>              <td>     1</td>      <th>                     </th>     <td> </td>   \n",
       "</tr>\n",
       "<tr>\n",
       "  <th>Covariance Type:</th>      <td>nonrobust</td>    <th>                     </th>     <td> </td>   \n",
       "</tr>\n",
       "</table>\n",
       "<table class=\"simpletable\">\n",
       "<tr>\n",
       "      <td></td>         <th>coef</th>     <th>std err</th>      <th>t</th>      <th>P>|t|</th>  <th>[0.025</th>    <th>0.975]</th>  \n",
       "</tr>\n",
       "<tr>\n",
       "  <th>Intercept</th> <td> 9.947e+04</td> <td> 2778.057</td> <td>   35.804</td> <td> 0.000</td> <td>  9.4e+04</td> <td> 1.05e+05</td>\n",
       "</tr>\n",
       "<tr>\n",
       "  <th>service</th>   <td> 1159.5548</td> <td>  141.387</td> <td>    8.201</td> <td> 0.000</td> <td>  880.857</td> <td> 1438.253</td>\n",
       "</tr>\n",
       "</table>\n",
       "<table class=\"simpletable\">\n",
       "<tr>\n",
       "  <th>Omnibus:</th>       <td> 6.238</td> <th>  Durbin-Watson:     </th> <td>   1.908</td>\n",
       "</tr>\n",
       "<tr>\n",
       "  <th>Prob(Omnibus):</th> <td> 0.044</td> <th>  Jarque-Bera (JB):  </th> <td>   6.179</td>\n",
       "</tr>\n",
       "<tr>\n",
       "  <th>Skew:</th>          <td> 0.323</td> <th>  Prob(JB):          </th> <td>  0.0455</td>\n",
       "</tr>\n",
       "<tr>\n",
       "  <th>Kurtosis:</th>      <td> 3.522</td> <th>  Cond. No.          </th> <td>    32.2</td>\n",
       "</tr>\n",
       "</table><br/><br/>Warnings:<br/>[1] Standard Errors assume that the covariance matrix of the errors is correctly specified."
      ],
      "text/plain": [
       "<class 'statsmodels.iolib.summary.Summary'>\n",
       "\"\"\"\n",
       "                            OLS Regression Results                            \n",
       "==============================================================================\n",
       "Dep. Variable:                 salary   R-squared:                       0.240\n",
       "Model:                            OLS   Adj. R-squared:                  0.236\n",
       "Method:                 Least Squares   F-statistic:                     67.26\n",
       "Date:                Thu, 26 Sep 2024   Prob (F-statistic):           2.23e-14\n",
       "Time:                        15:08:12   Log-Likelihood:                -2480.4\n",
       "No. Observations:                 215   AIC:                             4965.\n",
       "Df Residuals:                     213   BIC:                             4971.\n",
       "Df Model:                           1                                         \n",
       "Covariance Type:            nonrobust                                         \n",
       "==============================================================================\n",
       "                 coef    std err          t      P>|t|      [0.025      0.975]\n",
       "------------------------------------------------------------------------------\n",
       "Intercept   9.947e+04   2778.057     35.804      0.000     9.4e+04    1.05e+05\n",
       "service     1159.5548    141.387      8.201      0.000     880.857    1438.253\n",
       "==============================================================================\n",
       "Omnibus:                        6.238   Durbin-Watson:                   1.908\n",
       "Prob(Omnibus):                  0.044   Jarque-Bera (JB):                6.179\n",
       "Skew:                           0.323   Prob(JB):                       0.0455\n",
       "Kurtosis:                       3.522   Cond. No.                         32.2\n",
       "==============================================================================\n",
       "\n",
       "Warnings:\n",
       "[1] Standard Errors assume that the covariance matrix of the errors is correctly specified.\n",
       "\"\"\""
      ]
     },
     "execution_count": 17,
     "metadata": {},
     "output_type": "execute_result"
    }
   ],
   "source": [
    "model = ols(\"salary ~ service\", data = sls_b).fit()\n",
    "model.summary()"
   ]
  },
  {
   "cell_type": "markdown",
   "metadata": {},
   "source": [
    "В верхней части таблицы хранится общая информация по модели:\n",
    "\n",
    "* `Dep. Variable`: зависимая переменная, здесь `salary`;\n",
    "* `Model` и `Method`: тип модели и метод оценки, здесь обычная линейная модель, оценённая методом наименьших квадратов OLS (*ordinary least squares)*;\n",
    "* `No. Observations:`: число наблюдений.\n",
    "\n",
    "Остальное мы обсудим более подробно позже, когда о этих показателях зайдёт речь на лекции.\n",
    "\n",
    "Нижнюю часть таблицы тоже пока не трогаем, там собраны характеристики распределения остатков модели и результаты проверки разных допущения для них. **Ключевая часть таблицы – средняя.** Что из неё можно понять?\n",
    "\n",
    "* Уравнение модели: $\\widehat{salary}_i = 99470 + 1159.55 \\times service_i$, как обычно, `Intercept` – это константа $\\hat{b}_0$, коэффициент при `service` – это угол наклона $\\hat{b}_1$.\n",
    "\n",
    "* Среднее значение заработной платы для сотрудника с нулевым опытом работы (при $service_i = 0)$ составляет 99470 долларов. При увеличении опыта работы на один год, заработная плата увеличивается, в среднем, на 1159 долларов.\n",
    "\n",
    "* Чтобы понять, правда ли эффект опыта на заработную плату является статистически значимым, нам нужно проверить гипотезу о том, что истинное значение коэффициента $b_1$ при $service$ равно 0, то есть $H_0: b_1 = 0$. Если гипотеза будет отвергнута, значение $\\hat{b}_1 = 1159.55$ мы получили не случайно, эффект опыта действительно ненулевой.\n",
    "\n",
    "* Чтобы это сделать, мы можем вычислить наблюдаемое значение статистики критерия, используемого для проверки этой гипотезы. Оно получается делением оценки коэффициента $\\hat{b_1}$ на его стандартную ошибку (оценку стандартного отклонения). \n",
    "\n",
    "$$\n",
    "t_{набл} = \\frac{\\hat{b_1}}{\\hat{\\sigma}_{\\hat{b_1}}} = \\frac{\\hat{b_1}}{se(\\hat{b_1})} = \\frac{\\text{coef}}{\\text{std err}}.\n",
    "$$\n",
    "\n",
    "* В таблице выше $t_{набл}$ – это значение в столбце `t`. Как можно заметить, его, действительно, можно получить, поделив коэффициент 1159.5548 в `coef` на стандартную ошибку 141.387 в `std err` (у константы то же самое, просто нас она не интересует). Итак, $t_{набл} = 8.2$. Если нулевая гипотеза верна, то $\\hat{b}_1$ имеет распределение Стьюдента с числом степеней свободы $\\text{df} = n-2$, здесь $\\text{df}=215-2=213$. Так как число степеней свободы велико, такое распределение Стьюдента практически не отличается от стандартного нормального. Поэтому, если мы примем уровень доверия равным 95%, область достоверных значений статистики будет включать значения от -2 до 2. Здесь наблюдаемое значение 8.2, оно попадает в критическую область, гипотеза отвергается. А значит, эффект опыта на зарплату не нулевой, значение 1159.5548 получилось не случайно.\n",
    "\n",
    "* Конечно, на практике чаще всего не строят критическую область «в уме», а просто смотрят на p-value как на показатель жизнеспособности нулевой гипотезы с учётом имеющихся данных. Здесь p-value находится в столбце `P>|t|`, название столбца как раз отражает его смысл, так как\n",
    "\n",
    "$$\n",
    "\\text{p-value} = \\text{P}(|t| > |t_{набл}|) = \\text{P}(t > 8.2) + \\text{P}(t < -8.2).\n",
    "$$\n",
    "\n",
    "* Python самостоятельно посчитал эту вероятность, p-value равно 0. При 95% уровне доверия (уровне доверия 5%) нулевая гипотеза отвергается, так как p-value менее 0.05. \n",
    "\n",
    "* Ещё один способ проверить гипотезу $H_0: b_1 = 0$ – посмотреть на доверительный интервал. По умолчанию Python строит 95% доверительный интервал для коэффициентов. Здесь такой интервал для коэффициента при $service$ – [880.857; 1438.253]. Как использовать этот факт для проверки гипотезы? Если доверительный интервал накрывает 0, то с вероятностью 0.95 коэффициент может оказаться равным 0, то есть эффекта опыта на заработную плату не будет. Здесь 0 не входит в доверительный интервал, значит, гипотеза отвергается, коэффициент с уверенностью 95% можно считать отличным от нуля.\n"
   ]
  },
  {
   "cell_type": "markdown",
   "metadata": {},
   "source": [
    "### Задание 7\n",
    "\n",
    "Из полученной в предыдущем задании модели извлеките остатки и сохраните их в столбец `resid` датафрейма `sls_b`. Выведите описательные статистики для остатков модели. Постройте для них гистограмму. Что можно сказать о распределении остатков?"
   ]
  },
  {
   "cell_type": "code",
   "execution_count": 18,
   "metadata": {},
   "outputs": [
    {
     "data": {
      "text/plain": [
       "count    2.150000e+02\n",
       "mean     7.018761e-11\n",
       "std      2.483285e+04\n",
       "min     -8.408656e+04\n",
       "25%     -1.612052e+04\n",
       "50%     -4.845241e+03\n",
       "75%      1.519015e+04\n",
       "max      7.150287e+04\n",
       "Name: resid, dtype: float64"
      ]
     },
     "execution_count": 18,
     "metadata": {},
     "output_type": "execute_result"
    }
   ],
   "source": [
    "sls_b[\"resid\"] = model.resid\n",
    "sls_b[\"resid\"].describe()"
   ]
  },
  {
   "cell_type": "code",
   "execution_count": 19,
   "metadata": {},
   "outputs": [
    {
     "data": {
      "image/png": "[encoded data removed]",
      "text/plain": [
       "<Figure size 432x288 with 1 Axes>"
      ]
     },
     "metadata": {
      "needs_background": "light"
     },
     "output_type": "display_data"
    }
   ],
   "source": [
    "sls_b[\"resid\"].hist();"
   ]
  },
  {
   "cell_type": "markdown",
   "metadata": {},
   "source": [
    "> Среднее арифметическое остатков равно 0 (это обеспечивается по построению), а вот медиана отличается от нуля. Это сигнал о том, что распределение остатков не является симметричным (и вряд ли будет нормальным с центром в нуле). Что и видно на гистограмме – распределение остатков не похоже на нормальное, оно не совсем симметричное, плюс, есть очень острый пик, какого у нормального распределения не наблюдается. \n",
    "\n",
    "> Итого: чисто визуально, пока без специальных тестов, условие $E(\\varepsilon_i) = 0$ можно считать выполняющимся, а вот дополнительное условие $\\varepsilon_i \\sim N(0, \\sigma^2)$ – нет."
   ]
  },
  {
   "cell_type": "markdown",
   "metadata": {},
   "source": [
    "### Задание 8\n",
    "\n",
    "Постройте диаграмму рассеивания между значениями независимой переменной и остатками модели. Как вы думаете, что может показать такой график, если говорить о выполнении условий Гаусса-Маркова?"
   ]
  },
  {
   "cell_type": "code",
   "execution_count": 20,
   "metadata": {},
   "outputs": [
    {
     "data": {
      "image/png": "[encoded data removed]",
      "text/plain": [
       "<Figure size 432x288 with 1 Axes>"
      ]
     },
     "metadata": {
      "needs_background": "light"
     },
     "output_type": "display_data"
    }
   ],
   "source": [
    "sls_b.plot.scatter(\"service\", \"resid\");"
   ]
  },
  {
   "cell_type": "markdown",
   "metadata": {},
   "source": [
    "> Такая диаграмма позволит визуально проверить, выполняется ли условие $Cov(\\varepsilon_i, x_i) = 0$. Если остатки – это оценки ошибок, то, по-хорошему, линейной связи между значениями независимой переменной и остатками быть не должно. Если линейной связи нет, облако точек не должно иметь явного наклона на построенной диаграмме. Здесь это не выполняется, небольшая связь есть. Плюс, тоже есть намёк на квадратичность, до опыта 20-25 лет связь между опытом и остатками положительная, а затем – отрицательная. Это неслучайно, это следствие того, что и зависимость между опытом и зарплатой была не совсем линейная."
   ]
  },
  {
   "cell_type": "markdown",
   "metadata": {},
   "source": [
    "Для визуальной проверки ещё одного условия добавим на график горизонтальную линию $y=0$:"
   ]
  },
  {
   "cell_type": "code",
   "execution_count": 21,
   "metadata": {},
   "outputs": [
    {
     "data": {
      "image/png": "[encoded data removed]",
      "text/plain": [
       "<Figure size 432x288 with 1 Axes>"
      ]
     },
     "metadata": {
      "needs_background": "light"
     },
     "output_type": "display_data"
    }
   ],
   "source": [
    "# сохраняем график в переменную ax\n",
    "# добавляем горизонтальную линию через hlines\n",
    "# xmin и xmax – границы по оси x\n",
    "# linestyle – тип линии\n",
    "\n",
    "ax = sls_b.plot.scatter(\"service\", \"resid\");\n",
    "ax.hlines(y = 0, xmin = 0, xmax = 60,\n",
    "          color = 'red', \n",
    "          linestyle = \"dashed\");"
   ]
  },
  {
   "cell_type": "markdown",
   "metadata": {},
   "source": [
    ">К условиям Гаусса-Маркова относится ещё одно условие $Var(\\varepsilon_i)=\\sigma^2$, то есть постоянство дисперсии ошибок. Что означает постоянство дисперсии ошибок? Что на разных наблюдениях модель может предсказывать значение зависимой переменной по-разному, где-то завышать значения, где-то занижать, однако ошибки должны отклоняться от 0 примерно на одинаковое расстояние. Не должно быть такого, что модель слабо ошибается при маленьких значениях независимой переменной и сильно – при больших, и наоборот. Что мы видим на диаграмме рассеивания? Остатки разбросаны относительно 0 не равномерно, например, на сотрудниках с опытом работы около 10 лет модель ошибается несильно (точки более сконцентрированы вокруг 0), а на сотрудниках с опытом работы более 30 лет – гораздо сильнее (многие точки далеки от 0)."
   ]
  },
  {
   "cell_type": "markdown",
   "metadata": {},
   "source": [
    "## Часть 2: центральная предельная теорема"
   ]
  },
  {
   "cell_type": "markdown",
   "metadata": {},
   "source": [
    "Импортируем библиотеку `numpy` и модуль `stats` из библиотеки `scipy`, они нам понадобятся для этой части:"
   ]
  },
  {
   "cell_type": "code",
   "execution_count": 22,
   "metadata": {},
   "outputs": [],
   "source": [
    "import numpy as np\n",
    "from scipy import stats"
   ]
  },
  {
   "cell_type": "markdown",
   "metadata": {},
   "source": [
    "В задаче №1а для самостоятельного решения (из недели 3) вам предложено поработать с гамма-распределением. Плотность гамма-распределения можно задать по-разному. Используя один параметр $\\alpha$ (при $x \\geqslant 0$, $\\alpha > 0$):\n",
    "\n",
    "$$\n",
    "f(x, \\alpha) = \\frac{x^{\\alpha-1} e^{-x}}{\\Gamma(\\alpha)}.\n",
    "$$\n",
    "\n",
    "Или два параметра $\\alpha$ и $\\beta$:\n",
    "\n",
    "$$\n",
    "f(x, \\alpha, \\beta) = \\frac{\\beta^\\alpha x^{\\alpha - 1} e^{-\\beta x }}{\\Gamma(\\alpha)}.\n",
    "$$\n",
    "\n",
    "Как можно заметить, при $\\beta=1$ разницы между формулами нет. В модуле `stats` используется первый вариант, с одним параметром $\\alpha$ (чтобы учесть $\\beta$, при работе с распределением нужно добавить аргумент `scale`, равный $1/\\beta$):\n",
    "\n",
    "Создадим с помощью функции `gamma()` случайную величину `x` с параметрами $\\alpha=5$, $\\beta=1$:"
   ]
  },
  {
   "cell_type": "code",
   "execution_count": 23,
   "metadata": {},
   "outputs": [
    {
     "name": "stdout",
     "output_type": "stream",
     "text": [
      "<class 'scipy.stats._distn_infrastructure.rv_frozen'>\n"
     ]
    }
   ],
   "source": [
    "# a = alpha\n",
    "# rv – random variable\n",
    "\n",
    "x = stats.gamma(a = 5)\n",
    "print(type(x))"
   ]
  },
  {
   "cell_type": "markdown",
   "metadata": {},
   "source": [
    "Чему равно математическое ожидание и стандартное отклонение такой величины?\n",
    "\n",
    "**Подсказка:** $E(X) = \\alpha/\\beta$, $D(X) = \\alpha/\\beta^2$."
   ]
  },
  {
   "cell_type": "code",
   "execution_count": null,
   "metadata": {},
   "outputs": [],
   "source": [
    "# ex = 5\n",
    "# dx = 5\n",
    "# sx = sqrt(5) = 2.23"
   ]
  },
  {
   "cell_type": "markdown",
   "metadata": {},
   "source": [
    "Если мы применим к объекту типа `random variable` методы `.mean()` и `.std()`, мы получим не среднее арифметическое и выборочное стандартное отклонение (пока нет выборки и массива с ее значениями), а математическое ожидание и стандартное отклонение случайной величины:"
   ]
  },
  {
   "cell_type": "code",
   "execution_count": 24,
   "metadata": {},
   "outputs": [
    {
     "name": "stdout",
     "output_type": "stream",
     "text": [
      "E(X) 5.0\n",
      "sd(X) 2.23606797749979\n"
     ]
    }
   ],
   "source": [
    "ex = x.mean()\n",
    "sx = x.std()\n",
    "print(\"E(X)\", ex)\n",
    "print(\"sd(X)\", sx)"
   ]
  },
  {
   "cell_type": "markdown",
   "metadata": {},
   "source": [
    "Сгенерируем случайную выборку из такой случайной величины объема $n=100$ (у каждого будет своя выборка) и посчитаем ее среднее и стандартное отклонение:"
   ]
  },
  {
   "cell_type": "code",
   "execution_count": 26,
   "metadata": {},
   "outputs": [
    {
     "name": "stdout",
     "output_type": "stream",
     "text": [
      "[ 8.39963204  2.24121873  1.5060232   2.75024917  6.16848431  3.95725589\n",
      "  9.54954111  9.43420378  2.75562409  3.46129072  6.74207625  5.93507859\n",
      "  6.02158056  3.6233985   4.12981727  7.32450973  5.61182662 10.28926201\n",
      "  4.91469267  2.90184158  4.86729655  2.97616738  3.65611089  2.78638611\n",
      "  3.28987706  3.0718013  10.89552825  5.18346476  7.58788138  7.68280826\n",
      "  2.4996912   4.45879454  3.24689343  3.06711396  3.3375056   3.28370729\n",
      "  2.88941968  2.20545029  3.29680274  3.58970564  4.77096951  3.40499986\n",
      "  5.35626167  5.02449109  4.33812993  4.86783463  2.93878821  3.86006171\n",
      "  4.00943111  4.3110783   1.58056917  5.18560985  2.80691183  3.58775826\n",
      "  7.73346105  3.62478454  3.84032409  3.71075104  3.48376151  4.25211523\n",
      "  2.56824664  5.44152213  3.35803118  2.81405618  6.55653518  2.51279504\n",
      "  4.66043693  7.82859406  2.99390907  2.70315822  3.85764877  5.94014585\n",
      "  8.22049044  5.35142931 10.33535442  4.41219006  3.61067525  6.0999591\n",
      "  6.72081478  3.20363228  2.66895945  9.08970517  6.42848441  2.12760858\n",
      "  7.39719682  1.38178247  5.78835288  2.39252803  9.93216156  3.12567648\n",
      "  6.26692937  2.86965204  5.79761931  5.03350562  1.71583442  7.16476038\n",
      "  8.34488322  2.86120287  6.20131088  6.71931965]\n",
      "average 4.7677520425518205\n",
      "std 2.230941001342455\n"
     ]
    }
   ],
   "source": [
    "sample = x.rvs(size = 100)\n",
    "print(sample)\n",
    "\n",
    "print(\"average\", sample.mean())\n",
    "print(\"std\", sample.std(ddof=1))"
   ]
  },
  {
   "cell_type": "markdown",
   "metadata": {},
   "source": [
    "Теперь повторим процедуру извлечения выборок объема $n=100$ пять тысяч раз и на каждой итерации цикла будем вычислять среднее арифметическое и записывать его в список `averages`:"
   ]
  },
  {
   "cell_type": "code",
   "execution_count": 27,
   "metadata": {},
   "outputs": [],
   "source": [
    "averages = []\n",
    "for i in range(0, 5000):\n",
    "    sample = x.rvs(size = 100)\n",
    "    ave = sample.mean()\n",
    "    averages.append(ave)"
   ]
  },
  {
   "cell_type": "markdown",
   "metadata": {},
   "source": [
    "Для удобства дальнейшей работы превратим список в массив:"
   ]
  },
  {
   "cell_type": "code",
   "execution_count": 28,
   "metadata": {},
   "outputs": [],
   "source": [
    "Averages = np.array(averages)"
   ]
  },
  {
   "cell_type": "markdown",
   "metadata": {},
   "source": [
    "Какое распределение, согласно центральной предельной теореме, имеет выборочное среднее, если мы рассматриваем выборки объема $n=100$ из распределения с математическим ожиданием 5 и стандартным отклонением 2.24? Укажите название и параметры указанного распределения."
   ]
  },
  {
   "cell_type": "code",
   "execution_count": null,
   "metadata": {},
   "outputs": [],
   "source": [
    "# нормальное\n",
    "# мат ожидание 5\n",
    "# ст отклонение 2.24 / sqrt(n) = 0.224"
   ]
  },
  {
   "cell_type": "markdown",
   "metadata": {},
   "source": [
    "Вычислите среднее и выборочное стандарттное отклонение по массиву `Averages`. Постройте для них гистограмму. Сравните полученные результаты с теми, что были получены «теоретически» на шаге ранее."
   ]
  },
  {
   "cell_type": "code",
   "execution_count": 29,
   "metadata": {},
   "outputs": [
    {
     "name": "stdout",
     "output_type": "stream",
     "text": [
      "4.999738088064153\n",
      "0.22768386222003528\n"
     ]
    }
   ],
   "source": [
    "print(Averages.mean())\n",
    "print(Averages.std(ddof=1)) # сходится"
   ]
  },
  {
   "cell_type": "code",
   "execution_count": 30,
   "metadata": {},
   "outputs": [
    {
     "data": {
      "image/png": "[encoded data removed]",
      "text/plain": [
       "<Figure size 432x288 with 1 Axes>"
      ]
     },
     "metadata": {
      "needs_background": "light"
     },
     "output_type": "display_data"
    }
   ],
   "source": [
    "plt.hist(Averages, edgecolor = \"white\"); # похоже на нормальное"
   ]
  }
 ],
 "metadata": {
  "kernelspec": {
   "display_name": "Python 3",
   "language": "python",
   "name": "python3"
  },
  "language_info": {
   "codemirror_mode": {
    "name": "ipython",
    "version": 3
   },
   "file_extension": ".py",
   "mimetype": "text/x-python",
   "name": "python",
   "nbconvert_exporter": "python",
   "pygments_lexer": "ipython3",
   "version": "3.7.4"
  }
 },
 "nbformat": 4,
 "nbformat_minor": 2
}
