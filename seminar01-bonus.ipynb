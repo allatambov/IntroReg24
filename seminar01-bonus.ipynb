{
 "cells": [
  {
   "cell_type": "markdown",
   "metadata": {},
   "source": [
    "# Введение в регрессионный анализ\n",
    "\n",
    "## Семинар 1. Решение бонусной задачи\n",
    "\n",
    "*Алла Тамбовцева*"
   ]
  },
  {
   "cell_type": "markdown",
   "metadata": {},
   "source": [
    "### Задание 6*\n",
    "\n",
    "Используя цикл `for`, создайте датафрейм следующего вида:\n",
    "\n",
    "<table border=\"1\" class=\"dataframe\">\n",
    "  <thead>\n",
    "    <tr style=\"text-align: right;\">\n",
    "      <th></th>\n",
    "      <th>Platform</th>\n",
    "      <th>Likes (Positive)</th>\n",
    "      <th>Likes (Negative)</th>\n",
    "      <th>Statistic</th>\n",
    "      <th>P-value</th>\n",
    "    </tr>\n",
    "  </thead>\n",
    "  <tbody>\n",
    "    <tr>\n",
    "      <th>0</th>\n",
    "      <td>Facebook</td>\n",
    "      <td>43.181818</td>\n",
    "      <td>34.862069</td>\n",
    "      <td>3.382185</td>\n",
    "      <td>0.001014</td>\n",
    "    </tr>\n",
    "    <tr>\n",
    "      <th>1</th>\n",
    "      <td>Instagram</td>\n",
    "      <td>49.220779</td>\n",
    "      <td>35.709677</td>\n",
    "      <td>4.445217</td>\n",
    "      <td>0.000022</td>\n",
    "    </tr>\n",
    "    <tr>\n",
    "      <th>2</th>\n",
    "      <td>Twitter</td>\n",
    "      <td>45.466667</td>\n",
    "      <td>35.333333</td>\n",
    "      <td>4.109807</td>\n",
    "      <td>0.000077</td>\n",
    "    </tr>\n",
    "  </tbody>\n",
    "</table>\n",
    "\n",
    "Здесь первый столбец – название платформы, второй и третий – средние значения числа лайков для положительно и отрицательно окрашенных постов, четвёртый и пятый – наблюдаемое значение t-статистики и p-value, полученные по результатам реализации двухвыборочного критерия Стьюдента по аналогии с заданием 5."
   ]
  },
  {
   "cell_type": "code",
   "execution_count": 1,
   "metadata": {},
   "outputs": [],
   "source": [
    "import pandas as pd\n",
    "from scipy import stats"
   ]
  },
  {
   "cell_type": "markdown",
   "metadata": {},
   "source": [
    "Ниже представлены два варианта решения, первый, возможно, привычнее, но немного длиннее, второй – более компактный. Ключевая идея – датафрейм можно получить из словаря со списками, из списка списков, из списка словарей. Простые примеры для наглядности:"
   ]
  },
  {
   "cell_type": "code",
   "execution_count": 2,
   "metadata": {},
   "outputs": [
    {
     "data": {
      "text/html": [
       "<div>\n",
       "<style scoped>\n",
       "    .dataframe tbody tr th:only-of-type {\n",
       "        vertical-align: middle;\n",
       "    }\n",
       "\n",
       "    .dataframe tbody tr th {\n",
       "        vertical-align: top;\n",
       "    }\n",
       "\n",
       "    .dataframe thead th {\n",
       "        text-align: right;\n",
       "    }\n",
       "</style>\n",
       "<table border=\"1\" class=\"dataframe\">\n",
       "  <thead>\n",
       "    <tr style=\"text-align: right;\">\n",
       "      <th></th>\n",
       "      <th>A</th>\n",
       "      <th>B</th>\n",
       "    </tr>\n",
       "  </thead>\n",
       "  <tbody>\n",
       "    <tr>\n",
       "      <th>0</th>\n",
       "      <td>1</td>\n",
       "      <td>0</td>\n",
       "    </tr>\n",
       "    <tr>\n",
       "      <th>1</th>\n",
       "      <td>3</td>\n",
       "      <td>1</td>\n",
       "    </tr>\n",
       "    <tr>\n",
       "      <th>2</th>\n",
       "      <td>5</td>\n",
       "      <td>0</td>\n",
       "    </tr>\n",
       "  </tbody>\n",
       "</table>\n",
       "</div>"
      ],
      "text/plain": [
       "   A  B\n",
       "0  1  0\n",
       "1  3  1\n",
       "2  5  0"
      ]
     },
     "execution_count": 2,
     "metadata": {},
     "output_type": "execute_result"
    }
   ],
   "source": [
    "# из словаря со списками\n",
    "pd.DataFrame({\"A\" : [1, 3, 5], \"B\" : [0, 1, 0]})"
   ]
  },
  {
   "cell_type": "code",
   "execution_count": 3,
   "metadata": {},
   "outputs": [
    {
     "data": {
      "text/html": [
       "<div>\n",
       "<style scoped>\n",
       "    .dataframe tbody tr th:only-of-type {\n",
       "        vertical-align: middle;\n",
       "    }\n",
       "\n",
       "    .dataframe tbody tr th {\n",
       "        vertical-align: top;\n",
       "    }\n",
       "\n",
       "    .dataframe thead th {\n",
       "        text-align: right;\n",
       "    }\n",
       "</style>\n",
       "<table border=\"1\" class=\"dataframe\">\n",
       "  <thead>\n",
       "    <tr style=\"text-align: right;\">\n",
       "      <th></th>\n",
       "      <th>A</th>\n",
       "      <th>B</th>\n",
       "      <th>C</th>\n",
       "    </tr>\n",
       "  </thead>\n",
       "  <tbody>\n",
       "    <tr>\n",
       "      <th>0</th>\n",
       "      <td>1</td>\n",
       "      <td>8</td>\n",
       "      <td>5</td>\n",
       "    </tr>\n",
       "    <tr>\n",
       "      <th>1</th>\n",
       "      <td>2</td>\n",
       "      <td>8</td>\n",
       "      <td>0</td>\n",
       "    </tr>\n",
       "  </tbody>\n",
       "</table>\n",
       "</div>"
      ],
      "text/plain": [
       "   A  B  C\n",
       "0  1  8  5\n",
       "1  2  8  0"
      ]
     },
     "execution_count": 3,
     "metadata": {},
     "output_type": "execute_result"
    }
   ],
   "source": [
    "# из списка списков\n",
    "pd.DataFrame([[1, 8, 5], \n",
    "              [2, 8, 0]], columns = [\"A\", \"B\", \"C\"])"
   ]
  },
  {
   "cell_type": "code",
   "execution_count": 4,
   "metadata": {},
   "outputs": [
    {
     "data": {
      "text/html": [
       "<div>\n",
       "<style scoped>\n",
       "    .dataframe tbody tr th:only-of-type {\n",
       "        vertical-align: middle;\n",
       "    }\n",
       "\n",
       "    .dataframe tbody tr th {\n",
       "        vertical-align: top;\n",
       "    }\n",
       "\n",
       "    .dataframe thead th {\n",
       "        text-align: right;\n",
       "    }\n",
       "</style>\n",
       "<table border=\"1\" class=\"dataframe\">\n",
       "  <thead>\n",
       "    <tr style=\"text-align: right;\">\n",
       "      <th></th>\n",
       "      <th>user</th>\n",
       "      <th>password</th>\n",
       "    </tr>\n",
       "  </thead>\n",
       "  <tbody>\n",
       "    <tr>\n",
       "      <th>0</th>\n",
       "      <td>Alla</td>\n",
       "      <td>python</td>\n",
       "    </tr>\n",
       "    <tr>\n",
       "      <th>1</th>\n",
       "      <td>Dobby</td>\n",
       "      <td>sock</td>\n",
       "    </tr>\n",
       "  </tbody>\n",
       "</table>\n",
       "</div>"
      ],
      "text/plain": [
       "    user password\n",
       "0   Alla   python\n",
       "1  Dobby     sock"
      ]
     },
     "execution_count": 4,
     "metadata": {},
     "output_type": "execute_result"
    }
   ],
   "source": [
    "# из списка словарей\n",
    "pd.DataFrame([{\"user\" : \"Alla\", \"password\" : \"python\"}, \n",
    "              {\"user\" : \"Dobby\", \"password\" : \"sock\"}])"
   ]
  },
  {
   "cell_type": "markdown",
   "metadata": {},
   "source": [
    "### Вариант 1. Заполняем списки, которые будут столбцами датафрейма\n",
    "\n",
    "**Идея.** Создаём пять пустых списков, каждый из них будет столбцом датафрейма с результатами. Проходим в цикле по парам, получаемым в результате группировки через `.groupby()` (название платформы `name` и датафрейм с соответствующими ей строками `df`). На каждой итерации цикла, то есть для каждой платформы, отбираем строки с постами с меткой `Positive` и `Negative`, считаем среднее по столбцу `Likes`, реализуем t-test, первый результат выдачи записываем в `t`, а второй – в `pvalue`. Через `.append()` заполняем списки для столбцов датафрейма с результатами. Создаём словарь, где ключами являются названия столбцов, а значениями – заполненные списки. Из такого словаря получаем итоговый датафрейм."
   ]
  },
  {
   "cell_type": "code",
   "execution_count": 5,
   "metadata": {},
   "outputs": [
    {
     "data": {
      "text/html": [
       "<div>\n",
       "<style scoped>\n",
       "    .dataframe tbody tr th:only-of-type {\n",
       "        vertical-align: middle;\n",
       "    }\n",
       "\n",
       "    .dataframe tbody tr th {\n",
       "        vertical-align: top;\n",
       "    }\n",
       "\n",
       "    .dataframe thead th {\n",
       "        text-align: right;\n",
       "    }\n",
       "</style>\n",
       "<table border=\"1\" class=\"dataframe\">\n",
       "  <thead>\n",
       "    <tr style=\"text-align: right;\">\n",
       "      <th></th>\n",
       "      <th>Platform</th>\n",
       "      <th>Likes (Positive)</th>\n",
       "      <th>Likes (Negative)</th>\n",
       "      <th>Statistic</th>\n",
       "      <th>P-value</th>\n",
       "    </tr>\n",
       "  </thead>\n",
       "  <tbody>\n",
       "    <tr>\n",
       "      <th>0</th>\n",
       "      <td>Facebook</td>\n",
       "      <td>43.181818</td>\n",
       "      <td>34.862069</td>\n",
       "      <td>3.382185</td>\n",
       "      <td>0.001014</td>\n",
       "    </tr>\n",
       "    <tr>\n",
       "      <th>1</th>\n",
       "      <td>Instagram</td>\n",
       "      <td>49.220779</td>\n",
       "      <td>35.709677</td>\n",
       "      <td>4.445217</td>\n",
       "      <td>0.000022</td>\n",
       "    </tr>\n",
       "    <tr>\n",
       "      <th>2</th>\n",
       "      <td>Twitter</td>\n",
       "      <td>45.466667</td>\n",
       "      <td>35.333333</td>\n",
       "      <td>4.109807</td>\n",
       "      <td>0.000077</td>\n",
       "    </tr>\n",
       "  </tbody>\n",
       "</table>\n",
       "</div>"
      ],
      "text/plain": [
       "    Platform  Likes (Positive)  Likes (Negative)  Statistic   P-value\n",
       "0   Facebook         43.181818         34.862069   3.382185  0.001014\n",
       "1  Instagram         49.220779         35.709677   4.445217  0.000022\n",
       "2    Twitter         45.466667         35.333333   4.109807  0.000077"
      ]
     },
     "execution_count": 5,
     "metadata": {},
     "output_type": "execute_result"
    }
   ],
   "source": [
    "dat = pd.read_csv(\"sentiment.csv\")\n",
    "\n",
    "platform = []\n",
    "pos_likes = []\n",
    "neg_likes = []\n",
    "t_stats = []\n",
    "p_values = []\n",
    "\n",
    "for name, df in dat.groupby(\"Platform\"):\n",
    "    pos = df[df[\"Sentiment\"] == \"Positive\"]\n",
    "    neg = df[df[\"Sentiment\"] == \"Negative\"]\n",
    "    pos_avg = pos[\"Likes\"].mean()\n",
    "    neg_avg = neg[\"Likes\"].mean()\n",
    "    t, pvalue = stats.ttest_ind(pos[\"Likes\"], neg[\"Likes\"])\n",
    "    \n",
    "    platform.append(name)\n",
    "    pos_likes.append(pos_avg)\n",
    "    neg_likes.append(neg_avg)\n",
    "    t_stats.append(t)\n",
    "    p_values.append(pvalue)\n",
    "\n",
    "res = pd.DataFrame({\"Platform\" : platform, \n",
    "              \"Likes (Positive)\" : pos_likes, \n",
    "              \"Likes (Negative)\" : neg_likes, \n",
    "              \"Statistic\": t_stats,\n",
    "              \"P-value\" : p_values})\n",
    "res"
   ]
  },
  {
   "cell_type": "markdown",
   "metadata": {},
   "source": [
    "### Вариант 2. Заполняем списки, которые будут строками датафрейма\n",
    "\n",
    "**Идея.** Создаём один пустой список, в него будем добавлять маленькие списки (один список – одна строка для необходимого датафрейма с результатами, то есть одна строка – данные для одной платформы). Проходим в цикле по парам, получаемым в результате группировки через `.groupby()` (название платформы `name` и датафрейм с соответствующими ей строками `df`). На каждой итерации цикла, то есть для каждой платформы, отбираем строки с постами с меткой `Positive` и `Negative`, считаем среднее по столбцу `Likes`, реализуем t-test, первый результат выдачи записываем в `t`, а второй – в `pvalue`. Через `.append()` заполняем пустой список для строк датафрейма с результатами. Создаём датафрейм из списка списков, в аргумент `columns` вписываем названия столбцов, так как по умолчанию они будут просто пронумерованы."
   ]
  },
  {
   "cell_type": "code",
   "execution_count": 6,
   "metadata": {},
   "outputs": [
    {
     "data": {
      "text/html": [
       "<div>\n",
       "<style scoped>\n",
       "    .dataframe tbody tr th:only-of-type {\n",
       "        vertical-align: middle;\n",
       "    }\n",
       "\n",
       "    .dataframe tbody tr th {\n",
       "        vertical-align: top;\n",
       "    }\n",
       "\n",
       "    .dataframe thead th {\n",
       "        text-align: right;\n",
       "    }\n",
       "</style>\n",
       "<table border=\"1\" class=\"dataframe\">\n",
       "  <thead>\n",
       "    <tr style=\"text-align: right;\">\n",
       "      <th></th>\n",
       "      <th>Platform</th>\n",
       "      <th>Likes (Positive)</th>\n",
       "      <th>Likes (Negative)</th>\n",
       "      <th>Statistic</th>\n",
       "      <th>P-value</th>\n",
       "    </tr>\n",
       "  </thead>\n",
       "  <tbody>\n",
       "    <tr>\n",
       "      <th>0</th>\n",
       "      <td>Facebook</td>\n",
       "      <td>43.181818</td>\n",
       "      <td>34.862069</td>\n",
       "      <td>3.382185</td>\n",
       "      <td>0.001014</td>\n",
       "    </tr>\n",
       "    <tr>\n",
       "      <th>1</th>\n",
       "      <td>Instagram</td>\n",
       "      <td>49.220779</td>\n",
       "      <td>35.709677</td>\n",
       "      <td>4.445217</td>\n",
       "      <td>0.000022</td>\n",
       "    </tr>\n",
       "    <tr>\n",
       "      <th>2</th>\n",
       "      <td>Twitter</td>\n",
       "      <td>45.466667</td>\n",
       "      <td>35.333333</td>\n",
       "      <td>4.109807</td>\n",
       "      <td>0.000077</td>\n",
       "    </tr>\n",
       "  </tbody>\n",
       "</table>\n",
       "</div>"
      ],
      "text/plain": [
       "    Platform  Likes (Positive)  Likes (Negative)  Statistic   P-value\n",
       "0   Facebook         43.181818         34.862069   3.382185  0.001014\n",
       "1  Instagram         49.220779         35.709677   4.445217  0.000022\n",
       "2    Twitter         45.466667         35.333333   4.109807  0.000077"
      ]
     },
     "execution_count": 6,
     "metadata": {},
     "output_type": "execute_result"
    }
   ],
   "source": [
    "dat = pd.read_csv(\"sentiment.csv\")\n",
    "\n",
    "all_stats = []\n",
    "\n",
    "for name, df in dat.groupby(\"Platform\"):\n",
    "    pos = df[df[\"Sentiment\"] == \"Positive\"]\n",
    "    neg = df[df[\"Sentiment\"] == \"Negative\"]\n",
    "    pos_avg = pos[\"Likes\"].mean()\n",
    "    neg_avg = neg[\"Likes\"].mean()\n",
    "    t, pvalue = stats.ttest_ind(pos[\"Likes\"], neg[\"Likes\"])\n",
    "    all_stats.append([name, pos_avg, neg_avg, t, pvalue])\n",
    "\n",
    "res = pd.DataFrame(all_stats, \n",
    "             columns=[\"Platform\", \"Likes (Positive)\", \n",
    "                      \"Likes (Negative)\", \"Statistic\", \"P-value\"])\n",
    "res"
   ]
  },
  {
   "cell_type": "markdown",
   "metadata": {},
   "source": [
    "### Смертельный номер\n",
    "\n",
    "Для тех, кто хочет увидеть код в одну строку без явного цикла. Так можно делать, но не нужно! Формально это одна строка, но не очень понятная, длинная, нарушающая принцип *do not repeat yourself* (посчитайте, сколько раз выполняется одинаковая фильтрация). Вместо цикла здесь используется списковое включение, внутри списка генерируются маленькие списки, которые служат строками датафрейма, как в варианте 2."
   ]
  },
  {
   "cell_type": "code",
   "execution_count": 7,
   "metadata": {},
   "outputs": [
    {
     "data": {
      "text/html": [
       "<div>\n",
       "<style scoped>\n",
       "    .dataframe tbody tr th:only-of-type {\n",
       "        vertical-align: middle;\n",
       "    }\n",
       "\n",
       "    .dataframe tbody tr th {\n",
       "        vertical-align: top;\n",
       "    }\n",
       "\n",
       "    .dataframe thead th {\n",
       "        text-align: right;\n",
       "    }\n",
       "</style>\n",
       "<table border=\"1\" class=\"dataframe\">\n",
       "  <thead>\n",
       "    <tr style=\"text-align: right;\">\n",
       "      <th></th>\n",
       "      <th>Platform</th>\n",
       "      <th>Likes (Positive)</th>\n",
       "      <th>Likes (Negative)</th>\n",
       "      <th>Statistic</th>\n",
       "      <th>P-value</th>\n",
       "    </tr>\n",
       "  </thead>\n",
       "  <tbody>\n",
       "    <tr>\n",
       "      <th>0</th>\n",
       "      <td>Facebook</td>\n",
       "      <td>43.181818</td>\n",
       "      <td>34.862069</td>\n",
       "      <td>3.382185</td>\n",
       "      <td>0.001014</td>\n",
       "    </tr>\n",
       "    <tr>\n",
       "      <th>1</th>\n",
       "      <td>Instagram</td>\n",
       "      <td>49.220779</td>\n",
       "      <td>35.709677</td>\n",
       "      <td>4.445217</td>\n",
       "      <td>0.000022</td>\n",
       "    </tr>\n",
       "    <tr>\n",
       "      <th>2</th>\n",
       "      <td>Twitter</td>\n",
       "      <td>45.466667</td>\n",
       "      <td>35.333333</td>\n",
       "      <td>4.109807</td>\n",
       "      <td>0.000077</td>\n",
       "    </tr>\n",
       "  </tbody>\n",
       "</table>\n",
       "</div>"
      ],
      "text/plain": [
       "    Platform  Likes (Positive)  Likes (Negative)  Statistic   P-value\n",
       "0   Facebook         43.181818         34.862069   3.382185  0.001014\n",
       "1  Instagram         49.220779         35.709677   4.445217  0.000022\n",
       "2    Twitter         45.466667         35.333333   4.109807  0.000077"
      ]
     },
     "execution_count": 7,
     "metadata": {},
     "output_type": "execute_result"
    }
   ],
   "source": [
    "pd.DataFrame([[name, \n",
    "               df[df[\"Sentiment\"] == \"Positive\"][\"Likes\"].mean(), \n",
    "               df[df[\"Sentiment\"] == \"Negative\"][\"Likes\"].mean(), \n",
    "  stats.ttest_ind(df[df[\"Sentiment\"] == \"Positive\"][\"Likes\"], \n",
    "                df[df[\"Sentiment\"] == \"Negative\"][\"Likes\"])[0],\n",
    "  stats.ttest_ind(df[df[\"Sentiment\"] == \"Positive\"][\"Likes\"], \n",
    "                df[df[\"Sentiment\"] == \"Negative\"][\"Likes\"])[1]]\n",
    "for name, df in dat.groupby(\"Platform\")], columns = [\"Platform\", \"Likes (Positive)\", \n",
    "                      \"Likes (Negative)\", \"Statistic\", \"P-value\"])"
   ]
  }
 ],
 "metadata": {
  "kernelspec": {
   "display_name": "Python 3",
   "language": "python",
   "name": "python3"
  },
  "language_info": {
   "codemirror_mode": {
    "name": "ipython",
    "version": 3
   },
   "file_extension": ".py",
   "mimetype": "text/x-python",
   "name": "python",
   "nbconvert_exporter": "python",
   "pygments_lexer": "ipython3",
   "version": "3.7.4"
  }
 },
 "nbformat": 4,
 "nbformat_minor": 2
}
