{
 "cells": [
  {
   "cell_type": "markdown",
   "metadata": {},
   "source": [
    "# Введение в регрессионный анализ\n",
    "\n",
    "## Необязательное домашнее задание №1\n",
    "\n",
    "*Алла Тамбовцева*\n",
    "\n",
    "В задачах 1-2 предлагается поработать с файлом `sentiment.csv`, с которым мы работали на семинаре 1.\n",
    "\n",
    "Показатели в файле:\n",
    "\n",
    "* `Text`: текст поста;\n",
    "* `Sentiment`: эмоциональная окраска поста (значения `Positive` и `Negative`);\n",
    "* `Timestamp`: время публикации поста;\n",
    "* `User`: имя пользователя;\n",
    "* `Platform`: платформа (значения `Facebook`, `Instagram`, `Twitter`*);\n",
    "* `Hashtags`: хэштеги;\n",
    "* `Retweets`: число репостов;\n",
    "* `Likes`: число лайков;\n",
    "* `Country`: страна пользователя;\n",
    "* `Year`: год публикации поста;\n",
    "* `Month`: месяц публикации поста;\n",
    "* `Day`: день публикации поста;\n",
    "* `Hour`: час публикации поста.\n",
    "\n",
    "*все три платформы запрещены в РФ."
   ]
  },
  {
   "cell_type": "markdown",
   "metadata": {},
   "source": [
    "### Задача 1. Утро добрым не бывает\n",
    "\n",
    "Так как число лайков, поставленных постам в социальных сетях, зависит, в том числе, от числа просмотров, логично предположить, что утренние посты получают меньше лайков, так как в небольшом промежутке времени после публикации их читает меньшее число пользователей (утром не все ещё проснулись или заняты сборами на работу/на учёбу). Так ли это на самом деле? Подумайте, какие факты можно предложить \n",
    "в качестве контраргументов этому утверждению. \n",
    "\n",
    "А теперь давайте проверим, можно ли считать среднее число лайков одинаковым у утренних и не-утренних постов.\n",
    "\n",
    "1. Загрузите данные из файла `sentiment.csv` и сохраните его в датафрейм.\n",
    "2. Выберите из датафрейма строки, которые соответствуют постам, опубликованным в утреннее время (до 12:00, см. столбец `Hour`), и сохраните их в датафрейм `morning`. Выберите из датафрейма строки, которые соответствуют постам, опубликованным в дневное и вечернее время (с 12:00 и далее), и сохраните их в датафрейм `day`. \n",
    "3. Выведите описательные статистики для числовых столбцов датафрейма `morning`. Проделайте то же для `day`. Каких постов, утренних или не-утренних, больше в имеющихся данных? В какое время дня посты получают больше лайков? \n",
    "4. Используя критерий Стьюдента для двух выборок, проверьте, считая уровень доверия равным 0.95, можно ли считать среднее число лайков у утренних и не-утренних постов одинаковым."
   ]
  },
  {
   "cell_type": "code",
   "execution_count": null,
   "metadata": {},
   "outputs": [],
   "source": [
    "### YOUR CODE HERE ###"
   ]
  },
  {
   "cell_type": "markdown",
   "metadata": {},
   "source": [
    "### Задача 2. Кто популярнее?\n",
    "\n",
    "Ниже приведены два массива значений, в первом из них – выборка числа лайков, поставленных постам, опубликованных пользователями из США, во втором – выборка числа лайков, поставленных постам пользователей из Канады:"
   ]
  },
  {
   "cell_type": "code",
   "execution_count": null,
   "metadata": {},
   "outputs": [],
   "source": [
    "import numpy as np\n",
    "\n",
    "us = np.array([30, 40, 30, 45, 55, 40, 30, 60, 45, 60, 50, 35, 60, 50, 30, 40, 35,\n",
    "       60, 40, 40, 50, 40, 40, 35, 45, 30, 60, 30, 40, 50, 50, 50, 50, 80,\n",
    "       70, 70, 55, 45, 70, 80, 35, 70, 30, 45, 40, 45, 70, 40, 70, 50, 60,\n",
    "       50, 40, 50, 40, 60, 50, 45, 55, 40, 50, 40, 30, 36, 40, 37, 39, 48,\n",
    "       50, 44, 48, 47, 60, 15, 30, 35, 30, 35, 20, 25, 15, 32, 40, 40, 40,\n",
    "       55, 70, 40, 28, 34, 44, 35, 50, 32, 48])\n",
    "\n",
    "canada = np.array([20, 30, 25, 25, 30, 25, 35, 30, 45, 50, 45, 45, 45, 30, 44, 35, 30,\n",
    "       40, 45, 70, 80, 80, 70, 45, 55, 35, 45, 45, 55, 45, 55, 60, 35, 60,\n",
    "       60, 45, 55, 40, 50, 48, 39, 52, 48, 38, 45, 51, 42, 10, 15, 40, 40,\n",
    "       30, 15, 20, 15, 20, 15, 30, 50, 30, 70, 45, 50, 35, 45, 36, 41, 31,\n",
    "       39, 42, 36, 43])"
   ]
  },
  {
   "cell_type": "markdown",
   "metadata": {},
   "source": [
    "1. Реализуйте критерий Стьюдента для двух выборок, используя приведенные выше выборки и функцию `ttest_ind()` из модуля `stats`. Проинтерпретируйте полученные результаты.\n",
    "2. Вычислите, используя соответствующие методы, средние арифметические выборок (сохраните их как `mean1` и `mean2`) и выборочные стандартные отклонения (сохраните их как `std1` и `std2`). Определите число элементов в выборках и сохраните их как `nobs1` и `nobs2`.\n",
    "3. Реализуйте критерий Стьюдента для двух выборок, используя статистики из предыдущего пункта и функцию `ttest_ind_from_stats()` из модуля `stats`. На вход эта функция принимает перечень готовых описательных статистик для двух групп:\n",
    "\n",
    "        ttest_ind_from_stats(mean1, std1, nobs1, mean2, std2, nobs2)\n",
    "        \n",
    "4. Сравните результаты пунктов 1 и 3. Если они отличаются, проверьте, верно ли вы посчитали стандартные отклонения. \n",
    "5. Используя данные, полученные в пункте 3, вычислите наблюдаемое значение статистики критерия по формуле, предложенной на лекции. Сравните ответ с результатами пунктов 1 и 3."
   ]
  },
  {
   "cell_type": "code",
   "execution_count": null,
   "metadata": {},
   "outputs": [],
   "source": [
    "### YOUR CODE HERE ###"
   ]
  },
  {
   "cell_type": "markdown",
   "metadata": {},
   "source": [
    "### Задача 3*. Угадай регрессию\n",
    "\n",
    "В библиотеке `numpy` есть модуль `random`, который позволяет генерировать случайные числа или выбирать случайным образом элементы из какого-нибудь перечня. Так, мы можем написать простой код, который будет случайным образом извлекать целое число от 1 до 20:"
   ]
  },
  {
   "cell_type": "code",
   "execution_count": null,
   "metadata": {},
   "outputs": [],
   "source": [
    "import numpy as np\n",
    "\n",
    "# у каждого свое случайное число\n",
    "np.random.choice(range(1, 21))"
   ]
  },
  {
   "cell_type": "markdown",
   "metadata": {},
   "source": [
    "Напишем простую игру, которая будет заключаться в следующем: пользователю показывается график прямой $y = b_0 + b_1x$, а он должен указать значения коэффициентов $b_0$ и $b_1$. Для гуманности все коэффициенты будут целыми числами из диапазона от -3 до 3. \n",
    "Загадать два числа несложно:"
   ]
  },
  {
   "cell_type": "code",
   "execution_count": null,
   "metadata": {},
   "outputs": [],
   "source": [
    "# берем range(), превращаем в список и выкидываем 0\n",
    "interval = list(range(-3, 4))\n",
    "interval.remove(0)\n",
    "\n",
    "b0 = np.random.choice(interval)\n",
    "b1 = np.random.choice(interval)"
   ]
  },
  {
   "cell_type": "markdown",
   "metadata": {},
   "source": [
    "Прямую можно построить по двум точкам. Создадим массив `x` из значений -2 и 2 и получим массив `y`, пользуясь уравнением прямой:"
   ]
  },
  {
   "cell_type": "code",
   "execution_count": null,
   "metadata": {},
   "outputs": [],
   "source": [
    "x = np.array([-2, 2])\n",
    "y = b0 + b1 * x\n",
    "print(x, y)"
   ]
  },
  {
   "cell_type": "markdown",
   "metadata": {},
   "source": [
    "Чтобы не вызывать сейчас отдельный модуль для графики, сохраним все в датафрейм по аналогии с семинаром 1:"
   ]
  },
  {
   "cell_type": "code",
   "execution_count": null,
   "metadata": {},
   "outputs": [],
   "source": [
    "import pandas as pd\n",
    "df = pd.DataFrame({\"x\" : x, \"y\" : y})\n",
    "df"
   ]
  },
  {
   "cell_type": "markdown",
   "metadata": {},
   "source": [
    "Построим график:"
   ]
  },
  {
   "cell_type": "code",
   "execution_count": null,
   "metadata": {},
   "outputs": [],
   "source": [
    "# figsize – размер графика в дюймах, grid – координатная сетка\n",
    "df.plot(\"x\", \"y\", grid = True, figsize = (4, 4));"
   ]
  },
  {
   "cell_type": "markdown",
   "metadata": {},
   "source": [
    "По такому графику не всегда удобно определять коэффициенты. Давайте добавим побольше засечек. По оси x в любом случае достаточно будет взять целые значения от -2 до 2 (в `x` эти границы), а вот по оси y значения зависят от того, какие коэффициенты загадал Python. Поэтому в `range()` для гарантии результата поместим минимальное и максимальное значение из `y`:"
   ]
  },
  {
   "cell_type": "code",
   "execution_count": null,
   "metadata": {},
   "outputs": [],
   "source": [
    "# сохраняем график в переменную ax\n",
    "# добавляем в него засечки (ticks) по оси x и y\n",
    "\n",
    "ax = df.plot(\"x\", \"y\", grid = True, figsize = (4, 4));\n",
    "ax.set_xticks(range(-2, 3));\n",
    "ax.set_yticks(range(min(y), max(y) + 1));"
   ]
  },
  {
   "cell_type": "markdown",
   "metadata": {},
   "source": [
    "Готово! По графику можно определить значение $b_0$ (значение $y$ при $x=0$) и значение $b_1$ (коэффициент угла наклона). Проверим себя и посмотрим, что загадал Python:"
   ]
  },
  {
   "cell_type": "code",
   "execution_count": null,
   "metadata": {},
   "outputs": [],
   "source": [
    "print(b0, b1)"
   ]
  },
  {
   "cell_type": "markdown",
   "metadata": {},
   "source": [
    "Так и есть! Итого, если собрать весь код в одну программу, получаем:"
   ]
  },
  {
   "cell_type": "code",
   "execution_count": 6,
   "metadata": {},
   "outputs": [
    {
     "data": {
      "image/png": "[encoded data removed]",
      "text/plain": [
       "<Figure size 288x288 with 1 Axes>"
      ]
     },
     "metadata": {
      "needs_background": "light"
     },
     "output_type": "display_data"
    }
   ],
   "source": [
    "import numpy as np\n",
    "import pandas as pd\n",
    "\n",
    "interval = list(range(-3, 4))\n",
    "interval.remove(0)\n",
    "\n",
    "b0 = np.random.choice(interval)\n",
    "b1 = np.random.choice(interval)\n",
    "\n",
    "x = np.array([-2, 2])\n",
    "y = b0 + b1 * x\n",
    "df = pd.DataFrame({\"x\" : x, \"y\" : y})\n",
    "\n",
    "ax = df.plot(\"x\", \"y\", grid = True, figsize = (4, 4));\n",
    "ax.set_xticks(range(-2, 3));\n",
    "ax.set_yticks(range(min(y), max(y) + 1));"
   ]
  },
  {
   "cell_type": "code",
   "execution_count": 7,
   "metadata": {},
   "outputs": [
    {
     "name": "stdout",
     "output_type": "stream",
     "text": [
      "3 3\n"
     ]
    }
   ],
   "source": [
    "print(b0, b1)"
   ]
  },
  {
   "cell_type": "markdown",
   "metadata": {},
   "source": [
    "Самый главный код готов, его можно повторно запускать и проверять себя через `print(b0, b1)`. Игру можно сделать более интересной, например, написать цикл, который будет повторять код 10 раз, запрашивать с клавиатуры значения коэффициентов, сравнивать их с `b0` и `b1` и за верные ответы начислять баллы."
   ]
  },
  {
   "cell_type": "code",
   "execution_count": null,
   "metadata": {},
   "outputs": [],
   "source": [
    "### YOUR CODE HERE ###"
   ]
  }
 ],
 "metadata": {
  "kernelspec": {
   "display_name": "Python 3",
   "language": "python",
   "name": "python3"
  },
  "language_info": {
   "codemirror_mode": {
    "name": "ipython",
    "version": 3
   },
   "file_extension": ".py",
   "mimetype": "text/x-python",
   "name": "python",
   "nbconvert_exporter": "python",
   "pygments_lexer": "ipython3",
   "version": "3.7.4"
  }
 },
 "nbformat": 4,
 "nbformat_minor": 2
}
