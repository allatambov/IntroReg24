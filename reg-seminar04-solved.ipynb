{
 "cells": [
  {
   "cell_type": "markdown",
   "metadata": {},
   "source": [
    "# Введение в регрессионный анализ\n",
    "## Семинар 4. Доверительный интервал для наклона регрессии"
   ]
  },
  {
   "cell_type": "markdown",
   "metadata": {},
   "source": [
    "Импортируем необходимые библиотеки, модули и функции:"
   ]
  },
  {
   "cell_type": "code",
   "execution_count": 1,
   "metadata": {},
   "outputs": [
    {
     "name": "stderr",
     "output_type": "stream",
     "text": [
      "/opt/anaconda3/lib/python3.7/site-packages/statsmodels/tools/_testing.py:19: FutureWarning: pandas.util.testing is deprecated. Use the functions in the public API at pandas.testing instead.\n",
      "  import pandas.util.testing as tm\n"
     ]
    }
   ],
   "source": [
    "import pandas as pd\n",
    "from matplotlib import pyplot as plt\n",
    "from statsmodels.formula.api import ols"
   ]
  },
  {
   "cell_type": "markdown",
   "metadata": {},
   "source": [
    "В этом практикуме мы будем работать с данными о качестве жизни в крупных городах. Пояснения по столбцам в файле `city24.csv`:\n",
    "    \n",
    "* `city`: название города;\n",
    "* `Decibel_Level`: уровень шума;\n",
    "* `Traffic_Density`: плотность трафика, интенсивность дорожного движения;\n",
    "* `Green_Space_Area`: площадь зелёных насаждений;\n",
    "* `Air_Quality_Index`: индекс качества воздуха (чем выше, тем грязнее воздух);\n",
    "* `Happiness_Score`: индекс счастья;\n",
    "* `Cost_of_Living_Index`: индекс стоимости жизни;\n",
    "* `Healthcare_Index`: индекс качества здравоохранения."
   ]
  },
  {
   "cell_type": "markdown",
   "metadata": {},
   "source": [
    "## Часть 1: описание данных и оценка моделей"
   ]
  },
  {
   "cell_type": "markdown",
   "metadata": {},
   "source": [
    "Загрузите данные из файла `city24.csv` и сохраните их в датафрейм `df`."
   ]
  },
  {
   "cell_type": "code",
   "execution_count": 2,
   "metadata": {},
   "outputs": [],
   "source": [
    "df = pd.read_csv(\"city24.csv\")"
   ]
  },
  {
   "cell_type": "markdown",
   "metadata": {},
   "source": [
    "### Задача 1\n",
    "\n",
    "Выберите строки, которые соответствуют городам с низкой или средней транспортной загруженностью (столбец `Traffic_Density`), и сохраните их в датафрейм `chosen`. В последующих заданиях нужно работать именно с этим датафреймом. "
   ]
  },
  {
   "cell_type": "code",
   "execution_count": 3,
   "metadata": {},
   "outputs": [
    {
     "data": {
      "text/plain": [
       "Low          48\n",
       "High         26\n",
       "Medium       22\n",
       "Very High    19\n",
       "Name: Traffic_Density, dtype: int64"
      ]
     },
     "execution_count": 3,
     "metadata": {},
     "output_type": "execute_result"
    }
   ],
   "source": [
    "# посмотрим на значения\n",
    "df[\"Traffic_Density\"].value_counts()"
   ]
  },
  {
   "cell_type": "code",
   "execution_count": 4,
   "metadata": {},
   "outputs": [],
   "source": [
    "chosen = df[(df[\"Traffic_Density\"] == \"Low\") | \n",
    "            (df[\"Traffic_Density\"] == \"Medium\")]"
   ]
  },
  {
   "cell_type": "markdown",
   "metadata": {},
   "source": [
    "### Задача 2\n",
    "\n",
    "Отсортируйте строки в датафрейме `chosen` по убыванию значений индекса счастья. Посмотрите на полученные результаты. \n",
    "\n",
    "*Подсказка:* метод `.sort_values()`, применяется к датафрейму, для настройки порядка сортировки используется аргумент `ascending`."
   ]
  },
  {
   "cell_type": "code",
   "execution_count": 5,
   "metadata": {},
   "outputs": [
    {
     "data": {
      "text/html": [
       "<div>\n",
       "<style scoped>\n",
       "    .dataframe tbody tr th:only-of-type {\n",
       "        vertical-align: middle;\n",
       "    }\n",
       "\n",
       "    .dataframe tbody tr th {\n",
       "        vertical-align: top;\n",
       "    }\n",
       "\n",
       "    .dataframe thead th {\n",
       "        text-align: right;\n",
       "    }\n",
       "</style>\n",
       "<table border=\"1\" class=\"dataframe\">\n",
       "  <thead>\n",
       "    <tr style=\"text-align: right;\">\n",
       "      <th></th>\n",
       "      <th>Unnamed: 0</th>\n",
       "      <th>City</th>\n",
       "      <th>Decibel_Level</th>\n",
       "      <th>Traffic_Density</th>\n",
       "      <th>Green_Space_Area</th>\n",
       "      <th>Air_Quality_Index</th>\n",
       "      <th>Happiness_Score</th>\n",
       "      <th>Cost_of_Living_Index</th>\n",
       "      <th>Healthcare_Index</th>\n",
       "    </tr>\n",
       "  </thead>\n",
       "  <tbody>\n",
       "    <tr>\n",
       "      <th>78</th>\n",
       "      <td>78</td>\n",
       "      <td>Nelson</td>\n",
       "      <td>50</td>\n",
       "      <td>Low</td>\n",
       "      <td>100</td>\n",
       "      <td>10</td>\n",
       "      <td>8.5</td>\n",
       "      <td>70</td>\n",
       "      <td>97</td>\n",
       "    </tr>\n",
       "    <tr>\n",
       "      <th>82</th>\n",
       "      <td>82</td>\n",
       "      <td>Palmerston North</td>\n",
       "      <td>55</td>\n",
       "      <td>Low</td>\n",
       "      <td>125</td>\n",
       "      <td>20</td>\n",
       "      <td>8.5</td>\n",
       "      <td>45</td>\n",
       "      <td>98</td>\n",
       "    </tr>\n",
       "    <tr>\n",
       "      <th>33</th>\n",
       "      <td>33</td>\n",
       "      <td>Oslo</td>\n",
       "      <td>50</td>\n",
       "      <td>Low</td>\n",
       "      <td>85</td>\n",
       "      <td>25</td>\n",
       "      <td>8.5</td>\n",
       "      <td>115</td>\n",
       "      <td>99</td>\n",
       "    </tr>\n",
       "    <tr>\n",
       "      <th>86</th>\n",
       "      <td>86</td>\n",
       "      <td>Gisborne</td>\n",
       "      <td>55</td>\n",
       "      <td>Low</td>\n",
       "      <td>145</td>\n",
       "      <td>20</td>\n",
       "      <td>8.4</td>\n",
       "      <td>25</td>\n",
       "      <td>98</td>\n",
       "    </tr>\n",
       "    <tr>\n",
       "      <th>77</th>\n",
       "      <td>77</td>\n",
       "      <td>Queenstown</td>\n",
       "      <td>55</td>\n",
       "      <td>Low</td>\n",
       "      <td>95</td>\n",
       "      <td>15</td>\n",
       "      <td>8.4</td>\n",
       "      <td>75</td>\n",
       "      <td>96</td>\n",
       "    </tr>\n",
       "    <tr>\n",
       "      <th>...</th>\n",
       "      <td>...</td>\n",
       "      <td>...</td>\n",
       "      <td>...</td>\n",
       "      <td>...</td>\n",
       "      <td>...</td>\n",
       "      <td>...</td>\n",
       "      <td>...</td>\n",
       "      <td>...</td>\n",
       "      <td>...</td>\n",
       "    </tr>\n",
       "    <tr>\n",
       "      <th>110</th>\n",
       "      <td>110</td>\n",
       "      <td>Te Hana</td>\n",
       "      <td>55</td>\n",
       "      <td>Low</td>\n",
       "      <td>265</td>\n",
       "      <td>20</td>\n",
       "      <td>5.5</td>\n",
       "      <td>25</td>\n",
       "      <td>98</td>\n",
       "    </tr>\n",
       "    <tr>\n",
       "      <th>111</th>\n",
       "      <td>111</td>\n",
       "      <td>Waipu</td>\n",
       "      <td>60</td>\n",
       "      <td>Medium</td>\n",
       "      <td>270</td>\n",
       "      <td>35</td>\n",
       "      <td>5.2</td>\n",
       "      <td>20</td>\n",
       "      <td>95</td>\n",
       "    </tr>\n",
       "    <tr>\n",
       "      <th>112</th>\n",
       "      <td>112</td>\n",
       "      <td>Ruakaka</td>\n",
       "      <td>55</td>\n",
       "      <td>Low</td>\n",
       "      <td>275</td>\n",
       "      <td>30</td>\n",
       "      <td>5.0</td>\n",
       "      <td>25</td>\n",
       "      <td>96</td>\n",
       "    </tr>\n",
       "    <tr>\n",
       "      <th>113</th>\n",
       "      <td>113</td>\n",
       "      <td>Whangarei</td>\n",
       "      <td>50</td>\n",
       "      <td>Low</td>\n",
       "      <td>280</td>\n",
       "      <td>25</td>\n",
       "      <td>4.8</td>\n",
       "      <td>20</td>\n",
       "      <td>97</td>\n",
       "    </tr>\n",
       "    <tr>\n",
       "      <th>114</th>\n",
       "      <td>114</td>\n",
       "      <td>Dargaville</td>\n",
       "      <td>55</td>\n",
       "      <td>Low</td>\n",
       "      <td>285</td>\n",
       "      <td>20</td>\n",
       "      <td>4.5</td>\n",
       "      <td>25</td>\n",
       "      <td>98</td>\n",
       "    </tr>\n",
       "  </tbody>\n",
       "</table>\n",
       "<p>70 rows × 9 columns</p>\n",
       "</div>"
      ],
      "text/plain": [
       "     Unnamed: 0              City  Decibel_Level Traffic_Density  \\\n",
       "78           78            Nelson             50             Low   \n",
       "82           82  Palmerston North             55             Low   \n",
       "33           33              Oslo             50             Low   \n",
       "86           86          Gisborne             55             Low   \n",
       "77           77        Queenstown             55             Low   \n",
       "..          ...               ...            ...             ...   \n",
       "110         110           Te Hana             55             Low   \n",
       "111         111             Waipu             60          Medium   \n",
       "112         112           Ruakaka             55             Low   \n",
       "113         113         Whangarei             50             Low   \n",
       "114         114        Dargaville             55             Low   \n",
       "\n",
       "     Green_Space_Area  Air_Quality_Index  Happiness_Score  \\\n",
       "78                100                 10              8.5   \n",
       "82                125                 20              8.5   \n",
       "33                 85                 25              8.5   \n",
       "86                145                 20              8.4   \n",
       "77                 95                 15              8.4   \n",
       "..                ...                ...              ...   \n",
       "110               265                 20              5.5   \n",
       "111               270                 35              5.2   \n",
       "112               275                 30              5.0   \n",
       "113               280                 25              4.8   \n",
       "114               285                 20              4.5   \n",
       "\n",
       "     Cost_of_Living_Index  Healthcare_Index  \n",
       "78                     70                97  \n",
       "82                     45                98  \n",
       "33                    115                99  \n",
       "86                     25                98  \n",
       "77                     75                96  \n",
       "..                    ...               ...  \n",
       "110                    25                98  \n",
       "111                    20                95  \n",
       "112                    25                96  \n",
       "113                    20                97  \n",
       "114                    25                98  \n",
       "\n",
       "[70 rows x 9 columns]"
      ]
     },
     "execution_count": 5,
     "metadata": {},
     "output_type": "execute_result"
    }
   ],
   "source": [
    "chosen.sort_values(\"Happiness_Score\", ascending = False)"
   ]
  },
  {
   "cell_type": "markdown",
   "metadata": {},
   "source": [
    "### Задача 3\n",
    "\n",
    "В дальнейшем анализе нас будут интересовать переменные `Happiness_Score`, `Decibel_Level` и `Cost_of_Living_Index`. Давайте построим гистограммы для визуализации их распределения, только не по-отдельности, а все сразу. Воспользуемся более продвинутым способом построения графиков, обращаясь к функциям модуля `plt`, который мы импортировали из библиотеки `matplotlib`. \n",
    "\n",
    "В этом модуле есть функция `subplots()`, которая создает несколько подграфиков внутри одного изображения. Так, мы можем создать сетку из графиков из одной строки и трех столбцов, то есть поставить три графика в один ряд:"
   ]
  },
  {
   "cell_type": "code",
   "execution_count": 6,
   "metadata": {},
   "outputs": [
    {
     "data": {
      "text/plain": [
       "(<Figure size 432x288 with 3 Axes>,\n",
       " array([<AxesSubplot:>, <AxesSubplot:>, <AxesSubplot:>], dtype=object))"
      ]
     },
     "execution_count": 6,
     "metadata": {},
     "output_type": "execute_result"
    },
    {
     "data": {
      "image/png": "[encoded data removed]",
      "text/plain": [
       "<Figure size 432x288 with 3 Axes>"
      ]
     },
     "metadata": {
      "needs_background": "light"
     },
     "output_type": "display_data"
    }
   ],
   "source": [
    "plt.subplots(nrows = 1, ncols = 3)"
   ]
  },
  {
   "cell_type": "markdown",
   "metadata": {},
   "source": [
    "Пока это набор из трёх пустых координатных плоскостей (осей) внутри одной картинки. Сохраним результаты, возвращённые функцией, в переменные. Так как первый результат – это изображение, его часто называют `fig` (от *figure*). Второй результат – это набор осей, его обычно сокращают до `ax` (*axes*). Заодно установим размер картинки 16 на 9 дюймов:"
   ]
  },
  {
   "cell_type": "code",
   "execution_count": 7,
   "metadata": {},
   "outputs": [
    {
     "data": {
      "image/png": "[encoded data removed]",
      "text/plain": [
       "<Figure size 1152x648 with 3 Axes>"
      ]
     },
     "metadata": {
      "needs_background": "light"
     },
     "output_type": "display_data"
    }
   ],
   "source": [
    "fig, axes = plt.subplots(nrows = 1, ncols = 3, figsize = (16, 9));"
   ]
  },
  {
   "cell_type": "markdown",
   "metadata": {},
   "source": [
    "Теперь осталось добавить в каждую координатную плоскость по графику. Гистограмму для `Happiness_Score` поместим в первую плоскость `axes[0]` – код для этого действия уже написан, можете добавить свой цвет заливки в `color`. \n",
    "\n",
    "Дополните код так, чтобы во второй координатной плоскости была гистограмма для `Decibel_Level`, а в третьей – для `Cost_of_Living_Index`. Прокомментируйте полученные гистограммы."
   ]
  },
  {
   "cell_type": "code",
   "execution_count": 8,
   "metadata": {},
   "outputs": [
    {
     "data": {
      "image/png": "[encoded data removed]",
      "text/plain": [
       "<Figure size 1152x648 with 3 Axes>"
      ]
     },
     "metadata": {
      "needs_background": "light"
     },
     "output_type": "display_data"
    }
   ],
   "source": [
    "fig, axes = plt.subplots(nrows = 1, ncols = 3, figsize = (16, 9));\n",
    "\n",
    "axes[0].hist(chosen[\"Happiness_Score\"], color = \"#DE3163\", edgecolor = \"white\");\n",
    "axes[0].set_xlabel(\"Happiness Score\");\n",
    "\n",
    "axes[1].hist(chosen[\"Decibel_Level\"], color = \"#4A545C\", edgecolor = \"white\");\n",
    "axes[1].set_xlabel(\"Decibel Level\");\n",
    "\n",
    "axes[2].hist(chosen[\"Cost_of_Living_Index\"], color = \"#7BA05B\", edgecolor = \"white\");\n",
    "axes[2].set_xlabel(\"Cost of Living\");"
   ]
  },
  {
   "cell_type": "markdown",
   "metadata": {},
   "source": [
    "### Задача 4\n",
    "\n",
    "Постройте модель линейной регрессии, которая описывает связь между индексом счастья и уровнем шума. Сохраните её в переменную `model01` и выведите на экран полную выдачу с результатами оценки модели. Запишите уравнение модели, приведите содержательную интерпретацию оценок коэффициентов. Можно ли считать, приняв уровень доверия равным 95%, что уровень шума оказывает эффект на уровень счастья? Изменится ли вывод, если мы изменим уровень доверия на 90% или 99%?"
   ]
  },
  {
   "cell_type": "code",
   "execution_count": 9,
   "metadata": {},
   "outputs": [
    {
     "name": "stdout",
     "output_type": "stream",
     "text": [
      "                            OLS Regression Results                            \n",
      "==============================================================================\n",
      "Dep. Variable:        Happiness_Score   R-squared:                       0.136\n",
      "Model:                            OLS   Adj. R-squared:                  0.123\n",
      "Method:                 Least Squares   F-statistic:                     10.72\n",
      "Date:                Tue, 01 Oct 2024   Prob (F-statistic):            0.00167\n",
      "Time:                        12:52:32   Log-Likelihood:                -93.244\n",
      "No. Observations:                  70   AIC:                             190.5\n",
      "Df Residuals:                      68   BIC:                             195.0\n",
      "Df Model:                           1                                         \n",
      "Covariance Type:            nonrobust                                         \n",
      "=================================================================================\n",
      "                    coef    std err          t      P>|t|      [0.025      0.975]\n",
      "---------------------------------------------------------------------------------\n",
      "Intercept        11.5213      1.268      9.084      0.000       8.991      14.052\n",
      "Decibel_Level    -0.0737      0.023     -3.273      0.002      -0.119      -0.029\n",
      "==============================================================================\n",
      "Omnibus:                       28.703   Durbin-Watson:                   0.217\n",
      "Prob(Omnibus):                  0.000   Jarque-Bera (JB):               46.121\n",
      "Skew:                          -1.607   Prob(JB):                     9.66e-11\n",
      "Kurtosis:                       5.341   Cond. No.                         643.\n",
      "==============================================================================\n",
      "\n",
      "Warnings:\n",
      "[1] Standard Errors assume that the covariance matrix of the errors is correctly specified.\n"
     ]
    }
   ],
   "source": [
    "model01 = ols(\"Happiness_Score ~ Decibel_Level\", data = chosen).fit()\n",
    "print(model01.summary())"
   ]
  },
  {
   "cell_type": "markdown",
   "metadata": {},
   "source": [
    "* Уравнение модели: $\\widehat{Happiness}_i = 11.52 -0.07 \\times DecibelLevel_i$;\n",
    "* При уровне шума 0, согласно модели, среднее значение индекса счастья равно 11.52. При увеличении уровня шума на один децибел, индекс счастья, в среднем, снижается на 0.07 единиц. \n",
    "* На уровне доверия 95% гипотеза о равенстве коэффициента при уровне шума нулю отвергается, так как, во-первых, наблюдаемое значение t-статистики попадает в критическую область, во-вторых, p-value меньше 0.05, в-третьих, 95%-ный доверительный интервал для оценки коэффициента не накрывает 0. Эффект уровня шума на уровень счастья есть, и он статистически значимый.\n",
    "* На уровнях доверия 90% и 99% вывод не изменится, наблюдаемое значение t-статистики превышает по модулю 3, значит, выходит за границы достоверных значений при любом уровне доверия, p-value мало, примерно 0.002."
   ]
  },
  {
   "cell_type": "markdown",
   "metadata": {},
   "source": [
    "### Задача 5\n",
    "\n",
    "Постройте модель линейной регрессии, которая описывает связь между индексом счастья и индексом стоимости жизни. Сохраните её в переменную `model02` и выведите на экран полную выдачу с результатами оценки модели. Запишите уравнение модели, приведите содержательную интерпретацию оценок коэффициентов. Можно ли считать, приняв уровень доверия равным 95%, что уровень шума оказывает эффект на уровень счастья? Изменится ли вывод, если мы изменим уровень доверия на 90% или 99%?"
   ]
  },
  {
   "cell_type": "code",
   "execution_count": 10,
   "metadata": {},
   "outputs": [
    {
     "name": "stdout",
     "output_type": "stream",
     "text": [
      "                            OLS Regression Results                            \n",
      "==============================================================================\n",
      "Dep. Variable:        Happiness_Score   R-squared:                       0.073\n",
      "Model:                            OLS   Adj. R-squared:                  0.060\n",
      "Method:                 Least Squares   F-statistic:                     5.365\n",
      "Date:                Tue, 01 Oct 2024   Prob (F-statistic):             0.0236\n",
      "Time:                        12:52:35   Log-Likelihood:                -95.707\n",
      "No. Observations:                  70   AIC:                             195.4\n",
      "Df Residuals:                      68   BIC:                             199.9\n",
      "Df Model:                           1                                         \n",
      "Covariance Type:            nonrobust                                         \n",
      "========================================================================================\n",
      "                           coef    std err          t      P>|t|      [0.025      0.975]\n",
      "----------------------------------------------------------------------------------------\n",
      "Intercept                6.9373      0.225     30.798      0.000       6.488       7.387\n",
      "Cost_of_Living_Index     0.0078      0.003      2.316      0.024       0.001       0.015\n",
      "==============================================================================\n",
      "Omnibus:                        8.660   Durbin-Watson:                   0.387\n",
      "Prob(Omnibus):                  0.013   Jarque-Bera (JB):                9.108\n",
      "Skew:                          -0.883   Prob(JB):                       0.0105\n",
      "Kurtosis:                       2.957   Cond. No.                         130.\n",
      "==============================================================================\n",
      "\n",
      "Warnings:\n",
      "[1] Standard Errors assume that the covariance matrix of the errors is correctly specified.\n"
     ]
    }
   ],
   "source": [
    "model02 = ols(\"Happiness_Score ~ Cost_of_Living_Index\", data = chosen).fit()\n",
    "print(model02.summary())"
   ]
  },
  {
   "cell_type": "markdown",
   "metadata": {},
   "source": [
    "* Уравнение модели: $\\widehat{Happiness}_i = 6.93 + 0.008 \\times CostLiving_i$;\n",
    "* При нулевом значении индекса стоимости жизни, согласно модели, среднее значение индекса счастья равно 6.93. При увеличении индекса стоимости жизни на один децибел, индекс счастья, в среднем, увеличивается на 0.008 единиц. \n",
    "* На уровне доверия 95% гипотеза о равенстве коэффициента при индексе стоимости жизни нулю отвергается, так как, во-первых, наблюдаемое значение t-статистики попадает в критическую область, во-вторых, p-value меньше 0.05, в-третьих, 95%-ный доверительный интервал для оценки коэффициента не накрывает 0. Значит, эффект стоимости жизни на уровень счастья есть, просто небольшой (что понятно, есть много других факторов, которые влияют на ощущение счастья, а мы их в модель не включили).\n",
    "* На уровне доверия 90% ничего не меняется.\n",
    "* На уровне доверия 99% вывод меняется на противоположный, гипотеза о равенстве коэффициента при индексе стоимости жизни нулю не отвергается, так как область достоверных значений [$-2.57$, $2.57$], а $t_{набл} = 2.316$. Плюс, p-value больше 0.01."
   ]
  },
  {
   "cell_type": "markdown",
   "metadata": {},
   "source": [
    "### Задача 6\n",
    "\n",
    "По умолчанию метод `.summary()` вычисляет и выводит границы 95%-ного доверительного интервала для оценки коэффициента. Однако это можно скорректировать, добавив аргумент `alpha` (уровень значимости). Измените уровни доверия на 90% и 99% и выведите новые результаты для модели из предыдущей задачи. Прокомментируйте полученные результаты."
   ]
  },
  {
   "cell_type": "code",
   "execution_count": 11,
   "metadata": {},
   "outputs": [
    {
     "name": "stdout",
     "output_type": "stream",
     "text": [
      "                            OLS Regression Results                            \n",
      "==============================================================================\n",
      "Dep. Variable:        Happiness_Score   R-squared:                       0.073\n",
      "Model:                            OLS   Adj. R-squared:                  0.060\n",
      "Method:                 Least Squares   F-statistic:                     5.365\n",
      "Date:                Tue, 01 Oct 2024   Prob (F-statistic):             0.0236\n",
      "Time:                        12:52:38   Log-Likelihood:                -95.707\n",
      "No. Observations:                  70   AIC:                             195.4\n",
      "Df Residuals:                      68   BIC:                             199.9\n",
      "Df Model:                           1                                         \n",
      "Covariance Type:            nonrobust                                         \n",
      "========================================================================================\n",
      "                           coef    std err          t      P>|t|       [0.05       0.95]\n",
      "----------------------------------------------------------------------------------------\n",
      "Intercept                6.9373      0.225     30.798      0.000       6.562       7.313\n",
      "Cost_of_Living_Index     0.0078      0.003      2.316      0.024       0.002       0.013\n",
      "==============================================================================\n",
      "Omnibus:                        8.660   Durbin-Watson:                   0.387\n",
      "Prob(Omnibus):                  0.013   Jarque-Bera (JB):                9.108\n",
      "Skew:                          -0.883   Prob(JB):                       0.0105\n",
      "Kurtosis:                       2.957   Cond. No.                         130.\n",
      "==============================================================================\n",
      "\n",
      "Warnings:\n",
      "[1] Standard Errors assume that the covariance matrix of the errors is correctly specified.\n"
     ]
    }
   ],
   "source": [
    "# уровень доверия 0.9\n",
    "print(model02.summary(alpha=0.1))"
   ]
  },
  {
   "cell_type": "code",
   "execution_count": 12,
   "metadata": {},
   "outputs": [
    {
     "name": "stdout",
     "output_type": "stream",
     "text": [
      "                            OLS Regression Results                            \n",
      "==============================================================================\n",
      "Dep. Variable:        Happiness_Score   R-squared:                       0.073\n",
      "Model:                            OLS   Adj. R-squared:                  0.060\n",
      "Method:                 Least Squares   F-statistic:                     5.365\n",
      "Date:                Tue, 01 Oct 2024   Prob (F-statistic):             0.0236\n",
      "Time:                        12:52:38   Log-Likelihood:                -95.707\n",
      "No. Observations:                  70   AIC:                             195.4\n",
      "Df Residuals:                      68   BIC:                             199.9\n",
      "Df Model:                           1                                         \n",
      "Covariance Type:            nonrobust                                         \n",
      "========================================================================================\n",
      "                           coef    std err          t      P>|t|      [0.005      0.995]\n",
      "----------------------------------------------------------------------------------------\n",
      "Intercept                6.9373      0.225     30.798      0.000       6.340       7.534\n",
      "Cost_of_Living_Index     0.0078      0.003      2.316      0.024      -0.001       0.017\n",
      "==============================================================================\n",
      "Omnibus:                        8.660   Durbin-Watson:                   0.387\n",
      "Prob(Omnibus):                  0.013   Jarque-Bera (JB):                9.108\n",
      "Skew:                          -0.883   Prob(JB):                       0.0105\n",
      "Kurtosis:                       2.957   Cond. No.                         130.\n",
      "==============================================================================\n",
      "\n",
      "Warnings:\n",
      "[1] Standard Errors assume that the covariance matrix of the errors is correctly specified.\n"
     ]
    }
   ],
   "source": [
    "# уровень доверия 0.99\n",
    "print(model02.summary(alpha=0.01))"
   ]
  },
  {
   "cell_type": "markdown",
   "metadata": {},
   "source": [
    "> Тут интересна выдача для уровня доверия 99%. В дополнение к предыдущим выкладкам, видно, что доверительный интервал накрывает 0, гипотеза о равенстве наклона нулю не отвергается."
   ]
  },
  {
   "cell_type": "markdown",
   "metadata": {},
   "source": [
    "## Часть 2: представление результатов – таблицы\n",
    "\n",
    "В статьях и отчётах выдачи с результатами регрессионного анализа обычно выглядят иначе, чем в Python. Установим библиотеку `stargazer` для экспорта результатов регрессионного анализа в красивом табличном виде:"
   ]
  },
  {
   "cell_type": "code",
   "execution_count": null,
   "metadata": {},
   "outputs": [],
   "source": [
    "!pip install stargazer"
   ]
  },
  {
   "cell_type": "markdown",
   "metadata": {},
   "source": [
    "Импортируем класс `Stargazer`:"
   ]
  },
  {
   "cell_type": "code",
   "execution_count": 13,
   "metadata": {},
   "outputs": [],
   "source": [
    "from stargazer.stargazer import Stargazer"
   ]
  },
  {
   "cell_type": "markdown",
   "metadata": {},
   "source": [
    "С помощью этого класса мы можем подготовить выдачу в табличном виде, поместив необходимые модели внутрь `Stargazer()` в виде списка:"
   ]
  },
  {
   "cell_type": "code",
   "execution_count": 14,
   "metadata": {},
   "outputs": [],
   "source": [
    "stargazer = Stargazer([model01, model02])"
   ]
  },
  {
   "cell_type": "markdown",
   "metadata": {},
   "source": [
    "Посмотрим, что получилось:"
   ]
  },
  {
   "cell_type": "code",
   "execution_count": 15,
   "metadata": {},
   "outputs": [
    {
     "data": {
      "text/html": [
       "<table style=\"text-align:center\"><tr><td colspan=\"3\" style=\"border-bottom: 1px solid black\"></td></tr>\n",
       "<tr><td style=\"text-align:left\"></td><td colspan=\"2\"><em>Dependent variable: Happiness_Score</em></td></tr><tr><td style=\"text-align:left\"></td><tr><td style=\"text-align:left\"></td><td>(1)</td><td>(2)</td></tr>\n",
       "<tr><td colspan=\"3\" style=\"border-bottom: 1px solid black\"></td></tr>\n",
       "\n",
       "<tr><td style=\"text-align:left\">Cost_of_Living_Index</td><td></td><td>0.008<sup>**</sup></td></tr>\n",
       "<tr><td style=\"text-align:left\"></td><td></td><td>(0.003)</td></tr>\n",
       "<tr><td style=\"text-align:left\">Decibel_Level</td><td>-0.074<sup>***</sup></td><td></td></tr>\n",
       "<tr><td style=\"text-align:left\"></td><td>(0.023)</td><td></td></tr>\n",
       "<tr><td style=\"text-align:left\">Intercept</td><td>11.521<sup>***</sup></td><td>6.937<sup>***</sup></td></tr>\n",
       "<tr><td style=\"text-align:left\"></td><td>(1.268)</td><td>(0.225)</td></tr>\n",
       "\n",
       "<td colspan=\"3\" style=\"border-bottom: 1px solid black\"></td></tr>\n",
       "<tr><td style=\"text-align: left\">Observations</td><td>70</td><td>70</td></tr><tr><td style=\"text-align: left\">R<sup>2</sup></td><td>0.136</td><td>0.073</td></tr><tr><td style=\"text-align: left\">Adjusted R<sup>2</sup></td><td>0.123</td><td>0.060</td></tr><tr><td style=\"text-align: left\">Residual Std. Error</td><td>0.930 (df=68)</td><td>0.963 (df=68)</td></tr><tr><td style=\"text-align: left\">F Statistic</td><td>10.715<sup>***</sup> (df=1; 68)</td><td>5.365<sup>**</sup> (df=1; 68)</td></tr>\n",
       "<tr><td colspan=\"3\" style=\"border-bottom: 1px solid black\"></td></tr><tr><td style=\"text-align: left\">Note:</td><td colspan=\"2\" style=\"text-align: right\"><sup>*</sup>p&lt;0.1; <sup>**</sup>p&lt;0.05; <sup>***</sup>p&lt;0.01</td></tr></table>"
      ],
      "text/plain": [
       "<stargazer.stargazer.Stargazer at 0x12e4da210>"
      ]
     },
     "execution_count": 15,
     "metadata": {},
     "output_type": "execute_result"
    }
   ],
   "source": [
    "stargazer"
   ]
  },
  {
   "cell_type": "markdown",
   "metadata": {},
   "source": [
    "**Примечания.** В шапке таблицы указано название зависимой переменной. Здесь в двух моделях одинаковая, индекс счастья. В самой таблице указаны оценки коэффициентов: константа (`Intercept`) и наклон – коэффициент при `Decibel_Level` в первой модели, коэффициент при `Cost_of_Living_Index` во второй модели. В скобках под значениями оценок коэффициентов по умолчанию указываются их стандартные ошибки, однако иногда там указывают наблюдаемое значение t-статистики. Чтобы не было разночтений, обычно об этом пишут в примечаниях к таблице, в строке с *Note*. И, как сообщает примечание в *Note*, звёздочки рядом с коэффициентами отражают их статистическую значимость:\n",
    "\n",
    "* `*` – оценка коэффициента значима на 10% уровне значимости (90% уровне доверия), p-value менее 0.1;\n",
    "* `**` – оценка коэффициента значима на 5% уровне значимости (95% уровне доверия), p-value менее 0.05;\n",
    "* `***` – оценка коэффициента значима на 1% уровне значимости (99% уровне доверия), p-value менее 0.01.\n",
    "\n",
    "Также в таблице указано число наблюдений `Observations` и показатели качества модели, о которых мы будем говорить позже."
   ]
  },
  {
   "cell_type": "markdown",
   "metadata": {},
   "source": [
    "Красивая выдача, каждая модель в отдельном столбце, как обычно и бывает в статьях. Как её выгрузить? Если вы работаете в LaTeX, все просто, метод `.render_latex()` вернёт код LaTeX для таблицы, который можно скопировать:"
   ]
  },
  {
   "cell_type": "code",
   "execution_count": 16,
   "metadata": {},
   "outputs": [
    {
     "name": "stdout",
     "output_type": "stream",
     "text": [
      "\\begin{table}[!htbp] \\centering\n",
      "\\begin{tabular}{@{\\extracolsep{5pt}}lcc}\n",
      "\\\\[-1.8ex]\\hline\n",
      "\\hline \\\\[-1.8ex]\n",
      "& \\multicolumn{2}{c}{\\textit{Dependent variable: Happiness_Score}} \\\n",
      "\\cr \\cline{2-3}\n",
      "\\\\[-1.8ex] & (1) & (2) \\\\\n",
      "\\hline \\\\[-1.8ex]\n",
      " Cost_of_Living_Index & & 0.008$^{**}$ \\\\\n",
      "& & (0.003) \\\\\n",
      " Decibel_Level & -0.074$^{***}$ & \\\\\n",
      "& (0.023) & \\\\\n",
      " Intercept & 11.521$^{***}$ & 6.937$^{***}$ \\\\\n",
      "& (1.268) & (0.225) \\\\\n",
      "\\hline \\\\[-1.8ex]\n",
      " Observations & 70 & 70 \\\\\n",
      " $R^2$ & 0.136 & 0.073 \\\\\n",
      " Adjusted $R^2$ & 0.123 & 0.060 \\\\\n",
      " Residual Std. Error & 0.930 (df=68) & 0.963 (df=68) \\\\\n",
      " F Statistic & 10.715$^{***}$ (df=1; 68) & 5.365$^{**}$ (df=1; 68) \\\\\n",
      "\\hline\n",
      "\\hline \\\\[-1.8ex]\n",
      "\\textit{Note:} & \\multicolumn{2}{r}{$^{*}$p$<$0.1; $^{**}$p$<$0.05; $^{***}$p$<$0.01} \\\\\n",
      "\\end{tabular}\n",
      "\\end{table}\n"
     ]
    }
   ],
   "source": [
    "print(stargazer.render_latex())"
   ]
  },
  {
   "cell_type": "markdown",
   "metadata": {},
   "source": [
    "Если вы работаете в Word, можно вернуть код для таблицы в виде кода HTML:"
   ]
  },
  {
   "cell_type": "code",
   "execution_count": 17,
   "metadata": {},
   "outputs": [
    {
     "name": "stdout",
     "output_type": "stream",
     "text": [
      "<table style=\"text-align:center\"><tr><td colspan=\"3\" style=\"border-bottom: 1px solid black\"></td></tr>\n",
      "<tr><td style=\"text-align:left\"></td><td colspan=\"2\"><em>Dependent variable: Happiness_Score</em></td></tr><tr><td style=\"text-align:left\"></td><tr><td style=\"text-align:left\"></td><td>(1)</td><td>(2)</td></tr>\n",
      "<tr><td colspan=\"3\" style=\"border-bottom: 1px solid black\"></td></tr>\n",
      "\n",
      "<tr><td style=\"text-align:left\">Cost_of_Living_Index</td><td></td><td>0.008<sup>**</sup></td></tr>\n",
      "<tr><td style=\"text-align:left\"></td><td></td><td>(0.003)</td></tr>\n",
      "<tr><td style=\"text-align:left\">Decibel_Level</td><td>-0.074<sup>***</sup></td><td></td></tr>\n",
      "<tr><td style=\"text-align:left\"></td><td>(0.023)</td><td></td></tr>\n",
      "<tr><td style=\"text-align:left\">Intercept</td><td>11.521<sup>***</sup></td><td>6.937<sup>***</sup></td></tr>\n",
      "<tr><td style=\"text-align:left\"></td><td>(1.268)</td><td>(0.225)</td></tr>\n",
      "\n",
      "<td colspan=\"3\" style=\"border-bottom: 1px solid black\"></td></tr>\n",
      "<tr><td style=\"text-align: left\">Observations</td><td>70</td><td>70</td></tr><tr><td style=\"text-align: left\">R<sup>2</sup></td><td>0.136</td><td>0.073</td></tr><tr><td style=\"text-align: left\">Adjusted R<sup>2</sup></td><td>0.123</td><td>0.060</td></tr><tr><td style=\"text-align: left\">Residual Std. Error</td><td>0.930 (df=68)</td><td>0.963 (df=68)</td></tr><tr><td style=\"text-align: left\">F Statistic</td><td>10.715<sup>***</sup> (df=1; 68)</td><td>5.365<sup>**</sup> (df=1; 68)</td></tr>\n",
      "<tr><td colspan=\"3\" style=\"border-bottom: 1px solid black\"></td></tr><tr><td style=\"text-align: left\">Note:</td><td colspan=\"2\" style=\"text-align: right\"><sup>*</sup>p&lt;0.1; <sup>**</sup>p&lt;0.05; <sup>***</sup>p&lt;0.01</td></tr></table>\n"
     ]
    }
   ],
   "source": [
    "print(stargazer.render_html())"
   ]
  },
  {
   "cell_type": "markdown",
   "metadata": {},
   "source": [
    "Далее, в блокноте или прямо в Jupyter (*New – Text File*) можно создать новый текстовый файл с расширением `.htm` и скопировать туда код для таблицы. Это специфический формат, файл и как страницу HTML в браузере можно открыть, и как текст в редакторе в обработанном виде. Если открыть этот файл в браузере, мы увидим готовую свёрстанную таблицу, если открыть с помощью Word или аналогичного текстового редактора, мы увидим таблицу, которую можно редактировать.\n",
    "\n",
    "При необходимости (а часто такая необходимость возникает, хотя бы для того, чтобы вывести значения с точностью до второго знака после точки) можно скорректировать настройки выгружаемых таблиц. Почитать про это можно в [тьюториале](https://github.com/StatsReporting/stargazer/blob/master/examples.ipynb) из официальной [документации](https://pypi.org/project/stargazer/)."
   ]
  },
  {
   "cell_type": "markdown",
   "metadata": {},
   "source": [
    "## Часть 3: ещё про доверительные интервалы\n",
    "\n",
    "В этой части для работы нам потребуется знакомый модуль `stats` из библиотеки `scipy`:"
   ]
  },
  {
   "cell_type": "code",
   "execution_count": 18,
   "metadata": {},
   "outputs": [],
   "source": [
    "from scipy import stats"
   ]
  },
  {
   "cell_type": "markdown",
   "metadata": {},
   "source": [
    "Воспроизведём график для доверительных интервалов из задач для самостоятельного решения типа №2. Для этого построим модель на других данных, искусственно смоделированных (хочется для наглядности получить оценки коэффициентов побольше, и стандартные ошибки тоже):"
   ]
  },
  {
   "cell_type": "code",
   "execution_count": 19,
   "metadata": {},
   "outputs": [
    {
     "name": "stdout",
     "output_type": "stream",
     "text": [
      "                            OLS Regression Results                            \n",
      "==============================================================================\n",
      "Dep. Variable:                      y   R-squared:                       0.992\n",
      "Model:                            OLS   Adj. R-squared:                  0.992\n",
      "Method:                 Least Squares   F-statistic:                     6953.\n",
      "Date:                Tue, 01 Oct 2024   Prob (F-statistic):           4.29e-62\n",
      "Time:                        12:52:55   Log-Likelihood:                -151.71\n",
      "No. Observations:                  60   AIC:                             307.4\n",
      "Df Residuals:                      58   BIC:                             311.6\n",
      "Df Model:                           1                                         \n",
      "Covariance Type:            nonrobust                                         \n",
      "==============================================================================\n",
      "                 coef    std err          t      P>|t|      [0.025      0.975]\n",
      "------------------------------------------------------------------------------\n",
      "Intercept     -0.1128      0.399     -0.283      0.778      -0.911       0.686\n",
      "x              3.0353      0.036     83.384      0.000       2.962       3.108\n",
      "==============================================================================\n",
      "Omnibus:                       25.500   Durbin-Watson:                   2.039\n",
      "Prob(Omnibus):                  0.000   Jarque-Bera (JB):                4.819\n",
      "Skew:                          -0.227   Prob(JB):                       0.0899\n",
      "Kurtosis:                       1.688   Cond. No.                         11.0\n",
      "==============================================================================\n",
      "\n",
      "Warnings:\n",
      "[1] Standard Errors assume that the covariance matrix of the errors is correctly specified.\n"
     ]
    }
   ],
   "source": [
    "x = [10, -3, -20, 8, 18, -19, -3, -13, -5, -19, -7, \n",
    "     16, -9, 14, 6, 18, -8, -8, 18, 5, -14, -15, -7, \n",
    "     12, 11, 10, -10, 14, -20, 6, -3, 4, 1, -14, -13, \n",
    "     -20, -15, 4, -4, -7, -11, -5, 10, 10, 1, 13, -2, \n",
    "     1, 8, 6, -10, 11, -7, 10, 11, -4, -4, -1, 12, -3]\n",
    "\n",
    "y = [25, -5, -60, 27, 58, -56, -14, -35, -17, -55, -21, \n",
    "     47, -24, 46, 19, 58, -29, -24, 55, 10, -40, -43, \n",
    "     -21, 40, 35, 25, -29, 43, -56, 22, -6, 10, 0, -45, \n",
    "     -43, -64, -43, 8, -10, -25, -37, -19, 33, 33, -1, \n",
    "     43, -7, 5, 24, 16, -35, 29, -20, 28, 34, -14, -9, \n",
    "     -2, 35, -12]\n",
    "\n",
    "dat = pd.DataFrame({\"x\" : x, \"y\" : y})\n",
    "mod = ols(\"y ~ x\", dat).fit()\n",
    "print(mod.summary())"
   ]
  },
  {
   "cell_type": "markdown",
   "metadata": {},
   "source": [
    "Извлечём из модели значение оценки коэффициента при `x` (то есть $\\hat{b}_1$), а также её стандартную ошибку (то есть $\\hat{\\sigma}_{\\hat{b}_1}$):"
   ]
  },
  {
   "cell_type": "code",
   "execution_count": 20,
   "metadata": {},
   "outputs": [
    {
     "name": "stdout",
     "output_type": "stream",
     "text": [
      "3.035270503880917 0.03640109711248571\n"
     ]
    }
   ],
   "source": [
    "coef = mod.params[1]\n",
    "se = mod.bse[1]\n",
    "print(coef, se)"
   ]
  },
  {
   "cell_type": "markdown",
   "metadata": {},
   "source": [
    "### Задача 1\n",
    "\n",
    "Используя значения выше и тот факт, что выборка достаточно большая, постройте 95%-ный доверительный интервал для оценки коэффициента регрессии при `x`. Сравните результат с выдачей Python."
   ]
  },
  {
   "cell_type": "code",
   "execution_count": 21,
   "metadata": {},
   "outputs": [
    {
     "data": {
      "text/plain": [
       "(2.9624683096559457, 3.1080726981058886)"
      ]
     },
     "execution_count": 21,
     "metadata": {},
     "output_type": "execute_result"
    }
   ],
   "source": [
    "coef - 2 * se, coef + 2 * se"
   ]
  },
  {
   "cell_type": "markdown",
   "metadata": {},
   "source": [
    "### Задача 2\n",
    "\n",
    "Вычислите границы 95%-ного доверительного интервала из предыдущей задачи, но с более точным t-значением."
   ]
  },
  {
   "cell_type": "code",
   "execution_count": 22,
   "metadata": {},
   "outputs": [
    {
     "data": {
      "text/plain": [
       "(2.9624057913900335, 3.108135216371801)"
      ]
     },
     "execution_count": 22,
     "metadata": {},
     "output_type": "execute_result"
    }
   ],
   "source": [
    "t_crit = stats.t(df = 58).ppf(0.975)\n",
    "coef - t_crit * se, coef + t_crit * se"
   ]
  },
  {
   "cell_type": "markdown",
   "metadata": {},
   "source": [
    "Построим график, визуализирующий 95%-ный доверительный интервал. Для этого запишем в `error` значение предельной ошибки, полученное в предыдущей задаче (t-значение, умноженное на стандартную ошибку):"
   ]
  },
  {
   "cell_type": "code",
   "execution_count": 23,
   "metadata": {},
   "outputs": [
    {
     "data": {
      "image/png": "[encoded data removed]",
      "text/plain": [
       "<Figure size 432x288 with 1 Axes>"
      ]
     },
     "metadata": {
      "needs_background": "light"
     },
     "output_type": "display_data"
    }
   ],
   "source": [
    "error = 2 * se # или t_crit * se\n",
    "plt.scatter(x = coef, y = 1, s = 50);\n",
    "plt.errorbar(x = coef, y = 1, xerr = error);"
   ]
  },
  {
   "cell_type": "markdown",
   "metadata": {},
   "source": [
    "Как из этого графика получить наблюдаемое значение t-статистики? Давайте вычислим его примерное значение, а также p-value, а затем пересчитаем всё точно и сравним результаты!"
   ]
  },
  {
   "cell_type": "code",
   "execution_count": 24,
   "metadata": {},
   "outputs": [
    {
     "name": "stdout",
     "output_type": "stream",
     "text": [
      "86.57142857142848\n"
     ]
    }
   ],
   "source": [
    "# примерно на основе графика\n",
    "\n",
    "coeff = 3.03\n",
    "std_error = (3.10 - 2.96) / 4\n",
    "t_obs = coeff / std_error\n",
    "print(t_obs)"
   ]
  },
  {
   "cell_type": "code",
   "execution_count": 25,
   "metadata": {},
   "outputs": [
    {
     "data": {
      "text/plain": [
       "0.0"
      ]
     },
     "execution_count": 25,
     "metadata": {},
     "output_type": "execute_result"
    }
   ],
   "source": [
    "# можно догадаться, что pvalue=0,\n",
    "# но честно посчитаем\n",
    "\n",
    "2 * (1 - stats.t(df = 58).cdf(t_obs))"
   ]
  }
 ],
 "metadata": {
  "kernelspec": {
   "display_name": "Python 3",
   "language": "python",
   "name": "python3"
  },
  "language_info": {
   "codemirror_mode": {
    "name": "ipython",
    "version": 3
   },
   "file_extension": ".py",
   "mimetype": "text/x-python",
   "name": "python",
   "nbconvert_exporter": "python",
   "pygments_lexer": "ipython3",
   "version": "3.7.4"
  }
 },
 "nbformat": 4,
 "nbformat_minor": 2
}
