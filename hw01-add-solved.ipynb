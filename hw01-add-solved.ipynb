{
 "cells": [
  {
   "cell_type": "markdown",
   "metadata": {},
   "source": [
    "# Введение в регрессионный анализ\n",
    "\n",
    "## Необязательное домашнее задание №1\n",
    "\n",
    "*Алла Тамбовцева*\n",
    "\n",
    "В задачах 1-2 предлагается поработать с файлом `sentiment.csv`, с которым мы работали на семинаре 1.\n",
    "\n",
    "Показатели в файле:\n",
    "\n",
    "* `Text`: текст поста;\n",
    "* `Sentiment`: эмоциональная окраска поста (значения `Positive` и `Negative`);\n",
    "* `Timestamp`: время публикации поста;\n",
    "* `User`: имя пользователя;\n",
    "* `Platform`: платформа (значения `Facebook`, `Instagram`, `Twitter`*);\n",
    "* `Hashtags`: хэштеги;\n",
    "* `Retweets`: число репостов;\n",
    "* `Likes`: число лайков;\n",
    "* `Country`: страна пользователя;\n",
    "* `Year`: год публикации поста;\n",
    "* `Month`: месяц публикации поста;\n",
    "* `Day`: день публикации поста;\n",
    "* `Hour`: час публикации поста.\n",
    "\n",
    "*все три платформы запрещены в РФ."
   ]
  },
  {
   "cell_type": "markdown",
   "metadata": {},
   "source": [
    "### Задача 1. Утро добрым не бывает\n",
    "\n",
    "Так как число лайков, поставленных постам в социальных сетях, зависит, в том числе, от числа просмотров, логично предположить, что утренние посты получают меньше лайков, так как в небольшом промежутке времени после публикации их читает меньшее число пользователей (утром не все ещё проснулись или заняты сборами на работу/на учёбу). Так ли это на самом деле? Подумайте, какие факты можно предложить \n",
    "в качестве контраргументов этому утверждению. \n",
    "\n",
    "А теперь давайте проверим, можно ли считать среднее число лайков одинаковым у утренних и не-утренних постов.\n",
    "\n",
    "1. Загрузите данные из файла `sentiment.csv` и сохраните его в датафрейм.\n",
    "2. Выберите из датафрейма строки, которые соответствуют постам, опубликованным в утреннее время (до 12:00, см. столбец `Hour`), и сохраните их в датафрейм `morning`. Выберите из датафрейма строки, которые соответствуют постам, опубликованным в дневное и вечернее время (с 12:00 и далее), и сохраните их в датафрейм `day`. \n",
    "3. Выведите описательные статистики для числовых столбцов датафрейма `morning`. Проделайте то же для `day`. Каких постов, утренних или не-утренних, больше в имеющихся данных? В какое время дня посты получают больше лайков? \n",
    "4. Используя критерий Стьюдента для двух выборок, проверьте, считая уровень доверия равным 0.95, можно ли считать среднее число лайков у утренних и не-утренних постов одинаковым."
   ]
  },
  {
   "cell_type": "code",
   "execution_count": 1,
   "metadata": {},
   "outputs": [],
   "source": [
    "import pandas as pd\n",
    "from scipy import stats"
   ]
  },
  {
   "cell_type": "code",
   "execution_count": 2,
   "metadata": {},
   "outputs": [],
   "source": [
    "dat = pd.read_csv(\"sentiment.csv\")\n",
    "morning = dat[dat[\"Hour\"] < 12]\n",
    "day = dat[dat[\"Hour\"] >= 12]"
   ]
  },
  {
   "cell_type": "code",
   "execution_count": 3,
   "metadata": {},
   "outputs": [
    {
     "data": {
      "text/html": [
       "<div>\n",
       "<style scoped>\n",
       "    .dataframe tbody tr th:only-of-type {\n",
       "        vertical-align: middle;\n",
       "    }\n",
       "\n",
       "    .dataframe tbody tr th {\n",
       "        vertical-align: top;\n",
       "    }\n",
       "\n",
       "    .dataframe thead th {\n",
       "        text-align: right;\n",
       "    }\n",
       "</style>\n",
       "<table border=\"1\" class=\"dataframe\">\n",
       "  <thead>\n",
       "    <tr style=\"text-align: right;\">\n",
       "      <th></th>\n",
       "      <th>Unnamed: 0</th>\n",
       "      <th>Retweets</th>\n",
       "      <th>Likes</th>\n",
       "      <th>Year</th>\n",
       "      <th>Month</th>\n",
       "      <th>Day</th>\n",
       "      <th>Hour</th>\n",
       "    </tr>\n",
       "  </thead>\n",
       "  <tbody>\n",
       "    <tr>\n",
       "      <th>count</th>\n",
       "      <td>58.000000</td>\n",
       "      <td>58.000000</td>\n",
       "      <td>58.000000</td>\n",
       "      <td>58.000000</td>\n",
       "      <td>58.000000</td>\n",
       "      <td>58.000000</td>\n",
       "      <td>58.000000</td>\n",
       "    </tr>\n",
       "    <tr>\n",
       "      <th>mean</th>\n",
       "      <td>172.706897</td>\n",
       "      <td>19.206897</td>\n",
       "      <td>38.500000</td>\n",
       "      <td>2020.637931</td>\n",
       "      <td>4.120690</td>\n",
       "      <td>16.379310</td>\n",
       "      <td>9.275862</td>\n",
       "    </tr>\n",
       "    <tr>\n",
       "      <th>std</th>\n",
       "      <td>144.090981</td>\n",
       "      <td>6.737584</td>\n",
       "      <td>13.374826</td>\n",
       "      <td>3.364929</td>\n",
       "      <td>3.788614</td>\n",
       "      <td>8.313649</td>\n",
       "      <td>2.117538</td>\n",
       "    </tr>\n",
       "    <tr>\n",
       "      <th>min</th>\n",
       "      <td>1.000000</td>\n",
       "      <td>5.000000</td>\n",
       "      <td>10.000000</td>\n",
       "      <td>2012.000000</td>\n",
       "      <td>1.000000</td>\n",
       "      <td>1.000000</td>\n",
       "      <td>0.000000</td>\n",
       "    </tr>\n",
       "    <tr>\n",
       "      <th>25%</th>\n",
       "      <td>56.500000</td>\n",
       "      <td>15.000000</td>\n",
       "      <td>30.000000</td>\n",
       "      <td>2019.000000</td>\n",
       "      <td>1.250000</td>\n",
       "      <td>11.000000</td>\n",
       "      <td>9.000000</td>\n",
       "    </tr>\n",
       "    <tr>\n",
       "      <th>50%</th>\n",
       "      <td>119.500000</td>\n",
       "      <td>20.000000</td>\n",
       "      <td>40.000000</td>\n",
       "      <td>2023.000000</td>\n",
       "      <td>2.000000</td>\n",
       "      <td>15.500000</td>\n",
       "      <td>10.000000</td>\n",
       "    </tr>\n",
       "    <tr>\n",
       "      <th>75%</th>\n",
       "      <td>307.250000</td>\n",
       "      <td>22.000000</td>\n",
       "      <td>45.000000</td>\n",
       "      <td>2023.000000</td>\n",
       "      <td>6.750000</td>\n",
       "      <td>22.750000</td>\n",
       "      <td>11.000000</td>\n",
       "    </tr>\n",
       "    <tr>\n",
       "      <th>max</th>\n",
       "      <td>596.000000</td>\n",
       "      <td>35.000000</td>\n",
       "      <td>70.000000</td>\n",
       "      <td>2023.000000</td>\n",
       "      <td>12.000000</td>\n",
       "      <td>31.000000</td>\n",
       "      <td>11.000000</td>\n",
       "    </tr>\n",
       "  </tbody>\n",
       "</table>\n",
       "</div>"
      ],
      "text/plain": [
       "       Unnamed: 0   Retweets      Likes         Year      Month        Day  \\\n",
       "count   58.000000  58.000000  58.000000    58.000000  58.000000  58.000000   \n",
       "mean   172.706897  19.206897  38.500000  2020.637931   4.120690  16.379310   \n",
       "std    144.090981   6.737584  13.374826     3.364929   3.788614   8.313649   \n",
       "min      1.000000   5.000000  10.000000  2012.000000   1.000000   1.000000   \n",
       "25%     56.500000  15.000000  30.000000  2019.000000   1.250000  11.000000   \n",
       "50%    119.500000  20.000000  40.000000  2023.000000   2.000000  15.500000   \n",
       "75%    307.250000  22.000000  45.000000  2023.000000   6.750000  22.750000   \n",
       "max    596.000000  35.000000  70.000000  2023.000000  12.000000  31.000000   \n",
       "\n",
       "            Hour  \n",
       "count  58.000000  \n",
       "mean    9.275862  \n",
       "std     2.117538  \n",
       "min     0.000000  \n",
       "25%     9.000000  \n",
       "50%    10.000000  \n",
       "75%    11.000000  \n",
       "max    11.000000  "
      ]
     },
     "execution_count": 3,
     "metadata": {},
     "output_type": "execute_result"
    }
   ],
   "source": [
    "morning.describe()"
   ]
  },
  {
   "cell_type": "code",
   "execution_count": 4,
   "metadata": {},
   "outputs": [
    {
     "data": {
      "text/html": [
       "<div>\n",
       "<style scoped>\n",
       "    .dataframe tbody tr th:only-of-type {\n",
       "        vertical-align: middle;\n",
       "    }\n",
       "\n",
       "    .dataframe tbody tr th {\n",
       "        vertical-align: top;\n",
       "    }\n",
       "\n",
       "    .dataframe thead th {\n",
       "        text-align: right;\n",
       "    }\n",
       "</style>\n",
       "<table border=\"1\" class=\"dataframe\">\n",
       "  <thead>\n",
       "    <tr style=\"text-align: right;\">\n",
       "      <th></th>\n",
       "      <th>Unnamed: 0</th>\n",
       "      <th>Retweets</th>\n",
       "      <th>Likes</th>\n",
       "      <th>Year</th>\n",
       "      <th>Month</th>\n",
       "      <th>Day</th>\n",
       "      <th>Hour</th>\n",
       "    </tr>\n",
       "  </thead>\n",
       "  <tbody>\n",
       "    <tr>\n",
       "      <th>count</th>\n",
       "      <td>267.000000</td>\n",
       "      <td>267.000000</td>\n",
       "      <td>267.000000</td>\n",
       "      <td>267.000000</td>\n",
       "      <td>267.000000</td>\n",
       "      <td>267.000000</td>\n",
       "      <td>267.000000</td>\n",
       "    </tr>\n",
       "    <tr>\n",
       "      <th>mean</th>\n",
       "      <td>421.138577</td>\n",
       "      <td>21.988764</td>\n",
       "      <td>43.752809</td>\n",
       "      <td>2021.468165</td>\n",
       "      <td>6.138577</td>\n",
       "      <td>16.164794</td>\n",
       "      <td>16.767790</td>\n",
       "    </tr>\n",
       "    <tr>\n",
       "      <th>std</th>\n",
       "      <td>243.140418</td>\n",
       "      <td>6.765394</td>\n",
       "      <td>13.519644</td>\n",
       "      <td>2.243185</td>\n",
       "      <td>3.426935</td>\n",
       "      <td>8.815730</td>\n",
       "      <td>2.812167</td>\n",
       "    </tr>\n",
       "    <tr>\n",
       "      <th>min</th>\n",
       "      <td>0.000000</td>\n",
       "      <td>7.000000</td>\n",
       "      <td>15.000000</td>\n",
       "      <td>2015.000000</td>\n",
       "      <td>1.000000</td>\n",
       "      <td>1.000000</td>\n",
       "      <td>12.000000</td>\n",
       "    </tr>\n",
       "    <tr>\n",
       "      <th>25%</th>\n",
       "      <td>193.000000</td>\n",
       "      <td>18.000000</td>\n",
       "      <td>35.000000</td>\n",
       "      <td>2020.000000</td>\n",
       "      <td>3.000000</td>\n",
       "      <td>10.000000</td>\n",
       "      <td>14.000000</td>\n",
       "    </tr>\n",
       "    <tr>\n",
       "      <th>50%</th>\n",
       "      <td>481.000000</td>\n",
       "      <td>22.000000</td>\n",
       "      <td>44.000000</td>\n",
       "      <td>2023.000000</td>\n",
       "      <td>7.000000</td>\n",
       "      <td>16.000000</td>\n",
       "      <td>17.000000</td>\n",
       "    </tr>\n",
       "    <tr>\n",
       "      <th>75%</th>\n",
       "      <td>639.500000</td>\n",
       "      <td>25.000000</td>\n",
       "      <td>50.000000</td>\n",
       "      <td>2023.000000</td>\n",
       "      <td>9.000000</td>\n",
       "      <td>23.000000</td>\n",
       "      <td>19.000000</td>\n",
       "    </tr>\n",
       "    <tr>\n",
       "      <th>max</th>\n",
       "      <td>731.000000</td>\n",
       "      <td>40.000000</td>\n",
       "      <td>80.000000</td>\n",
       "      <td>2023.000000</td>\n",
       "      <td>12.000000</td>\n",
       "      <td>31.000000</td>\n",
       "      <td>23.000000</td>\n",
       "    </tr>\n",
       "  </tbody>\n",
       "</table>\n",
       "</div>"
      ],
      "text/plain": [
       "       Unnamed: 0    Retweets       Likes         Year       Month  \\\n",
       "count  267.000000  267.000000  267.000000   267.000000  267.000000   \n",
       "mean   421.138577   21.988764   43.752809  2021.468165    6.138577   \n",
       "std    243.140418    6.765394   13.519644     2.243185    3.426935   \n",
       "min      0.000000    7.000000   15.000000  2015.000000    1.000000   \n",
       "25%    193.000000   18.000000   35.000000  2020.000000    3.000000   \n",
       "50%    481.000000   22.000000   44.000000  2023.000000    7.000000   \n",
       "75%    639.500000   25.000000   50.000000  2023.000000    9.000000   \n",
       "max    731.000000   40.000000   80.000000  2023.000000   12.000000   \n",
       "\n",
       "              Day        Hour  \n",
       "count  267.000000  267.000000  \n",
       "mean    16.164794   16.767790  \n",
       "std      8.815730    2.812167  \n",
       "min      1.000000   12.000000  \n",
       "25%     10.000000   14.000000  \n",
       "50%     16.000000   17.000000  \n",
       "75%     23.000000   19.000000  \n",
       "max     31.000000   23.000000  "
      ]
     },
     "execution_count": 4,
     "metadata": {},
     "output_type": "execute_result"
    }
   ],
   "source": [
    "day.describe()"
   ]
  },
  {
   "cell_type": "code",
   "execution_count": 5,
   "metadata": {},
   "outputs": [
    {
     "data": {
      "text/plain": [
       "Ttest_indResult(statistic=-2.6870292223141394, pvalue=0.007582218089244583)"
      ]
     },
     "execution_count": 5,
     "metadata": {},
     "output_type": "execute_result"
    }
   ],
   "source": [
    "# выборочное среднее для Likes у утренних постов ниже\n",
    "# статистика критерия попадает в крит область,\n",
    "# H0 о равенстве математических ожиданий отвергается\n",
    "\n",
    "stats.ttest_ind(morning[\"Likes\"], day[\"Likes\"])"
   ]
  },
  {
   "cell_type": "markdown",
   "metadata": {},
   "source": [
    "### Задача 2. Кто популярнее?\n",
    "\n",
    "Ниже приведены два массива значений, в первом из них – выборка числа лайков, поставленных постам, опубликованных пользователями из США, во втором – выборка числа лайков, поставленных постам пользователей из Канады:"
   ]
  },
  {
   "cell_type": "code",
   "execution_count": 6,
   "metadata": {},
   "outputs": [],
   "source": [
    "import numpy as np\n",
    "\n",
    "us = np.array([30, 40, 30, 45, 55, 40, 30, 60, 45, 60, 50, 35, 60, 50, 30, 40, 35,\n",
    "       60, 40, 40, 50, 40, 40, 35, 45, 30, 60, 30, 40, 50, 50, 50, 50, 80,\n",
    "       70, 70, 55, 45, 70, 80, 35, 70, 30, 45, 40, 45, 70, 40, 70, 50, 60,\n",
    "       50, 40, 50, 40, 60, 50, 45, 55, 40, 50, 40, 30, 36, 40, 37, 39, 48,\n",
    "       50, 44, 48, 47, 60, 15, 30, 35, 30, 35, 20, 25, 15, 32, 40, 40, 40,\n",
    "       55, 70, 40, 28, 34, 44, 35, 50, 32, 48])\n",
    "\n",
    "canada = np.array([20, 30, 25, 25, 30, 25, 35, 30, 45, 50, 45, 45, 45, 30, 44, 35, 30,\n",
    "       40, 45, 70, 80, 80, 70, 45, 55, 35, 45, 45, 55, 45, 55, 60, 35, 60,\n",
    "       60, 45, 55, 40, 50, 48, 39, 52, 48, 38, 45, 51, 42, 10, 15, 40, 40,\n",
    "       30, 15, 20, 15, 20, 15, 30, 50, 30, 70, 45, 50, 35, 45, 36, 41, 31,\n",
    "       39, 42, 36, 43])"
   ]
  },
  {
   "cell_type": "markdown",
   "metadata": {},
   "source": [
    "1. Реализуйте критерий Стьюдента для двух выборок, используя приведенные выше выборки и функцию `ttest_ind()` из модуля `stats`. Проинтерпретируйте полученные результаты.\n",
    "2. Вычислите, используя соответствующие методы, средние арифметические выборок (сохраните их как `mean1` и `mean2`) и выборочные стандартные отклонения (сохраните их как `std1` и `std2`). Определите число элементов в выборках и сохраните их как `nobs1` и `nobs2`.\n",
    "3. Реализуйте критерий Стьюдента для двух выборок, используя статистики из предыдущего пункта и функцию `ttest_ind_from_stats()` из модуля `stats`. На вход эта функция принимает перечень готовых описательных статистик для двух групп:\n",
    "\n",
    "        ttest_ind_from_stats(mean1, std1, nobs1, mean2, std2, nobs2)\n",
    "        \n",
    "4. Сравните результаты пунктов 1 и 3. Если они отличаются, проверьте, верно ли вы посчитали стандартные отклонения. \n",
    "5. Используя данные, полученные в пункте 3, вычислите наблюдаемое значение статистики критерия по формуле, предложенной на лекции. Сравните ответ с результатами пунктов 1 и 3."
   ]
  },
  {
   "cell_type": "code",
   "execution_count": 7,
   "metadata": {},
   "outputs": [
    {
     "data": {
      "text/plain": [
       "Ttest_indResult(statistic=1.6935236392925344, pvalue=0.09224281962597743)"
      ]
     },
     "execution_count": 7,
     "metadata": {},
     "output_type": "execute_result"
    }
   ],
   "source": [
    "# H0 не отвергается, средние равны\n",
    "stats.ttest_ind(us, canada)"
   ]
  },
  {
   "cell_type": "code",
   "execution_count": 8,
   "metadata": {},
   "outputs": [
    {
     "data": {
      "text/plain": [
       "Ttest_indResult(statistic=1.6935236392925344, pvalue=0.09224281962597743)"
      ]
     },
     "execution_count": 8,
     "metadata": {},
     "output_type": "execute_result"
    }
   ],
   "source": [
    "mean1 = us.mean()\n",
    "mean2 = canada.mean()\n",
    "std1 = us.std(ddof=1)\n",
    "std2 = canada.std(ddof=1)\n",
    "nobs1 = us.size\n",
    "nobs2 = canada.size\n",
    "\n",
    "# все совпадает\n",
    "stats.ttest_ind_from_stats(mean1, std1, nobs1, mean2, std2, nobs2)"
   ]
  },
  {
   "cell_type": "code",
   "execution_count": 9,
   "metadata": {},
   "outputs": [
    {
     "name": "stdout",
     "output_type": "stream",
     "text": [
      "1.6935236392925344\n"
     ]
    }
   ],
   "source": [
    "s = np.sqrt((std1 ** 2 * (nobs1 - 1) + std2 ** 2 * (nobs2 - 1)) / (nobs1 + nobs2 - 2))\n",
    "t_obs = (mean1 - mean2) / (s * np.sqrt(1 / nobs1 + 1 / nobs2))\n",
    "\n",
    "# все совпадает\n",
    "print(t_obs)"
   ]
  },
  {
   "cell_type": "markdown",
   "metadata": {},
   "source": [
    "### Задача 3*. Угадай регрессию\n",
    "\n",
    "В библиотеке `numpy` есть модуль `random`, который позволяет генерировать случайные числа или выбирать случайным образом элементы из какого-нибудь перечня. Так, мы можем написать простой код, который будет случайным образом извлекать целое число от 1 до 20:"
   ]
  },
  {
   "cell_type": "code",
   "execution_count": 10,
   "metadata": {},
   "outputs": [
    {
     "data": {
      "text/plain": [
       "3"
      ]
     },
     "execution_count": 10,
     "metadata": {},
     "output_type": "execute_result"
    }
   ],
   "source": [
    "import numpy as np\n",
    "\n",
    "# у каждого свое случайное число\n",
    "np.random.choice(range(1, 21))"
   ]
  },
  {
   "cell_type": "markdown",
   "metadata": {},
   "source": [
    "Напишем простую игру, которая будет заключаться в следующем: пользователю показывается график прямой $y = b_0 + b_1x$, а он должен указать значения коэффициентов $b_0$ и $b_1$. Для гуманности все коэффициенты будут целыми числами из диапазона от -3 до 3. \n",
    "Загадать два числа несложно:"
   ]
  },
  {
   "cell_type": "code",
   "execution_count": 11,
   "metadata": {},
   "outputs": [],
   "source": [
    "# берем range(), превращаем в список и выкидываем 0\n",
    "interval = list(range(-3, 4))\n",
    "interval.remove(0)\n",
    "\n",
    "b0 = np.random.choice(interval)\n",
    "b1 = np.random.choice(interval)"
   ]
  },
  {
   "cell_type": "markdown",
   "metadata": {},
   "source": [
    "Прямую можно построить по двум точкам. Создадим массив `x` из значений -2 и 2 и получим массив `y`, пользуясь уравнением прямой:"
   ]
  },
  {
   "cell_type": "code",
   "execution_count": 12,
   "metadata": {},
   "outputs": [
    {
     "name": "stdout",
     "output_type": "stream",
     "text": [
      "[-2  2] [ 3 -1]\n"
     ]
    }
   ],
   "source": [
    "x = np.array([-2, 2])\n",
    "y = b0 + b1 * x\n",
    "print(x, y)"
   ]
  },
  {
   "cell_type": "markdown",
   "metadata": {},
   "source": [
    "Чтобы не вызывать сейчас отдельный модуль для графики, сохраним все в датафрейм по аналогии с семинаром 1:"
   ]
  },
  {
   "cell_type": "code",
   "execution_count": 13,
   "metadata": {},
   "outputs": [
    {
     "data": {
      "text/html": [
       "<div>\n",
       "<style scoped>\n",
       "    .dataframe tbody tr th:only-of-type {\n",
       "        vertical-align: middle;\n",
       "    }\n",
       "\n",
       "    .dataframe tbody tr th {\n",
       "        vertical-align: top;\n",
       "    }\n",
       "\n",
       "    .dataframe thead th {\n",
       "        text-align: right;\n",
       "    }\n",
       "</style>\n",
       "<table border=\"1\" class=\"dataframe\">\n",
       "  <thead>\n",
       "    <tr style=\"text-align: right;\">\n",
       "      <th></th>\n",
       "      <th>x</th>\n",
       "      <th>y</th>\n",
       "    </tr>\n",
       "  </thead>\n",
       "  <tbody>\n",
       "    <tr>\n",
       "      <th>0</th>\n",
       "      <td>-2</td>\n",
       "      <td>3</td>\n",
       "    </tr>\n",
       "    <tr>\n",
       "      <th>1</th>\n",
       "      <td>2</td>\n",
       "      <td>-1</td>\n",
       "    </tr>\n",
       "  </tbody>\n",
       "</table>\n",
       "</div>"
      ],
      "text/plain": [
       "   x  y\n",
       "0 -2  3\n",
       "1  2 -1"
      ]
     },
     "execution_count": 13,
     "metadata": {},
     "output_type": "execute_result"
    }
   ],
   "source": [
    "import pandas as pd\n",
    "df = pd.DataFrame({\"x\" : x, \"y\" : y})\n",
    "df"
   ]
  },
  {
   "cell_type": "markdown",
   "metadata": {},
   "source": [
    "Построим график:"
   ]
  },
  {
   "cell_type": "code",
   "execution_count": 14,
   "metadata": {},
   "outputs": [
    {
     "data": {
      "image/png": "[encoded data removed]",
      "text/plain": [
       "<Figure size 288x288 with 1 Axes>"
      ]
     },
     "metadata": {
      "needs_background": "light"
     },
     "output_type": "display_data"
    }
   ],
   "source": [
    "# figsize – размер графика в дюймах, grid – координатная сетка\n",
    "df.plot(\"x\", \"y\", grid = True, figsize = (4, 4));"
   ]
  },
  {
   "cell_type": "markdown",
   "metadata": {},
   "source": [
    "По такому графику не всегда удобно определять коэффициенты. Давайте добавим побольше засечек. По оси x в любом случае достаточно будет взять целые значения от -2 до 2 (в `x` эти границы), а вот по оси y значения зависят от того, какие коэффициенты загадал Python. Поэтому в `range()` для гарантии результата поместим минимальное и максимальное значение из `y`:"
   ]
  },
  {
   "cell_type": "code",
   "execution_count": 15,
   "metadata": {},
   "outputs": [
    {
     "data": {
      "image/png": "[encoded data removed]",
      "text/plain": [
       "<Figure size 288x288 with 1 Axes>"
      ]
     },
     "metadata": {
      "needs_background": "light"
     },
     "output_type": "display_data"
    }
   ],
   "source": [
    "# сохраняем график в переменную ax\n",
    "# добавляем в него засечки (ticks) по оси x и y\n",
    "\n",
    "ax = df.plot(\"x\", \"y\", grid = True, figsize = (4, 4));\n",
    "ax.set_xticks(range(-2, 3));\n",
    "ax.set_yticks(range(min(y), max(y) + 1));"
   ]
  },
  {
   "cell_type": "markdown",
   "metadata": {},
   "source": [
    "Готово! По графику можно определить значение $b_0$ (значение $y$ при $x=0$) и значение $b_1$ (коэффициент угла наклона). Проверим себя и посмотрим, что загадал Python:"
   ]
  },
  {
   "cell_type": "code",
   "execution_count": 16,
   "metadata": {},
   "outputs": [
    {
     "name": "stdout",
     "output_type": "stream",
     "text": [
      "1 -1\n"
     ]
    }
   ],
   "source": [
    "print(b0, b1)"
   ]
  },
  {
   "cell_type": "markdown",
   "metadata": {},
   "source": [
    "Так и есть! Итого, если собрать весь код в одну программу, получаем:"
   ]
  },
  {
   "cell_type": "code",
   "execution_count": 17,
   "metadata": {},
   "outputs": [
    {
     "data": {
      "image/png": "[encoded data removed]",
      "text/plain": [
       "<Figure size 288x288 with 1 Axes>"
      ]
     },
     "metadata": {
      "needs_background": "light"
     },
     "output_type": "display_data"
    }
   ],
   "source": [
    "import numpy as np\n",
    "import pandas as pd\n",
    "\n",
    "interval = list(range(-3, 4))\n",
    "interval.remove(0)\n",
    "\n",
    "b0 = np.random.choice(interval)\n",
    "b1 = np.random.choice(interval)\n",
    "\n",
    "x = np.array([-2, 2])\n",
    "y = b0 + b1 * x\n",
    "df = pd.DataFrame({\"x\" : x, \"y\" : y})\n",
    "\n",
    "ax = df.plot(\"x\", \"y\", grid = True, figsize = (4, 4));\n",
    "ax.set_xticks(range(-2, 3));\n",
    "ax.set_yticks(range(min(y), max(y) + 1));"
   ]
  },
  {
   "cell_type": "code",
   "execution_count": 18,
   "metadata": {},
   "outputs": [
    {
     "name": "stdout",
     "output_type": "stream",
     "text": [
      "-3 -2\n"
     ]
    }
   ],
   "source": [
    "print(b0, b1)"
   ]
  },
  {
   "cell_type": "markdown",
   "metadata": {},
   "source": [
    "Самый главный код готов, его можно повторно запускать и проверять себя через `print(b0, b1)`. Игру можно сделать более интересной, например, написать цикл, который будет повторять код 10 раз, запрашивать с клавиатуры значения коэффициентов, сравнивать их с `b0` и `b1` и за верные ответы начислять баллы.\n",
    "\n",
    "**Примечание:** `matplotlib` нужен, чтобы выводить график на экран в цикле (`plt.show()`).  "
   ]
  },
  {
   "cell_type": "code",
   "execution_count": null,
   "metadata": {},
   "outputs": [],
   "source": [
    "from matplotlib import pyplot as plt\n",
    "\n",
    "points = 0\n",
    "\n",
    "for i in range(0, 10):\n",
    "    \n",
    "    interval = list(range(-3, 4))\n",
    "    interval.remove(0)\n",
    "\n",
    "    b0 = np.random.choice(interval)\n",
    "    b1 = np.random.choice(interval)\n",
    "\n",
    "    x = np.array([-2, 2])\n",
    "    y = b0 + b1 * x\n",
    "    df = pd.DataFrame({\"x\" : x, \"y\" : y})\n",
    "\n",
    "    ax = df.plot(\"x\", \"y\", grid = True, figsize = (4, 4));\n",
    "    ax.set_xticks(range(-2, 3));\n",
    "    ax.set_yticks(range(min(y), max(y) + 1));\n",
    "    plt.show()\n",
    "    \n",
    "    answer_b0 = float(input(\"Enter b0:\"))\n",
    "    answer_b1 = float(input(\"Enter b1:\"))\n",
    "    \n",
    "    if answer_b0 == b0:\n",
    "        points += 1\n",
    "    else:\n",
    "        print(\"Incorrect b0\")\n",
    "        \n",
    "    if answer_b1 == b1:\n",
    "        points += 1\n",
    "    else:\n",
    "        print(\"Incorrect b1\")\n",
    "    \n",
    "print(\"Your score:\", points)"
   ]
  }
 ],
 "metadata": {
  "kernelspec": {
   "display_name": "Python 3",
   "language": "python",
   "name": "python3"
  },
  "language_info": {
   "codemirror_mode": {
    "name": "ipython",
    "version": 3
   },
   "file_extension": ".py",
   "mimetype": "text/x-python",
   "name": "python",
   "nbconvert_exporter": "python",
   "pygments_lexer": "ipython3",
   "version": "3.7.4"
  }
 },
 "nbformat": 4,
 "nbformat_minor": 2
}
