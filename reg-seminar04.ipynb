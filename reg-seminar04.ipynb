{
 "cells": [
  {
   "cell_type": "markdown",
   "metadata": {},
   "source": [
    "# Введение в регрессионный анализ\n",
    "## Семинар 4. Доверительный интервал для наклона регрессии"
   ]
  },
  {
   "cell_type": "markdown",
   "metadata": {},
   "source": [
    "Импортируем необходимые библиотеки, модули и функции:"
   ]
  },
  {
   "cell_type": "code",
   "execution_count": null,
   "metadata": {},
   "outputs": [],
   "source": [
    "import pandas as pd\n",
    "from matplotlib import pyplot as plt\n",
    "from statsmodels.formula.api import ols"
   ]
  },
  {
   "cell_type": "markdown",
   "metadata": {},
   "source": [
    "В этом практикуме мы будем работать с данными о качестве жизни в крупных городах. Пояснения по столбцам в файле `city24.csv`:\n",
    "    \n",
    "* `city`: название города;\n",
    "* `Decibel_Level`: уровень шума;\n",
    "* `Traffic_Density`: плотность трафика, интенсивность дорожного движения;\n",
    "* `Green_Space_Area`: площадь зелёных насаждений;\n",
    "* `Air_Quality_Index`: индекс качества воздуха (чем выше, тем грязнее воздух);\n",
    "* `Happiness_Score`: индекс счастья;\n",
    "* `Cost_of_Living_Index`: индекс стоимости жизни;\n",
    "* `Healthcare_Index`: индекс качества здравоохранения."
   ]
  },
  {
   "cell_type": "markdown",
   "metadata": {},
   "source": [
    "## Часть 1: описание данных и оценка моделей"
   ]
  },
  {
   "cell_type": "markdown",
   "metadata": {},
   "source": [
    "Загрузите данные из файла `city24.csv` и сохраните их в датафрейм `df`."
   ]
  },
  {
   "cell_type": "code",
   "execution_count": null,
   "metadata": {},
   "outputs": [],
   "source": [
    "### YOUR CODE HERE ###"
   ]
  },
  {
   "cell_type": "markdown",
   "metadata": {},
   "source": [
    "### Задача 1\n",
    "\n",
    "Выберите строки, которые соответствуют городам с низкой или средней транспортной загруженностью (столбец `Traffic_Density`), и сохраните их в датафрейм `chosen`. В последующих заданиях нужно работать именно с этим датафреймом. "
   ]
  },
  {
   "cell_type": "code",
   "execution_count": null,
   "metadata": {},
   "outputs": [],
   "source": [
    "### YOUR CODE HERE ###"
   ]
  },
  {
   "cell_type": "markdown",
   "metadata": {},
   "source": [
    "### Задача 2\n",
    "\n",
    "Отсортируйте строки в датафрейме `chosen` по убыванию значений индекса счастья. Посмотрите на полученные результаты. \n",
    "\n",
    "*Подсказка:* метод `.sort_values()`, применяется к датафрейму, для настройки порядка сортировки используется аргумент `ascending`."
   ]
  },
  {
   "cell_type": "code",
   "execution_count": null,
   "metadata": {},
   "outputs": [],
   "source": [
    "### YOUR CODE HERE ###"
   ]
  },
  {
   "cell_type": "markdown",
   "metadata": {},
   "source": [
    "### Задача 3\n",
    "\n",
    "В дальнейшем анализе нас будут интересовать переменные `Happiness_Score`, `Decibel_Level` и `Cost_of_Living_Index`. Давайте построим гистограммы для визуализации их распределения, только не по-отдельности, а все сразу. Воспользуемся более продвинутым способом построения графиков, обращаясь к функциям модуля `plt`, который мы импортировали из библиотеки `matplotlib`. \n",
    "\n",
    "В этом модуле есть функция `subplots()`, которая создает несколько подграфиков внутри одного изображения. Так, мы можем создать сетку из графиков из одной строки и трех столбцов, то есть поставить три графика в один ряд:"
   ]
  },
  {
   "cell_type": "code",
   "execution_count": null,
   "metadata": {},
   "outputs": [],
   "source": [
    "plt.subplots(nrows = 1, ncols = 3)"
   ]
  },
  {
   "cell_type": "markdown",
   "metadata": {},
   "source": [
    "Пока это набор из трёх пустых координатных плоскостей (осей) внутри одной картинки. Сохраним результаты, возвращённые функцией, в переменные. Так как первый результат – это изображение, его часто называют `fig` (от *figure*). Второй результат – это набор осей, его обычно сокращают до `ax` (*axes*). Заодно установим размер картинки 16 на 9 дюймов:"
   ]
  },
  {
   "cell_type": "code",
   "execution_count": null,
   "metadata": {},
   "outputs": [],
   "source": [
    "fig, axes = plt.subplots(nrows = 1, ncols = 3, figsize = (16, 9));"
   ]
  },
  {
   "cell_type": "markdown",
   "metadata": {},
   "source": [
    "Теперь осталось добавить в каждую координатную плоскость по графику. Гистограмму для `Happiness_Score` поместим в первую плоскость `axes[0]` – код для этого действия уже написан, можете добавить свой цвет заливки в `color`. \n",
    "\n",
    "Дополните код так, чтобы во второй координатной плоскости была гистограмма для `Decibel_Level`, а в третьей – для `Cost_of_Living_Index`. Прокомментируйте полученные гистограммы."
   ]
  },
  {
   "cell_type": "code",
   "execution_count": null,
   "metadata": {},
   "outputs": [],
   "source": [
    "fig, axes = plt.subplots(nrows = 1, ncols = 3, figsize = (16, 9));\n",
    "\n",
    "axes[0].hist(data[\"Happiness_Score\"], color = \"#DE3163\", edgecolor = \"white\");\n",
    "ax[0].set_xlabel(\"Happiness Score\");\n",
    "\n",
    "### YOUR CODE HERE ###"
   ]
  },
  {
   "cell_type": "markdown",
   "metadata": {},
   "source": [
    "### Задача 4\n",
    "\n",
    "Постройте модель линейной регрессии, которая описывает связь между индексом счастья и уровнем шума. Сохраните её в переменную `model01` и выведите на экран полную выдачу с результатами оценки модели. Запишите уравнение модели, приведите содержательную интерпретацию оценок коэффициентов. Можно ли считать, приняв уровень доверия равным 95%, что уровень шума оказывает эффект на уровень счастья? Изменится ли вывод, если мы изменим уровень доверия на 90% или 99%?"
   ]
  },
  {
   "cell_type": "code",
   "execution_count": null,
   "metadata": {},
   "outputs": [],
   "source": [
    "### YOUR CODE HERE ###"
   ]
  },
  {
   "cell_type": "markdown",
   "metadata": {},
   "source": [
    "### Задача 5\n",
    "\n",
    "Постройте модель линейной регрессии, которая описывает связь между индексом счастья и индексом стоимости жизни. Сохраните её в переменную `model02` и выведите на экран полную выдачу с результатами оценки модели. Запишите уравнение модели, приведите содержательную интерпретацию оценок коэффициентов. Можно ли считать, приняв уровень доверия равным 95%, что уровень шума оказывает эффект на уровень счастья? Изменится ли вывод, если мы изменим уровень доверия на 90% или 99%?"
   ]
  },
  {
   "cell_type": "code",
   "execution_count": null,
   "metadata": {},
   "outputs": [],
   "source": [
    "### YOUR CODE HERE ###"
   ]
  },
  {
   "cell_type": "markdown",
   "metadata": {},
   "source": [
    "### Задача 6\n",
    "\n",
    "По умолчанию метод `.summary()` вычисляет и выводит границы 95%-ного доверительного интервала для оценки коэффициента. Однако это можно скорректировать, добавив аргумент `alpha` (уровень значимости). Измените уровни доверия на 90% и 99% и выведите новые результаты для модели из предыдущей задачи. Прокомментируйте полученные результаты."
   ]
  },
  {
   "cell_type": "code",
   "execution_count": null,
   "metadata": {},
   "outputs": [],
   "source": [
    "### YOUR CODE HERE ###"
   ]
  },
  {
   "cell_type": "markdown",
   "metadata": {},
   "source": [
    "## Часть 2: представление результатов – таблицы\n",
    "\n",
    "В статьях и отчётах выдачи с результатами регрессионного анализа обычно выглядят иначе, чем в Python. Установим библиотеку `stargazer` для экспорта результатов регрессионного анализа в красивом табличном виде:"
   ]
  },
  {
   "cell_type": "code",
   "execution_count": null,
   "metadata": {},
   "outputs": [],
   "source": [
    "!pip install stargazer"
   ]
  },
  {
   "cell_type": "markdown",
   "metadata": {},
   "source": [
    "Импортируем класс `Stargazer`:"
   ]
  },
  {
   "cell_type": "code",
   "execution_count": null,
   "metadata": {},
   "outputs": [],
   "source": [
    "from stargazer.stargazer import Stargazer"
   ]
  },
  {
   "cell_type": "markdown",
   "metadata": {},
   "source": [
    "С помощью этого класса мы можем подготовить выдачу в табличном виде, поместив необходимые модели внутрь `Stargazer()` в виде списка:"
   ]
  },
  {
   "cell_type": "code",
   "execution_count": null,
   "metadata": {},
   "outputs": [],
   "source": [
    "stargazer = Stargazer([model01, model02])"
   ]
  },
  {
   "cell_type": "markdown",
   "metadata": {},
   "source": [
    "Посмотрим, что получилось:"
   ]
  },
  {
   "cell_type": "code",
   "execution_count": null,
   "metadata": {},
   "outputs": [],
   "source": [
    "stargazer"
   ]
  },
  {
   "cell_type": "markdown",
   "metadata": {},
   "source": [
    "Красивая выдача, каждая модель в отдельном столбце, как обычно и бывает в статьях. Как её выгрузить? Если вы работаете в LaTeX, все просто, метод `.render_latex()` вернёт код LaTeX для таблицы, который можно скопировать:"
   ]
  },
  {
   "cell_type": "code",
   "execution_count": null,
   "metadata": {},
   "outputs": [],
   "source": [
    "print(stargazer.render_latex())"
   ]
  },
  {
   "cell_type": "markdown",
   "metadata": {},
   "source": [
    "Если вы работаете в Word, можно вернуть код для таблицы в виде кода HTML:"
   ]
  },
  {
   "cell_type": "code",
   "execution_count": null,
   "metadata": {},
   "outputs": [],
   "source": [
    "print(stargazer.render_html())"
   ]
  },
  {
   "cell_type": "markdown",
   "metadata": {},
   "source": [
    "Далее, в блокноте или прямо в Jupyter (*New – Text File*) можно создать новый текстовый файл с расширением `.htm` и скопировать туда код для таблицы. Это специфический формат, файл и как страницу HTML в браузере можно открыть, и как текст в редакторе в обработанном виде. Если открыть этот файл в браузере, мы увидим готовую свёрстанную таблицу, если открыть с помощью Word или аналогичного текстового редактора, мы увидим таблицу, которую можно редактировать.\n",
    "\n",
    "При необходимости (а часто такая необходимость возникает, хотя бы для того, чтобы вывести значения с точностью до второго знака после точки) можно скорректировать настройки выгружаемых таблиц. Почитать про это можно в [тьюториале](https://github.com/StatsReporting/stargazer/blob/master/examples.ipynb) из официальной [документации](https://pypi.org/project/stargazer/)."
   ]
  },
  {
   "cell_type": "markdown",
   "metadata": {},
   "source": [
    "## Часть 3: ещё про доверительные интервалы\n",
    "\n",
    "В этой части для работы нам потребуется знакомый модуль `stats` из библиотеки `scipy`:"
   ]
  },
  {
   "cell_type": "code",
   "execution_count": null,
   "metadata": {},
   "outputs": [],
   "source": [
    "from scipy import stats"
   ]
  },
  {
   "cell_type": "markdown",
   "metadata": {},
   "source": [
    "Воспроизведём график для доверительных интервалов из задач для самостоятельного решения типа №2. Для этого построим модель на других данных, искусственно смоделированных (хочется для наглядности получить оценки коэффициентов побольше, и стандартные ошибки тоже):"
   ]
  },
  {
   "cell_type": "code",
   "execution_count": null,
   "metadata": {},
   "outputs": [],
   "source": [
    "x = [10, -3, -20, 8, 18, -19, -3, -13, -5, -19, -7, \n",
    "     16, -9, 14, 6, 18, -8, -8, 18, 5, -14, -15, -7, \n",
    "     12, 11, 10, -10, 14, -20, 6, -3, 4, 1, -14, -13, \n",
    "     -20, -15, 4, -4, -7, -11, -5, 10, 10, 1, 13, -2, \n",
    "     1, 8, 6, -10, 11, -7, 10, 11, -4, -4, -1, 12, -3]\n",
    "\n",
    "y = [25, -5, -60, 27, 58, -56, -14, -35, -17, -55, -21, \n",
    "     47, -24, 46, 19, 58, -29, -24, 55, 10, -40, -43, \n",
    "     -21, 40, 35, 25, -29, 43, -56, 22, -6, 10, 0, -45, \n",
    "     -43, -64, -43, 8, -10, -25, -37, -19, 33, 33, -1, \n",
    "     43, -7, 5, 24, 16, -35, 29, -20, 28, 34, -14, -9, \n",
    "     -2, 35, -12]\n",
    "\n",
    "dat = pd.DataFrame({\"x\" : x, \"y\" : y})\n",
    "mod = ols(\"y ~ x\", dat).fit()\n",
    "print(mod.summary())"
   ]
  },
  {
   "cell_type": "markdown",
   "metadata": {},
   "source": [
    "Извлечём из модели значение оценки коэффициента при `x` (то есть $\\hat{b}_1$), а также её стандартную ошибку (то есть $\\hat{\\sigma}_{\\hat{b}_1}$):"
   ]
  },
  {
   "cell_type": "code",
   "execution_count": null,
   "metadata": {},
   "outputs": [],
   "source": [
    "coef = mod.params[1]\n",
    "se = mod.HC0_se[1]"
   ]
  },
  {
   "cell_type": "markdown",
   "metadata": {},
   "source": [
    "### Задача 1\n",
    "\n",
    "Используя значения выше и тот факт, что выборка достаточно большая, постройте 95%-ный доверительный интервал для оценки коэффициента регрессии при `x`. Сравните результат с выдачей Python."
   ]
  },
  {
   "cell_type": "code",
   "execution_count": null,
   "metadata": {},
   "outputs": [],
   "source": [
    "### YOUR CODE HERE ###"
   ]
  },
  {
   "cell_type": "markdown",
   "metadata": {},
   "source": [
    "### Задача 2\n",
    "\n",
    "Вычислите границы 95%-ного доверительного интервала из предыдущей задачи, но с более точным t-значением."
   ]
  },
  {
   "cell_type": "code",
   "execution_count": null,
   "metadata": {},
   "outputs": [],
   "source": [
    "### YOUR CODE HERE ###"
   ]
  },
  {
   "cell_type": "markdown",
   "metadata": {},
   "source": [
    "Построим график, визуализирующий 95%-ный доверительный интервал. Для этого запишем в `error` значение предельной ошибки, полученное в предыдущей задаче (t-значение, умноженное на стандартную ошибку):"
   ]
  },
  {
   "cell_type": "code",
   "execution_count": null,
   "metadata": {},
   "outputs": [],
   "source": [
    "# error = ?\n",
    "plt.scatter(x = coef, y = 1, s = 50);\n",
    "plt.errorbar(x = coef, y = 1, xerr = error);"
   ]
  },
  {
   "cell_type": "markdown",
   "metadata": {},
   "source": [
    "Как из этого графика получить наблюдаемое значение t-статистики? Давайте вычислим его примерное значение, а также p-value, а затем пересчитаем всё точно и сравним результаты!"
   ]
  },
  {
   "cell_type": "code",
   "execution_count": null,
   "metadata": {},
   "outputs": [],
   "source": [
    "### YOUR CODE HERE ###"
   ]
  }
 ],
 "metadata": {
  "kernelspec": {
   "display_name": "Python 3",
   "language": "python",
   "name": "python3"
  },
  "language_info": {
   "codemirror_mode": {
    "name": "ipython",
    "version": 3
   },
   "file_extension": ".py",
   "mimetype": "text/x-python",
   "name": "python",
   "nbconvert_exporter": "python",
   "pygments_lexer": "ipython3",
   "version": "3.7.4"
  }
 },
 "nbformat": 4,
 "nbformat_minor": 2
}
