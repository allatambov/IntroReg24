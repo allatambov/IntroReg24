{
 "cells": [
  {
   "cell_type": "markdown",
   "metadata": {},
   "source": [
    "# Введение в регрессионный анализ\n",
    "\n",
    "## Семинар 3. Парная регрессия и проверка гипотез\n",
    "\n",
    "\n",
    "*Алла Тамбовцева*\n",
    "\n",
    "* Парная линейная регрессия с функцией `ols()` из `statsmodels`\n",
    "* Интерпретация результатов оценки модели\n",
    "* Иллюстрация работы центральной предельной теоремы\n"
   ]
  },
  {
   "cell_type": "markdown",
   "metadata": {},
   "source": [
    "Импортируем уже знакомые библиотеки, модули и функции: библиотеку `pandas`, модуль `pyplot` из библиотеки `plt`, функцию `ols()` из библиотеки `statsmodels`:"
   ]
  },
  {
   "cell_type": "code",
   "execution_count": null,
   "metadata": {},
   "outputs": [],
   "source": [
    "import pandas as pd\n",
    "from matplotlib import pyplot as plt\n",
    "from statsmodels.formula.api import ols"
   ]
  },
  {
   "cell_type": "markdown",
   "metadata": {},
   "source": [
    "### Часть 1: парная регрессия и проверка гипотез о коэффициентах"
   ]
  },
  {
   "cell_type": "markdown",
   "metadata": {},
   "source": [
    "В этом практикуме продолжим работать с файлом `salaries.csv` из необязательного домашнего задания №2. Показатели в файле:\n",
    "\n",
    "В этом файле сохранены данные по сотрудникам университета в США, а именно следующие их характеристики:\n",
    "\n",
    "* `rank`: должность;\n",
    "* `discipline`: тип преподаваемой дисциплины (`A` – теоретическая, `B` – практическая);\n",
    "* `phd`: число лет с момента получения степени PhD;\n",
    "* `service`: число лет опыта работы;\n",
    "* `sex`: пол;\n",
    "* `salary`: заработная плата за 9 месяцев, в долларах."
   ]
  },
  {
   "cell_type": "markdown",
   "metadata": {},
   "source": [
    "Загрузите данные из файла и сохраните их в датафрейм `sls`."
   ]
  },
  {
   "cell_type": "code",
   "execution_count": null,
   "metadata": {},
   "outputs": [],
   "source": [
    "### YOUR CODE HERE ###"
   ]
  },
  {
   "cell_type": "markdown",
   "metadata": {},
   "source": [
    "### Задание 1\n",
    "\n",
    "Сгруппируйте строки по типу преподаваемой дисциплины и полу и выведите описательные статистики для:\n",
    "\n",
    "* заработной платы\n",
    "* опыта работы\n",
    "\n",
    "в каждой из полученных групп. Прокомментируйте полученные результаты."
   ]
  },
  {
   "cell_type": "code",
   "execution_count": null,
   "metadata": {},
   "outputs": [],
   "source": [
    "### YOUR CODE HERE ###"
   ]
  },
  {
   "cell_type": "markdown",
   "metadata": {},
   "source": [
    "### Задание 2\n",
    "\n",
    "Выберите строки, соответствующие сотрудникам мужского пола (`Male`), преподающим практические дисциплины (`B`), и сохраните их в датафрейм `sls_male`. Выберите строки, соответствующие сотрудникам женского пола, преподающим практические дисциплины (`B`), и сохраните их в датафрейм `sls_female`."
   ]
  },
  {
   "cell_type": "code",
   "execution_count": null,
   "metadata": {},
   "outputs": [],
   "source": [
    "### YOUR CODE HERE ###"
   ]
  },
  {
   "cell_type": "markdown",
   "metadata": {},
   "source": [
    "### Задание 3\n",
    "\n",
    "Постройте гистограмму для заработной платы сотрудников, преподающих практические дисциплины.\n",
    "\n",
    "* сотрудников мужского пола, преподающих практические дисциплины;\n",
    "* сотрудников женского пола, преподающих практические дисциплины.\n",
    "\n",
    "Прокомментируйте полученные графики – форму распределения заработной платы в каждой группе, возможное наличие/отсутствие нехарактерных значений.\n",
    "\n",
    "**Подсказка**: метод `.hist()`, его можно применить к выбранному столбцу; за цвет заливки отвечает аргумент `color`, за цвет границ столбцов – аргумент `edgecolor`. "
   ]
  },
  {
   "cell_type": "code",
   "execution_count": null,
   "metadata": {},
   "outputs": [],
   "source": [
    "### YOUR CODE HERE ###"
   ]
  },
  {
   "cell_type": "markdown",
   "metadata": {},
   "source": [
    "### Задание 4\n",
    "\n",
    "Постройте ящики с усами для заработной платы:\n",
    "\n",
    "* сотрудников мужского пола, преподающих практические дисциплины;\n",
    "* сотрудников женского пола, преподающих практические дисциплины.\n",
    "\n",
    "Прокомментируйте полученные графики. Если в какой-нибудь из групп встречаются нехарактерные значения заработной платы, удалите их из соответствующего датафрейма (оставьте в нем только строки с характерными значениями заработной платы)."
   ]
  },
  {
   "cell_type": "code",
   "execution_count": null,
   "metadata": {},
   "outputs": [],
   "source": [
    "### YOUR CODE HERE ###"
   ]
  },
  {
   "cell_type": "markdown",
   "metadata": {},
   "source": [
    "### Задание 5\n",
    "\n",
    "Так как сотрудников женского пола в нашей выборке мало, давайте уберем деление по полу. Объединим датафреймы `sls_male` и `sls_female`."
   ]
  },
  {
   "cell_type": "code",
   "execution_count": null,
   "metadata": {},
   "outputs": [],
   "source": [
    "sls_b = pd.concat([sls_male, sls_female])"
   ]
  },
  {
   "cell_type": "markdown",
   "metadata": {},
   "source": [
    "Постройте диаграмму рассеивания для визуализации связи между опытом работы `service` и заработной платой `salary`, расположив независимую переменную по горизонтальной оси, зависимую – по вертикальной.\n",
    "\n",
    "Прокомментируйте полученный график. Можно ли считать связь между опытом работы и заработной платой линейной?"
   ]
  },
  {
   "cell_type": "code",
   "execution_count": null,
   "metadata": {},
   "outputs": [],
   "source": [
    "### YOUR CODE HERE ###"
   ]
  },
  {
   "cell_type": "markdown",
   "metadata": {},
   "source": [
    "### Задание 6\n",
    "\n",
    "Используя данные из датафрейма `sls_b` и функцию `ols()` из библиотеки `statsmodels`, постройте линейную модель, которая описывает связь между опытом работы и заработной платой. Выведите полную выдачу результатов, полученных после оценки модели и проинтерпретируйте полученные результаты: \n",
    "\n",
    "* запишите уравнение полученной модели и поясните, что содержательно означают коэффициенты;\n",
    "* укажите, является ли оценка коэффициента при независимой переменной статистически значимой.\n",
    "\n",
    "*Подсказка:* метод `.summary()`, применяется к модели после оценки с помощью метода `.fit()`."
   ]
  },
  {
   "cell_type": "code",
   "execution_count": null,
   "metadata": {},
   "outputs": [],
   "source": [
    "### YOUR CODE HERE ###"
   ]
  },
  {
   "cell_type": "markdown",
   "metadata": {},
   "source": [
    "### Задание 7\n",
    "\n",
    "Из полученной в предыдущем задании модели извлеките остатки и сохраните их в столбец `resid` датафрейма `sls_b`. Выведите описательные статистики для остатков модели. Постройте для них гистограмму. Что можно сказать о распределении остатков?"
   ]
  },
  {
   "cell_type": "code",
   "execution_count": null,
   "metadata": {},
   "outputs": [],
   "source": [
    "### YOUR CODE HERE ###"
   ]
  },
  {
   "cell_type": "markdown",
   "metadata": {},
   "source": [
    "### Задание 8\n",
    "\n",
    "Постройте диаграмму рассеивания между значениями независимой переменной и остатками модели. Как вы думаете, что может показать такой график, если говорить о выполнении условий Гаусса-Маркова?"
   ]
  },
  {
   "cell_type": "code",
   "execution_count": null,
   "metadata": {},
   "outputs": [],
   "source": [
    "### YOUR CODE HERE ###"
   ]
  },
  {
   "cell_type": "markdown",
   "metadata": {},
   "source": [
    "## Часть 2: центральная предельная теорема"
   ]
  },
  {
   "cell_type": "markdown",
   "metadata": {},
   "source": [
    "Импортируем библиотеку `numpy` и модуль `stats` из библиотеки `scipy`, они нам понадобятся для этой части:"
   ]
  },
  {
   "cell_type": "code",
   "execution_count": null,
   "metadata": {},
   "outputs": [],
   "source": [
    "import numpy as np\n",
    "from scipy import stats"
   ]
  },
  {
   "cell_type": "markdown",
   "metadata": {},
   "source": [
    "В задаче №1а для самостоятельного решения (из недели 3) вам предложено поработать с гамма-распределением. Плотность гамма-распределения можно задать по-разному. Используя один параметр $\\alpha$ (при $x \\geqslant 0$, $\\alpha > 0$):\n",
    "\n",
    "$$\n",
    "f(x, \\alpha) = \\frac{x^{\\alpha-1} e^{-x}}{\\Gamma(\\alpha)}.\n",
    "$$\n",
    "\n",
    "Или два параметра $\\alpha$ и $\\beta$:\n",
    "\n",
    "$$\n",
    "f(x, \\alpha, \\beta) = \\frac{\\beta^\\alpha x^{\\alpha - 1} e^{-\\beta x }}{\\Gamma(\\alpha)}.\n",
    "$$\n",
    "\n",
    "Как можно заметить, при $\\beta=1$ разницы между формулами нет. В модуле `stats` используется первый вариант, с одним параметром $\\alpha$ (чтобы учесть $\\beta$, при работе с распределением нужно добавить аргумент `scale`, равный $1/\\beta$):\n",
    "\n",
    "Создадим с помощью функции `gamma()` случайную величину `x` с параметрами $\\alpha=5$, $\\beta=1$:"
   ]
  },
  {
   "cell_type": "code",
   "execution_count": null,
   "metadata": {},
   "outputs": [],
   "source": [
    "# a = alpha\n",
    "# rv – random variable\n",
    "\n",
    "x = stats.gamma(a = 5)\n",
    "print(type(x)) "
   ]
  },
  {
   "cell_type": "markdown",
   "metadata": {},
   "source": [
    "Чему равно математическое ожидание и стандартное отклонение такой величины?\n",
    "\n",
    "**Подсказка:** $E(X) = \\alpha/\\beta$, $D(X) = \\alpha/\\beta^2$."
   ]
  },
  {
   "cell_type": "code",
   "execution_count": null,
   "metadata": {},
   "outputs": [],
   "source": [
    "### YOUR CODE HERE ###"
   ]
  },
  {
   "cell_type": "markdown",
   "metadata": {},
   "source": [
    "Если мы применим к объекту типа `random variable` методы `.mean()` и `.std()`, мы получим не среднее арифметическое и выборочное стандартное отклонение (пока нет выборки и массива с ее значениями), а математическое ожидание и стандартное отклонение случайной величины:"
   ]
  },
  {
   "cell_type": "code",
   "execution_count": null,
   "metadata": {},
   "outputs": [],
   "source": [
    "ex = x.mean()\n",
    "sx = x.std()\n",
    "print(\"E(X)\", ex)\n",
    "print(\"sd(X)\", sx)"
   ]
  },
  {
   "cell_type": "markdown",
   "metadata": {},
   "source": [
    "Сгенерируем случайную выборку из такой случайной величины объема $n=100$ (у каждого будет своя выборка) и посчитаем ее среднее и стандартное отклонение:"
   ]
  },
  {
   "cell_type": "code",
   "execution_count": null,
   "metadata": {},
   "outputs": [],
   "source": [
    "sample = x.rvs(size = 100)\n",
    "print(sample)\n",
    "\n",
    "### YOUR CODE HERE ###"
   ]
  },
  {
   "cell_type": "markdown",
   "metadata": {},
   "source": [
    "Теперь повторим процедуру извлечения выборок объема $n=100$ пять тысяч раз и на каждой итерации цикла будем вычислять среднее арифметическое и записывать его в список `averages`:"
   ]
  },
  {
   "cell_type": "code",
   "execution_count": null,
   "metadata": {},
   "outputs": [],
   "source": [
    "averages = []\n",
    "for i in range(0, 5000):\n",
    "    sample = x.rvs(size = 100)\n",
    "    ave = sample.mean()\n",
    "    averages.append(ave)"
   ]
  },
  {
   "cell_type": "markdown",
   "metadata": {},
   "source": [
    "Для удобства дальнейшей работы превратим список в массив:"
   ]
  },
  {
   "cell_type": "code",
   "execution_count": null,
   "metadata": {},
   "outputs": [],
   "source": [
    "Averages = np.array(averages)"
   ]
  },
  {
   "cell_type": "markdown",
   "metadata": {},
   "source": [
    "Какое распределение, согласно центральной предельной теореме, имеет выборочное среднее, если мы рассматриваем выборки объема $n=100$ из распределения с математическим ожиданием 5 и стандартным отклонением 2.24? Укажите название и параметры указанного распределения."
   ]
  },
  {
   "cell_type": "code",
   "execution_count": null,
   "metadata": {},
   "outputs": [],
   "source": [
    "### YOUR CODE HERE ###"
   ]
  },
  {
   "cell_type": "markdown",
   "metadata": {},
   "source": [
    "Вычислите среднее и выборочное стандарттное отклонение по массиву `Averages`. Постройте для них гистограмму. Сравните полученные результаты с теми, что были получены «теоретически» на шаге ранее."
   ]
  },
  {
   "cell_type": "code",
   "execution_count": null,
   "metadata": {},
   "outputs": [],
   "source": [
    "### YOUR CODE HERE ###"
   ]
  }
 ],
 "metadata": {
  "kernelspec": {
   "display_name": "Python 3",
   "language": "python",
   "name": "python3"
  },
  "language_info": {
   "codemirror_mode": {
    "name": "ipython",
    "version": 3
   },
   "file_extension": ".py",
   "mimetype": "text/x-python",
   "name": "python",
   "nbconvert_exporter": "python",
   "pygments_lexer": "ipython3",
   "version": "3.7.4"
  }
 },
 "nbformat": 4,
 "nbformat_minor": 2
}
